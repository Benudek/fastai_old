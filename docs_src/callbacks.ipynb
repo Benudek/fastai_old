{
 "cells": [
  {
   "cell_type": "markdown",
   "metadata": {},
   "source": "# List of callbacks"
  },
  {
   "cell_type": "code",
   "execution_count": null,
   "metadata": {
    "hide_input": true
   },
   "outputs": [],
   "source": "from fastai.gen_doc.nbdoc import *\nfrom fastai.callbacks import * \nfrom fastai.basic_train import * \nfrom fastai.train import * \nfrom fastai import callbacks"
  },
  {
   "cell_type": "markdown",
   "metadata": {},
   "source": "fastai's training loop is highly extensible, with a rich *callback* system. See the [`callback`](/callback.html#callback) docs if you're interested in writing your own callback. See below for a list of callbacks that are provided with fastai, grouped by the module they're defined in."
  },
  {
   "cell_type": "markdown",
   "metadata": {},
   "source": "## [`callbacks`](/callbacks.html#callbacks)\n\nThis sub-package contains more sophisticated callbacks that each are in their own module. They are (click the link for more details):\n\n### [`OneCycleScheduler`](/callbacks.one_cycle.html#OneCycleScheduler)\n\nTrain with Leslie Smith's [1cycle annealing](https://sgugger.github.io/the-1cycle-policy.html) method.\n\n### [`MixedPrecision`](/callbacks.fp16.html#MixedPrecision)\n\nUse fp16 to [take advantage of tensor cores](https://docs.nvidia.com/deeplearning/sdk/mixed-precision-training/index.html) on recent NVIDIA GPUs for a 200% or more speedup.\n\n### [`GeneralScheduler`](/callbacks.general_sched.html#GeneralScheduler)\n\nCreate your own multi-stage annealing schemes with a convenient API.\n\n### [`MixUpCallback`](/callbacks.mixup.html#MixUpCallback)\n\nData augmentation using the method from [mixup: Beyond Empirical Risk Minimization](https://arxiv.org/abs/1710.09412)\n\n### [`LRFinder`](/callbacks.lr_finder.html#LRFinder)\n\nUse Leslie Smith's [learning rate finder](https://www.jeremyjordan.me/nn-learning-rate/) to find a good learning rate for training your model.\n\n### [`HookCallback`](/callbacks.hooks.html#HookCallback)\n\nConvenient wrapper for registering and automatically deregistering [PyTorch hooks](https://pytorch.org/tutorials/beginner/former_torchies/nn_tutorial.html#forward-and-backward-function-hooks)."
  },
  {
   "cell_type": "markdown",
   "metadata": {},
   "source": "## [`train`](/train.html#train) and [`basic_train`](/basic_train.html#basic_train)\n\n### [`Recorder`](/basic_train.html#Recorder)\n\nTrack per-batch and per-epoch smoothed losses and metrics.\n\n### [`ShowGraph`](/train.html#ShowGraph)\n\nDynamically display a learning chart during training.\n\n### [`BnFreeze`](/train.html#BnFreeze)\n\nFreeze batchnorm layer moving average statistics for non-trainable layers."
  }
 ],
 "metadata": {
  "kernelspec": {
   "display_name": "Python 3",
   "language": "python",
   "name": "python3"
  }
 },
 "nbformat": 4,
 "nbformat_minor": 2
}
