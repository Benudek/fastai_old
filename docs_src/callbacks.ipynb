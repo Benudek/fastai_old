{
 "cells": [
  {
   "cell_type": "markdown",
   "metadata": {},
   "source": "# callbacks"
  },
  {
   "cell_type": "markdown",
   "metadata": {},
   "source": "Type an introduction of the package here."
  },
  {
   "cell_type": "code",
   "execution_count": null,
   "metadata": {
    "hide_input": true
   },
   "outputs": [],
   "source": "from fastai.gen_doc.nbdoc import *\nfrom fastai.callbacks import * "
  },
  {
   "cell_type": "code",
   "execution_count": null,
   "metadata": {
    "hide_input": true
   },
   "outputs": [],
   "source": "show_doc(F)"
  },
  {
   "cell_type": "markdown",
   "metadata": {},
   "source": "[<code>torch.nn.functional</code>](https://pytorch.org/docs/stable/nn.html#torch-nn-functional)"
  },
  {
   "cell_type": "code",
   "execution_count": null,
   "metadata": {
    "hide_input": true
   },
   "outputs": [],
   "source": "show_doc(PIL)"
  },
  {
   "cell_type": "markdown",
   "metadata": {},
   "source": "`PIL`"
  },
  {
   "cell_type": "code",
   "execution_count": null,
   "metadata": {
    "hide_input": true
   },
   "outputs": [],
   "source": "show_doc(abc)"
  },
  {
   "cell_type": "markdown",
   "metadata": {},
   "source": "<code>collections.abc</code>"
  },
  {
   "cell_type": "code",
   "execution_count": null,
   "metadata": {
    "hide_input": true
   },
   "outputs": [],
   "source": "show_doc(collections)"
  },
  {
   "cell_type": "markdown",
   "metadata": {},
   "source": "`collections`"
  },
  {
   "cell_type": "code",
   "execution_count": null,
   "metadata": {
    "hide_input": true
   },
   "outputs": [],
   "source": "show_doc(csv)"
  },
  {
   "cell_type": "markdown",
   "metadata": {},
   "source": "`csv`"
  },
  {
   "cell_type": "code",
   "execution_count": null,
   "metadata": {
    "hide_input": true
   },
   "outputs": [],
   "source": "show_doc(fp16)"
  },
  {
   "cell_type": "markdown",
   "metadata": {},
   "source": "[<code>fastai.callbacks.fp16</code>](http://docs.fast.ai/callbacks.fp16.html#fastai.callbacks.fp16)"
  },
  {
   "cell_type": "code",
   "execution_count": null,
   "metadata": {
    "hide_input": true
   },
   "outputs": [],
   "source": "show_doc(general_sched)"
  },
  {
   "cell_type": "markdown",
   "metadata": {},
   "source": "[<code>fastai.callbacks.general_sched</code>](http://docs.fast.ai/callbacks.general_sched.html#fastai.callbacks.general_sched)"
  },
  {
   "cell_type": "code",
   "execution_count": null,
   "metadata": {
    "hide_input": true
   },
   "outputs": [],
   "source": "show_doc(gzip)"
  },
  {
   "cell_type": "markdown",
   "metadata": {},
   "source": "`gzip`"
  },
  {
   "cell_type": "code",
   "execution_count": null,
   "metadata": {
    "hide_input": true
   },
   "outputs": [],
   "source": "show_doc(hashlib)"
  },
  {
   "cell_type": "markdown",
   "metadata": {},
   "source": "`hashlib`"
  },
  {
   "cell_type": "code",
   "execution_count": null,
   "metadata": {
    "hide_input": true
   },
   "outputs": [],
   "source": "show_doc(hooks)"
  },
  {
   "cell_type": "markdown",
   "metadata": {},
   "source": "[<code>fastai.callbacks.hooks</code>](http://docs.fast.ai/callbacks.hooks.html#fastai.callbacks.hooks)"
  },
  {
   "cell_type": "code",
   "execution_count": null,
   "metadata": {
    "hide_input": true
   },
   "outputs": [],
   "source": "show_doc(html)"
  },
  {
   "cell_type": "markdown",
   "metadata": {},
   "source": "`html`"
  },
  {
   "cell_type": "code",
   "execution_count": null,
   "metadata": {
    "hide_input": true
   },
   "outputs": [],
   "source": "show_doc(inspect)"
  },
  {
   "cell_type": "markdown",
   "metadata": {},
   "source": "`inspect`"
  },
  {
   "cell_type": "code",
   "execution_count": null,
   "metadata": {
    "hide_input": true
   },
   "outputs": [],
   "source": "show_doc(lr_finder)"
  },
  {
   "cell_type": "markdown",
   "metadata": {},
   "source": "[<code>fastai.callbacks.lr_finder</code>](http://docs.fast.ai/callbacks.lr_finder.html#fastai.callbacks.lr_finder)"
  },
  {
   "cell_type": "code",
   "execution_count": null,
   "metadata": {
    "hide_input": true
   },
   "outputs": [],
   "source": "show_doc(math)"
  },
  {
   "cell_type": "markdown",
   "metadata": {},
   "source": "`math`"
  },
  {
   "cell_type": "code",
   "execution_count": null,
   "metadata": {
    "hide_input": true
   },
   "outputs": [],
   "source": "show_doc(mimetypes)"
  },
  {
   "cell_type": "markdown",
   "metadata": {},
   "source": "`mimetypes`"
  },
  {
   "cell_type": "code",
   "execution_count": null,
   "metadata": {
    "hide_input": true
   },
   "outputs": [],
   "source": "show_doc(mixup)"
  },
  {
   "cell_type": "markdown",
   "metadata": {},
   "source": "[<code>fastai.callbacks.mixup</code>](http://docs.fast.ai/callbacks.mixup.html#fastai.callbacks.mixup)"
  },
  {
   "cell_type": "code",
   "execution_count": null,
   "metadata": {
    "hide_input": true
   },
   "outputs": [],
   "source": "show_doc(nn)"
  },
  {
   "cell_type": "markdown",
   "metadata": {},
   "source": "[<code>torch.nn</code>](https://pytorch.org/docs/stable/nn.html#torch-nn)"
  },
  {
   "cell_type": "code",
   "execution_count": null,
   "metadata": {
    "hide_input": true
   },
   "outputs": [],
   "source": "show_doc(np)"
  },
  {
   "cell_type": "markdown",
   "metadata": {},
   "source": "<code>numpy</code>"
  },
  {
   "cell_type": "code",
   "execution_count": null,
   "metadata": {
    "hide_input": true
   },
   "outputs": [],
   "source": "show_doc(one_cycle)"
  },
  {
   "cell_type": "markdown",
   "metadata": {},
   "source": "[<code>fastai.callbacks.one_cycle</code>](http://docs.fast.ai/callbacks.one_cycle.html#fastai.callbacks.one_cycle)"
  },
  {
   "cell_type": "code",
   "execution_count": null,
   "metadata": {
    "hide_input": true
   },
   "outputs": [],
   "source": "show_doc(operator)"
  },
  {
   "cell_type": "markdown",
   "metadata": {},
   "source": "`operator`"
  },
  {
   "cell_type": "code",
   "execution_count": null,
   "metadata": {
    "hide_input": true
   },
   "outputs": [],
   "source": "show_doc(optim)"
  },
  {
   "cell_type": "markdown",
   "metadata": {},
   "source": "[<code>torch.optim</code>](https://pytorch.org/docs/stable/optim.html#torch.optim.torch.optim)"
  },
  {
   "cell_type": "code",
   "execution_count": null,
   "metadata": {
    "hide_input": true
   },
   "outputs": [],
   "source": "show_doc(os)"
  },
  {
   "cell_type": "markdown",
   "metadata": {},
   "source": "`os`"
  },
  {
   "cell_type": "code",
   "execution_count": null,
   "metadata": {
    "hide_input": true
   },
   "outputs": [],
   "source": "show_doc(patches)"
  },
  {
   "cell_type": "markdown",
   "metadata": {},
   "source": "<code>matplotlib.patches</code>"
  },
  {
   "cell_type": "code",
   "execution_count": null,
   "metadata": {
    "hide_input": true
   },
   "outputs": [],
   "source": "show_doc(patheffects)"
  },
  {
   "cell_type": "markdown",
   "metadata": {},
   "source": "<code>matplotlib.patheffects</code>"
  },
  {
   "cell_type": "code",
   "execution_count": null,
   "metadata": {
    "hide_input": true
   },
   "outputs": [],
   "source": "show_doc(pd)"
  },
  {
   "cell_type": "markdown",
   "metadata": {},
   "source": "<code>pandas</code>"
  },
  {
   "cell_type": "code",
   "execution_count": null,
   "metadata": {
    "hide_input": true
   },
   "outputs": [],
   "source": "show_doc(pickle)"
  },
  {
   "cell_type": "markdown",
   "metadata": {},
   "source": "`pickle`"
  },
  {
   "cell_type": "code",
   "execution_count": null,
   "metadata": {
    "hide_input": true
   },
   "outputs": [],
   "source": "show_doc(plt)"
  },
  {
   "cell_type": "markdown",
   "metadata": {},
   "source": "<code>matplotlib.pyplot</code>"
  },
  {
   "cell_type": "code",
   "execution_count": null,
   "metadata": {
    "hide_input": true
   },
   "outputs": [],
   "source": "show_doc(random)"
  },
  {
   "cell_type": "markdown",
   "metadata": {},
   "source": "`random`"
  },
  {
   "cell_type": "code",
   "execution_count": null,
   "metadata": {
    "hide_input": true
   },
   "outputs": [],
   "source": "show_doc(re)"
  },
  {
   "cell_type": "markdown",
   "metadata": {},
   "source": "`re`"
  },
  {
   "cell_type": "code",
   "execution_count": null,
   "metadata": {
    "hide_input": true
   },
   "outputs": [],
   "source": "show_doc(rnn)"
  },
  {
   "cell_type": "markdown",
   "metadata": {},
   "source": "[<code>fastai.callbacks.rnn</code>](http://docs.fast.ai/callbacks.rnn.html#fastai.callbacks.rnn)"
  },
  {
   "cell_type": "code",
   "execution_count": null,
   "metadata": {
    "hide_input": true
   },
   "outputs": [],
   "source": "show_doc(scipy)"
  },
  {
   "cell_type": "markdown",
   "metadata": {},
   "source": "`scipy`"
  },
  {
   "cell_type": "code",
   "execution_count": null,
   "metadata": {
    "hide_input": true
   },
   "outputs": [],
   "source": "show_doc(shutil)"
  },
  {
   "cell_type": "markdown",
   "metadata": {},
   "source": "`shutil`"
  },
  {
   "cell_type": "code",
   "execution_count": null,
   "metadata": {
    "hide_input": true
   },
   "outputs": [],
   "source": "show_doc(spacy)"
  },
  {
   "cell_type": "markdown",
   "metadata": {},
   "source": "`spacy`"
  },
  {
   "cell_type": "code",
   "execution_count": null,
   "metadata": {
    "hide_input": true
   },
   "outputs": [],
   "source": "show_doc(torch)"
  },
  {
   "cell_type": "markdown",
   "metadata": {},
   "source": "[`torch`](https://pytorch.org/docs/stable/torch.html#torch.torch)"
  },
  {
   "cell_type": "code",
   "execution_count": null,
   "metadata": {
    "hide_input": true
   },
   "outputs": [],
   "source": "show_doc(tvm)"
  },
  {
   "cell_type": "markdown",
   "metadata": {},
   "source": "[<code>torchvision.models</code>](https://pytorch.org/docs/stable/models.html#torchvision.models.torchvision.models)"
  },
  {
   "cell_type": "code",
   "execution_count": null,
   "metadata": {
    "hide_input": true
   },
   "outputs": [],
   "source": "show_doc(typing)"
  },
  {
   "cell_type": "markdown",
   "metadata": {},
   "source": "`typing`"
  },
  {
   "cell_type": "code",
   "execution_count": null,
   "metadata": {
    "hide_input": true
   },
   "outputs": [],
   "source": "show_doc(warnings)"
  },
  {
   "cell_type": "markdown",
   "metadata": {},
   "source": "`warnings`"
  }
 ],
 "metadata": {
  "kernelspec": {
   "display_name": "Python 3",
   "language": "python",
   "name": "python3"
  }
 },
 "nbformat": 4,
 "nbformat_minor": 2
}
