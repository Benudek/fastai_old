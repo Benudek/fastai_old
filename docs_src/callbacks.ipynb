{
 "cells": [
  {
   "cell_type": "markdown",
   "metadata": {},
   "source": [
    "# List of callbacks"
   ]
  },
  {
   "cell_type": "code",
   "execution_count": null,
   "metadata": {
    "hide_input": true
   },
   "outputs": [],
   "source": [
    "from fastai.gen_doc.nbdoc import *\n",
    "from fastai.callbacks import * \n",
    "from fastai.basic_train import * \n",
    "from fastai.train import * \n",
    "from fastai import callbacks"
   ]
  },
  {
   "cell_type": "markdown",
   "metadata": {},
   "source": [
    "fastai's training loop is highly extensible, with a rich *callback* system. See the `callback` docs if you're interested in writing your own callback. See below for a list of callbacks that are provided with fastai, grouped by the module they're defined in."
   ]
  },
  {
   "cell_type": "markdown",
   "metadata": {},
   "source": [
    "## `callbacks`\n",
    "\n",
    "This sub-package contains more sophisticated callbacks that each are in their own module. They are (click the link for more details):\n",
    "\n",
    "### `OneCycleScheduler`\n",
    "\n",
    "Train with Leslie Smith's [1cycle annealing](https://sgugger.github.io/the-1cycle-policy.html) method.\n",
    "\n",
    "### `MixedPrecision`\n",
    "\n",
    "Use fp16 to [take advantage of tensor cores](https://docs.nvidia.com/deeplearning/sdk/mixed-precision-training/index.html) on recent NVIDIA GPUs for a 200% or more speedup.\n",
    "\n",
    "### `GeneralScheduler`\n",
    "\n",
    "Create your own multi-stage annealing schemes with a convenient API.\n",
    "\n",
    "### `MixUpCallback`\n",
    "\n",
    "Data augmentation using the method from [mixup: Beyond Empirical Risk Minimization](https://arxiv.org/abs/1710.09412)\n",
    "\n",
    "### `LRFinder`\n",
    "\n",
    "Use Leslie Smith's [learning rate finder](https://www.jeremyjordan.me/nn-learning-rate/) to find a good learning rate for training your model.\n",
    "\n",
    "### `HookCallback`\n",
    "\n",
    "Convenient wrapper for registering and automatically deregistering [PyTorch hooks](https://pytorch.org/tutorials/beginner/former_torchies/nn_tutorial.html#forward-and-backward-function-hooks)."
   ]
  },
  {
   "cell_type": "markdown",
   "metadata": {},
   "source": [
    "## `train` and `basic_train`\n",
    "\n",
    "### `Recorder`\n",
    "\n",
    "Track per-batch and per-epoch smoothed losses and metrics.\n",
    "\n",
    "### `ShowGraph`\n",
    "\n",
    "Dynamically display a learning chart during training.\n",
    "\n",
    "### `BnFreeze`\n",
    "\n",
    "Freeze batchnorm layer moving average statistics for non-trainable layers."
   ]
  }
 ],
 "metadata": {
  "kernelspec": {
   "display_name": "Python 3",
   "language": "python",
   "name": "python3"
  }
 },
 "nbformat": 4,
 "nbformat_minor": 2
}
