{
 "cells": [
  {
   "cell_type": "markdown",
   "metadata": {},
   "source": "# text"
  },
  {
   "cell_type": "markdown",
   "metadata": {},
   "source": "Type an introduction of the package here."
  },
  {
   "cell_type": "markdown",
   "metadata": {},
   "source": "## `data`"
  },
  {
   "cell_type": "markdown",
   "metadata": {},
   "source": "## `learner`"
  },
  {
   "cell_type": "markdown",
   "metadata": {},
   "source": "## `transform`"
  },
  {
   "cell_type": "code",
   "execution_count": null,
   "metadata": {},
   "outputs": [],
   "source": ""
  }
 ],
 "metadata": {
  "kernelspec": {
   "display_name": "Python 3",
   "language": "python",
   "name": "python3"
  }
 },
 "nbformat": 4,
 "nbformat_minor": 2
}
