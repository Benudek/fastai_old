{
 "cells": [
  {
   "cell_type": "markdown",
   "metadata": {},
   "source": [
    "## Sidebar creation thingy"
   ]
  },
  {
   "cell_type": "markdown",
   "metadata": {},
   "source": [
    "Just a little tool to create the jekyll sidebar from a manually created dict. Here's the dict defining the structure:"
   ]
  },
  {
   "cell_type": "code",
   "execution_count": null,
   "metadata": {},
   "outputs": [],
   "source": [
    "sidebar_d = {\n",
    "    'Core': {\n",
    "        'overview': 'overview.html',\n",
    "        'imports': 'imports.html',\n",
    "        'core': 'core.html',\n",
    "        'torch_core': 'torch_core.html',\n",
    "        'data': 'data.html',\n",
    "        'layers': 'layers.html',\n",
    "        'models': 'models.html',\n",
    "    },\n",
    "    'Training': {\n",
    "        'overview': 'training_overview.html',\n",
    "        'callback': 'callback.html',\n",
    "        'basic_train': 'basic_train.html',\n",
    "        'metrics': 'metrics.html',\n",
    "        'train': 'train.html',\n",
    "        'tta': 'tta.html',\n",
    "        'callbacks': {\n",
    "            'overview': 'callbacks_overview.html',\n",
    "            'callbacks.rnn': 'callbacks.rnn.html',\n",
    "            'callbacks.one_cycle': 'callbacks.one_cycle.html',\n",
    "            'callbacks.mixup': 'callbacks.mixup.html',\n",
    "            'callbacks.lr_finder': 'callbacks.lr_finder.html',\n",
    "            'callbacks.hooks': 'callbacks.hooks.html',\n",
    "            'callbacks.general_sched': 'callbacks.general_sched.html',\n",
    "            'callbacks.fp16': 'callbacks.fp16.html',\n",
    "        },\n",
    "    },\n",
    "    'Applications': {\n",
    "        'overview': 'applications_overview.html',\n",
    "        'colab': 'colab.html',\n",
    "        'text': {\n",
    "            'overview': 'text_overview.html',\n",
    "            'text_learner': 'text_learner.html',\n",
    "            'text.transform': 'text.transform.html',\n",
    "            'text.data': 'text.data.html',\n",
    "        },\n",
    "        'tabular': {\n",
    "            'overview': 'tabular_overview.html',\n",
    "            'tabular.transform': 'tabular.transform.html',\n",
    "            'tabular.data': 'tabular.data.html',\n",
    "        },\n",
    "        'vision': {\n",
    "            'overview': 'vision_overview.html',\n",
    "            'vision_learner': 'vision_learner.html',\n",
    "            'vision.transform': 'vision.transform.html',\n",
    "            'vision.image': 'vision.image.html',\n",
    "            'vision.data': 'vision.data.html',\n",
    "        }\n",
    "    },\n",
    "    'Doc authoring': {\n",
    "        'overview': 'gen_doc_overview.html',\n",
    "        'gen_doc.sgen_notebooks': 'gen_doc.sgen_notebooks.html',\n",
    "        'gen_doc.nbdoc': 'gen_doc.nbdoc.html',\n",
    "        'gen_doc.gen_notebooks': 'gen_doc.gen_notebooks.html',\n",
    "        'gen_doc.convert2html': 'gen_doc.convert2html.html',\n",
    "    }\n",
    "}"
   ]
  },
  {
   "cell_type": "code",
   "execution_count": null,
   "metadata": {},
   "outputs": [],
   "source": []
  }
 ],
 "metadata": {
  "kernelspec": {
   "display_name": "Python 3",
   "language": "python",
   "name": "python3"
  }
 },
 "nbformat": 4,
 "nbformat_minor": 2
}
