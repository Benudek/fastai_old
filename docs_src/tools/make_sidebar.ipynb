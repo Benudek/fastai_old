{
 "cells": [
  {
   "cell_type": "code",
   "execution_count": null,
   "metadata": {},
   "outputs": [],
   "source": [
    "%load_ext autoreload\n",
    "%autoreload 2"
   ]
  },
  {
   "cell_type": "markdown",
   "metadata": {},
   "source": [
    "## Sidebar creation thingy"
   ]
  },
  {
   "cell_type": "markdown",
   "metadata": {},
   "source": [
    "Just a little tool to create the jekyll sidebar from a manually created dict. Here's the dict defining the structure:"
   ]
  },
  {
   "cell_type": "code",
   "execution_count": null,
   "metadata": {},
   "outputs": [],
   "source": [
    "sidebar_d = {\n",
    "    'Core': {\n",
    "        'overview': 'overview.html',\n",
    "        'imports': 'imports.html',\n",
    "        'core': 'core.html',\n",
    "        'torch_core': 'torch_core.html',\n",
    "        'data': 'data.html',\n",
    "        'layers': 'layers.html',\n",
    "        '': {\n",
    "            'models': {\n",
    "                'overview': 'models.html',\n",
    "                'models.rnn': 'models.rnn.html',\n",
    "                'models.unet': 'models.unet.html'\n",
    "            }\n",
    "        }\n",
    "    },\n",
    "    'Training': {\n",
    "        'overview': 'training.html',\n",
    "        'callback': 'callback.html',\n",
    "        'basic_train': 'basic_train.html',\n",
    "        'metrics': 'metrics.html',\n",
    "        'train': 'train.html',\n",
    "        'tta': 'tta.html',\n",
    "        '': {\n",
    "            'callbacks': {\n",
    "                'overview': 'callbacks.html',\n",
    "                'callbacks.rnn': 'callbacks.rnn.html',\n",
    "                'callbacks.one_cycle': 'callbacks.one_cycle.html',\n",
    "                'callbacks.mixup': 'callbacks.mixup.html',\n",
    "                'callbacks.lr_finder': 'callbacks.lr_finder.html',\n",
    "                'callbacks.hooks': 'callbacks.hooks.html',\n",
    "                'callbacks.fp16': 'callbacks.fp16.html',\n",
    "            }\n",
    "        },\n",
    "    },  \n",
    "    'Applications': {\n",
    "        'overview': 'applications.html',\n",
    "        'colab': 'colab.html',\n",
    "        '': {\n",
    "            'text': {\n",
    "                'overview': 'text.html',\n",
    "                'text.learner': 'text.learner.html',\n",
    "                'text.transform': 'text.transform.html',\n",
    "                'text.data': 'text.data.html',\n",
    "            },\n",
    "        },\n",
    "        'empty1': {\n",
    "            'tabular': {\n",
    "                'overview': 'tabular.html',\n",
    "                'tabular.transform': 'tabular.transform.html',\n",
    "                'tabular.data': 'tabular.data.html',\n",
    "            },\n",
    "        },\n",
    "        'empty2': {\n",
    "            'vision': {\n",
    "                'overview': 'vision.html',\n",
    "                'vision.learner': 'vision.learner.html',\n",
    "                'vision.transform': 'vision.transform.html',\n",
    "                'vision.image': 'vision.image.html',\n",
    "                'vision.data': 'vision.data.html',\n",
    "            }\n",
    "        }\n",
    "    },\n",
    "    'Doc authoring': {\n",
    "        'overview': 'gen_doc.html',\n",
    "        'gen_doc.sgen_notebooks': 'gen_doc.sgen_notebooks.html',\n",
    "        'gen_doc.nbdoc': 'gen_doc.nbdoc.html',\n",
    "        'gen_doc.gen_notebooks': 'gen_doc.gen_notebooks.html',\n",
    "        'gen_doc.convert2html': 'gen_doc.convert2html.html',\n",
    "    }\n",
    "}"
   ]
  },
  {
   "cell_type": "code",
   "execution_count": null,
   "metadata": {},
   "outputs": [],
   "source": [
    "test_d = {\n",
    "    'Core': {\n",
    "        'overview': 'overview.html',\n",
    "    },\n",
    "    'Training': {\n",
    "        'callbacks': {\n",
    "            'overview': 'callbacks.html',\n",
    "            'callbacks.rnn': 'callbacks.rnn.html',\n",
    "        },\n",
    "    },\n",
    "}"
   ]
  },
  {
   "cell_type": "code",
   "execution_count": null,
   "metadata": {},
   "outputs": [
    {
     "ename": "FileNotFoundError",
     "evalue": "[Errno 2] No such file or directory: '../../docs/_data/sidebars/home_sidebar.yml.bak'",
     "output_type": "error",
     "traceback": [
      "\u001b[0;31m---------------------------------------------------------------------------\u001b[0m",
      "\u001b[0;31mFileNotFoundError\u001b[0m                         Traceback (most recent call last)",
      "\u001b[0;32m<ipython-input-41-77e6b931cce9>\u001b[0m in \u001b[0;36m<module>\u001b[0;34m()\u001b[0m\n\u001b[0;32m----> 1\u001b[0;31m \u001b[0mt\u001b[0m\u001b[0;34m=\u001b[0m\u001b[0myaml\u001b[0m\u001b[0;34m.\u001b[0m\u001b[0mload\u001b[0m\u001b[0;34m(\u001b[0m\u001b[0mopen\u001b[0m\u001b[0;34m(\u001b[0m\u001b[0;34m'../../docs/_data/sidebars/home_sidebar.yml.bak'\u001b[0m\u001b[0;34m)\u001b[0m\u001b[0;34m)\u001b[0m\u001b[0;34m\u001b[0m\u001b[0m\n\u001b[0m",
      "\u001b[0;31mFileNotFoundError\u001b[0m: [Errno 2] No such file or directory: '../../docs/_data/sidebars/home_sidebar.yml.bak'"
     ]
    }
   ],
   "source": [
    "t=yaml.load(open('../../docs/_data/sidebars/home_sidebar.yml.bak'))"
   ]
  },
  {
   "cell_type": "code",
   "execution_count": null,
   "metadata": {},
   "outputs": [],
   "source": [
    "import yaml"
   ]
  },
  {
   "cell_type": "code",
   "execution_count": null,
   "metadata": {},
   "outputs": [],
   "source": [
    "def _leaf(k,v):\n",
    "    return {'title':k, 'url':v, 'output':'web'}\n",
    "\n",
    "_k_names = ['folders', 'folderitems', 'subfolders', 'subfolderitems']\n",
    "def _side_dict(title, data, level=0):\n",
    "    k_name = _k_names[level]\n",
    "    level += 1\n",
    "    res = [(_side_dict(k, v, level) if isinstance(v,dict) else _leaf(k,v))\n",
    "        for k,v in data.items()]\n",
    "    \n",
    "    return ({k_name:res} if not title\n",
    "            else res if title.startswith('empty')\n",
    "            else {'title': title, 'output':'web', k_name: res})"
   ]
  },
  {
   "cell_type": "code",
   "execution_count": null,
   "metadata": {},
   "outputs": [],
   "source": [
    "res = _side_dict('Sidebar', sidebar_d)\n",
    "res = {'entries': [res]}\n",
    "res_s = yaml.dump(res, default_flow_style=False)\n",
    "res_s = res_s.replace('- subfolders:', '  subfolders:').replace(' - - ', '   - ')"
   ]
  },
  {
   "cell_type": "code",
   "execution_count": null,
   "metadata": {},
   "outputs": [
    {
     "data": {
      "text/plain": [
       "3824"
      ]
     },
     "execution_count": null,
     "metadata": {},
     "output_type": "execute_result"
    }
   ],
   "source": [
    "open('../../docs/_data/sidebars/home_sidebar.yml', 'w').write(res_s)"
   ]
  },
  {
   "cell_type": "code",
   "execution_count": null,
   "metadata": {},
   "outputs": [],
   "source": []
  }
 ],
 "metadata": {
  "kernelspec": {
   "display_name": "Python 3",
   "language": "python",
   "name": "python3"
  }
 },
 "nbformat": 4,
 "nbformat_minor": 2
}
