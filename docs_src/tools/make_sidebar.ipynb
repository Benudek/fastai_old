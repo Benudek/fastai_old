{
 "cells": [
  {
   "cell_type": "code",
   "execution_count": null,
   "metadata": {},
   "outputs": [],
   "source": [
    "%load_ext autoreload\n",
    "%autoreload 2"
   ]
  },
  {
   "cell_type": "markdown",
   "metadata": {},
   "source": [
    "## Sidebar creation thingy"
   ]
  },
  {
   "cell_type": "markdown",
   "metadata": {},
   "source": [
    "Just a little tool to create the jekyll sidebar from a manually created dict. Here's the dict defining the structure:"
   ]
  },
  {
   "cell_type": "code",
   "execution_count": null,
   "metadata": {},
   "outputs": [],
   "source": [
    "sidebar_d = {\n",
    "    'Core': {\n",
    "        'overview': 'overview.html',\n",
    "        'imports': 'imports.html',\n",
    "        'core': 'core.html',\n",
    "        'torch_core': 'torch_core.html',\n",
    "        'data': 'data.html',\n",
    "        'layers': 'layers.html',\n",
    "        'models': 'models.html',\n",
    "    },\n",
    "    'Training': {\n",
    "        'overview': 'training.html',\n",
    "        'callback': 'callback.html',\n",
    "        'basic_train': 'basic_train.html',\n",
    "        'metrics': 'metrics.html',\n",
    "        'train': 'train.html',\n",
    "        'tta': 'tta.html',\n",
    "        'callbacks': {\n",
    "            'overview': 'callbacks.html',\n",
    "            'callbacks.rnn': 'callbacks.rnn.html',\n",
    "            'callbacks.one_cycle': 'callbacks.one_cycle.html',\n",
    "            'callbacks.mixup': 'callbacks.mixup.html',\n",
    "            'callbacks.lr_finder': 'callbacks.lr_finder.html',\n",
    "            'callbacks.hooks': 'callbacks.hooks.html',\n",
    "            'callbacks.general_sched': 'callbacks.general_sched.html',\n",
    "            'callbacks.fp16': 'callbacks.fp16.html',\n",
    "        },\n",
    "    },\n",
    "    'Applications': {\n",
    "        'overview': 'applications.html',\n",
    "        'colab': 'colab.html',\n",
    "        'text': {\n",
    "            'overview': 'text.html',\n",
    "            'text_learner': 'text_learner.html',\n",
    "            'text.transform': 'text.transform.html',\n",
    "            'text.data': 'text.data.html',\n",
    "        },\n",
    "        'tabular': {\n",
    "            'overview': 'tabular.html',\n",
    "            'tabular.transform': 'tabular.transform.html',\n",
    "            'tabular.data': 'tabular.data.html',\n",
    "        },\n",
    "        'vision': {\n",
    "            'overview': 'vision.html',\n",
    "            'vision_learner': 'vision_learner.html',\n",
    "            'vision.transform': 'vision.transform.html',\n",
    "            'vision.image': 'vision.image.html',\n",
    "            'vision.data': 'vision.data.html',\n",
    "        }\n",
    "    },\n",
    "    'Doc authoring': {\n",
    "        'overview': 'gen_doc.html',\n",
    "        'gen_doc.sgen_notebooks': 'gen_doc.sgen_notebooks.html',\n",
    "        'gen_doc.nbdoc': 'gen_doc.nbdoc.html',\n",
    "        'gen_doc.gen_notebooks': 'gen_doc.gen_notebooks.html',\n",
    "        'gen_doc.convert2html': 'gen_doc.convert2html.html',\n",
    "    }\n",
    "}"
   ]
  },
  {
   "cell_type": "code",
   "execution_count": null,
   "metadata": {},
   "outputs": [],
   "source": [
    "def _needs_slash(string):  \n",
    "    \"Checks if a line is 'title' and concatenates a slash if it is.\"\n",
    "    slash =''\n",
    "    if str(string) == 'title': slash == '- '\n",
    "    return slash"
   ]
  },
  {
   "cell_type": "code",
   "execution_count": null,
   "metadata": {},
   "outputs": [],
   "source": [
    "def _get_line(data, slash, key, key2=None, key3=None):\n",
    "    \"Writes down a line of the sidebar.\"\n",
    "    if key2 and key3:\n",
    "        return ('\\t\\t'+str(slash)+str(key3)+str(': ')+str(data[key][key2][key3])+'\\n').strip('\\'')\n",
    "    elif key2:\n",
    "        return ('\\t'+str(slash)+str(key2)+': '+str(data[key][key2])+'\\n').strip('\\'')\n",
    "    else:\n",
    "        return (str(key)+':\\n').strip('\\'')"
   ]
  },
  {
   "cell_type": "code",
   "execution_count": null,
   "metadata": {},
   "outputs": [],
   "source": [
    "def _get_sidebar(data):\n",
    "    \"Builds a yaml sidebar from a dictionary of sections.\"\n",
    "    res = ''\n",
    "    for key in data:\n",
    "        slash = _needs_slash(key)\n",
    "        res += _get_line(data, slash, key)\n",
    "        for key2 in data[key]:\n",
    "            if type(data[key][key2]) == str:\n",
    "                slash = _needs_slash(key2)\n",
    "                res += _get_line(data, slash, key, key2)\n",
    "            elif type(data[key][key2]) == dict:\n",
    "                slash = _needs_slash(key2)\n",
    "                for key3 in data[key][key2]:\n",
    "                    slash = _needs_slash(key3)\n",
    "                    res += _get_line(data, slash, key, key2, key3)\n",
    "                    \n",
    "    return res"
   ]
  },
  {
   "cell_type": "code",
   "execution_count": null,
   "metadata": {},
   "outputs": [],
   "source": [
    "test_d = {\n",
    "    'Core': {\n",
    "        'overview': 'overview.html',\n",
    "    },\n",
    "    'Training': {\n",
    "        'callbacks': {\n",
    "            'overview': 'callbacks.html',\n",
    "            'callbacks.rnn': 'callbacks.rnn.html',\n",
    "        },\n",
    "    },\n",
    "}"
   ]
  },
  {
   "cell_type": "code",
   "execution_count": null,
   "metadata": {},
   "outputs": [
    {
     "ename": "ModuleNotFoundError",
     "evalue": "No module named 'oyaml'",
     "output_type": "error",
     "traceback": [
      "\u001b[0;31m---------------------------------------------------------------------------\u001b[0m",
      "\u001b[0;31mModuleNotFoundError\u001b[0m                       Traceback (most recent call last)",
      "\u001b[0;32m<ipython-input-1-3ae34a9bb7a1>\u001b[0m in \u001b[0;36m<module>\u001b[0;34m()\u001b[0m\n\u001b[0;32m----> 1\u001b[0;31m \u001b[0;32mimport\u001b[0m \u001b[0moyaml\u001b[0m \u001b[0;32mas\u001b[0m \u001b[0myaml\u001b[0m\u001b[0;34m\u001b[0m\u001b[0m\n\u001b[0m\u001b[1;32m      2\u001b[0m \u001b[0;32mfrom\u001b[0m \u001b[0mcollections\u001b[0m \u001b[0;32mimport\u001b[0m \u001b[0mOrderedDict\u001b[0m\u001b[0;34m\u001b[0m\u001b[0m\n",
      "\u001b[0;31mModuleNotFoundError\u001b[0m: No module named 'oyaml'"
     ]
    }
   ],
   "source": [
    "import oyaml as yaml\n",
    "from collections import OrderedDict"
   ]
  },
  {
   "cell_type": "code",
   "execution_count": null,
   "metadata": {},
   "outputs": [
    {
     "data": {
      "text/plain": [
       "[('title', 'k'), ('url', 'v'), ('output', 'web')]"
      ]
     },
     "execution_count": null,
     "metadata": {},
     "output_type": "execute_result"
    }
   ],
   "source": [
    "list(OrderedDict({'title':'k', 'url':'v', 'output':'web'}).items())"
   ]
  },
  {
   "cell_type": "code",
   "execution_count": null,
   "metadata": {},
   "outputs": [
    {
     "data": {
      "text/plain": [
       "[('title', 'k'), ('url', 'v'), ('output', 'web')]"
      ]
     },
     "execution_count": null,
     "metadata": {},
     "output_type": "execute_result"
    }
   ],
   "source": [
    "list(OrderedDict([('title','k'), ('url','v'), ('output','web')]).items())"
   ]
  },
  {
   "cell_type": "code",
   "execution_count": null,
   "metadata": {},
   "outputs": [],
   "source": [
    "def _leaf(k,v):\n",
    "    return OrderedDict({'title':k, 'url':v, 'output':'web'})\n",
    "\n",
    "_k_names = ['folders', 'folderitems', 'subfolders', 'subfolderitems']\n",
    "def _side_dict(title, data, level=0):\n",
    "    k_name = _k_names[level]\n",
    "    level += 1\n",
    "    res = []\n",
    "    for k,v in data.items():\n",
    "        res.append(_side_dict(k, v, level) if isinstance(v,dict) else _leaf(k,v))\n",
    "        \n",
    "    return {'title': title, k_name: res}"
   ]
  },
  {
   "cell_type": "code",
   "execution_count": null,
   "metadata": {},
   "outputs": [
    {
     "name": "stdout",
     "output_type": "stream",
     "text": [
      "entries:\n",
      "- folders:\n",
      "  - folderitems:\n",
      "    - !!python/object/apply:collections.OrderedDict\n",
      "      - - - title\n",
      "          - overview\n",
      "        - - url\n",
      "          - overview.html\n",
      "        - - output\n",
      "          - web\n",
      "    title: Core\n",
      "  - folderitems:\n",
      "    - subfolders:\n",
      "      - !!python/object/apply:collections.OrderedDict\n",
      "        - - - title\n",
      "            - overview\n",
      "          - - url\n",
      "            - callbacks.html\n",
      "          - - output\n",
      "            - web\n",
      "      - !!python/object/apply:collections.OrderedDict\n",
      "        - - - title\n",
      "            - callbacks.rnn\n",
      "          - - url\n",
      "            - callbacks.rnn.html\n",
      "          - - output\n",
      "            - web\n",
      "      title: callbacks\n",
      "    title: Training\n",
      "  title: Sidebar\n",
      "\n"
     ]
    }
   ],
   "source": [
    "res = _side_dict('Sidebar', test_d)\n",
    "res = {'entries': [res]}\n",
    "print(yaml.dump(res, default_flow_style=False))"
   ]
  },
  {
   "cell_type": "code",
   "execution_count": null,
   "metadata": {},
   "outputs": [],
   "source": [
    "def build_sidebar(data, file_name):\n",
    "    \"Builds a yaml sidebar from a dictionary of sections.\"\n",
    "    with open(file_name+'.yml', \"w\") as text_file:\n",
    "        for key in data:\n",
    "            slash = needs_slash(key)\n",
    "            write_line(data, text_file, slash, key)\n",
    "            for key2 in data[key]:\n",
    "                if type(data[key][key2]) == str:\n",
    "                    slash = needs_slash(key2)\n",
    "                    write_line(data, text_file, slash, key, key2)\n",
    "                elif type(data[key][key2]) == dict:\n",
    "                    slash = needs_slash(key2)\n",
    "                    for key3 in data[key][key2]:\n",
    "                        slash = needs_slash(key3)\n",
    "                        write_line(data, text_file, slash, key, key2, key3)"
   ]
  },
  {
   "cell_type": "code",
   "execution_count": null,
   "metadata": {},
   "outputs": [],
   "source": [
    "build_sidebar(sidebar_d, 'sidebar_test')"
   ]
  }
 ],
 "metadata": {
  "kernelspec": {
   "display_name": "Python 3",
   "language": "python",
   "name": "python3"
  }
 },
 "nbformat": 4,
 "nbformat_minor": 2
}
