{
 "cells": [
  {
   "cell_type": "code",
   "execution_count": null,
   "metadata": {},
   "outputs": [],
   "source": [
    "%load_ext autoreload\n",
    "%autoreload 2"
   ]
  },
  {
   "cell_type": "markdown",
   "metadata": {},
   "source": [
    "## Sidebar creation thingy"
   ]
  },
  {
   "cell_type": "markdown",
   "metadata": {},
   "source": [
    "Just a little tool to create the jekyll sidebar from a manually created dict. Here's the dict defining the structure:"
   ]
  },
  {
   "cell_type": "code",
   "execution_count": null,
   "metadata": {},
   "outputs": [],
   "source": [
    "sidebar_d = {\n",
    "    'Core': {\n",
    "        'overview': 'overview.html',\n",
    "        'imports': 'imports.html',\n",
    "        'core': 'core.html',\n",
    "        'torch_core': 'torch_core.html',\n",
    "        'data': 'data.html',\n",
    "        'layers': 'layers.html',\n",
    "        'models': 'models.html',\n",
    "    },\n",
    "    'Training': {\n",
    "        'overview': 'training.html',\n",
    "        'callback': 'callback.html',\n",
    "        'basic_train': 'basic_train.html',\n",
    "        'metrics': 'metrics.html',\n",
    "        'train': 'train.html',\n",
    "        'tta': 'tta.html',\n",
    "        '': {\n",
    "            'callbacks': {\n",
    "                'overview': 'callbacks.html',\n",
    "                'callbacks.rnn': 'callbacks.rnn.html',\n",
    "                'callbacks.one_cycle': 'callbacks.one_cycle.html',\n",
    "                'callbacks.mixup': 'callbacks.mixup.html',\n",
    "                'callbacks.lr_finder': 'callbacks.lr_finder.html',\n",
    "                'callbacks.hooks': 'callbacks.hooks.html',\n",
    "                'callbacks.general_sched': 'callbacks.general_sched.html',\n",
    "                'callbacks.fp16': 'callbacks.fp16.html',\n",
    "            }\n",
    "        },\n",
    "    },\n",
    "    'Applications': {\n",
    "        'overview': 'applications.html',\n",
    "        'colab': 'colab.html',\n",
    "        '': {\n",
    "            'text': {\n",
    "                'overview': 'text.html',\n",
    "                'text_learner': 'text_learner.html',\n",
    "                'text.transform': 'text.transform.html',\n",
    "                'text.data': 'text.data.html',\n",
    "            },\n",
    "        },\n",
    "        '': {\n",
    "            'tabular': {\n",
    "                'overview': 'tabular.html',\n",
    "                'tabular.transform': 'tabular.transform.html',\n",
    "                'tabular.data': 'tabular.data.html',\n",
    "            },\n",
    "        },\n",
    "        '': {\n",
    "            'vision': {\n",
    "                'overview': 'vision.html',\n",
    "                'vision_learner': 'vision_learner.html',\n",
    "                'vision.transform': 'vision.transform.html',\n",
    "                'vision.image': 'vision.image.html',\n",
    "                'vision.data': 'vision.data.html',\n",
    "            }\n",
    "        }\n",
    "    },\n",
    "    'Doc authoring': {\n",
    "        'overview': 'gen_doc.html',\n",
    "        'gen_doc.sgen_notebooks': 'gen_doc.sgen_notebooks.html',\n",
    "        'gen_doc.nbdoc': 'gen_doc.nbdoc.html',\n",
    "        'gen_doc.gen_notebooks': 'gen_doc.gen_notebooks.html',\n",
    "        'gen_doc.convert2html': 'gen_doc.convert2html.html',\n",
    "    }\n",
    "}"
   ]
  },
  {
   "cell_type": "code",
   "execution_count": null,
   "metadata": {},
   "outputs": [],
   "source": [
    "test_d = {\n",
    "    'Core': {\n",
    "        'overview': 'overview.html',\n",
    "    },\n",
    "    'Training': {\n",
    "        'callbacks': {\n",
    "            'overview': 'callbacks.html',\n",
    "            'callbacks.rnn': 'callbacks.rnn.html',\n",
    "        },\n",
    "    },\n",
    "}"
   ]
  },
  {
   "cell_type": "code",
   "execution_count": null,
   "metadata": {},
   "outputs": [],
   "source": [
    "t=yaml.load(open('../../docs/_data/sidebars/mydoc_sidebar.yml'))"
   ]
  },
  {
   "cell_type": "code",
   "execution_count": null,
   "metadata": {},
   "outputs": [
    {
     "data": {
      "text/plain": [
       "(1, dict_keys(['title', 'url', 'output', 'subfolders']))"
      ]
     },
     "execution_count": null,
     "metadata": {},
     "output_type": "execute_result"
    }
   ],
   "source": [
    "a1 = t['entries'][0]['folders'][-1]['folderitems']\n",
    "len(a1), a1[-1].keys()\n",
    "# print(yaml.dump(res, default_flow_style=False))"
   ]
  },
  {
   "cell_type": "code",
   "execution_count": null,
   "metadata": {},
   "outputs": [
    {
     "data": {
      "text/plain": [
       "[{'title': 'Tag archives overview',\n",
       "  'url': '/mydoc_tag_archives_overview.html',\n",
       "  'output': 'web',\n",
       "  'subfolders': [{'title': 'Tag archive pages',\n",
       "    'output': 'web',\n",
       "    'subfolderitems': [{'title': 'Formatting pages',\n",
       "      'url': '/tag_formatting.html',\n",
       "      'output': 'web'},\n",
       "     {'title': 'Navigation pages',\n",
       "      'url': '/tag_navigation.html',\n",
       "      'output': 'web'},\n",
       "     {'title': 'Content types pages',\n",
       "      'url': '/tag_content_types.html',\n",
       "      'output': 'web'},\n",
       "     {'title': 'Publishing pages',\n",
       "      'url': '/tag_publishing.html',\n",
       "      'output': 'web'},\n",
       "     {'title': 'Special layout pages',\n",
       "      'url': '/tag_special_layouts.html',\n",
       "      'output': 'web'},\n",
       "     {'title': 'Collaboration pages',\n",
       "      'url': '/tag_collaboration.html',\n",
       "      'output': 'web'},\n",
       "     {'title': 'Troubleshooting pages',\n",
       "      'url': '/tag_troubleshooting.html',\n",
       "      'output': 'web'}]}]}]"
      ]
     },
     "execution_count": null,
     "metadata": {},
     "output_type": "execute_result"
    }
   ],
   "source": [
    "a1"
   ]
  },
  {
   "cell_type": "code",
   "execution_count": null,
   "metadata": {},
   "outputs": [
    {
     "data": {
      "text/plain": [
       "(7, dict_keys(['title', 'output', 'subfolders']))"
      ]
     },
     "execution_count": null,
     "metadata": {},
     "output_type": "execute_result"
    }
   ],
   "source": [
    "a2 = res['entries'][0]['folders'][1]['folderitems']\n",
    "len(a2), a2[-1].keys()\n",
    "# print(yaml.dump(res, default_flow_style=False))"
   ]
  },
  {
   "cell_type": "code",
   "execution_count": null,
   "metadata": {},
   "outputs": [
    {
     "data": {
      "text/plain": [
       "[{'title': 'overview', 'url': 'training.html', 'output': 'web'},\n",
       " {'title': 'callback', 'url': 'callback.html', 'output': 'web'},\n",
       " {'title': 'basic_train', 'url': 'basic_train.html', 'output': 'web'},\n",
       " {'title': 'metrics', 'url': 'metrics.html', 'output': 'web'},\n",
       " {'title': 'train', 'url': 'train.html', 'output': 'web'},\n",
       " {'title': 'tta', 'url': 'tta.html', 'output': 'web'},\n",
       " {'title': 'callbacks',\n",
       "  'output': 'web',\n",
       "  'subfolders': [{'title': 'overview',\n",
       "    'url': 'callbacks.html',\n",
       "    'output': 'web'},\n",
       "   {'title': 'callbacks.rnn', 'url': 'callbacks.rnn.html', 'output': 'web'},\n",
       "   {'title': 'callbacks.one_cycle',\n",
       "    'url': 'callbacks.one_cycle.html',\n",
       "    'output': 'web'},\n",
       "   {'title': 'callbacks.mixup',\n",
       "    'url': 'callbacks.mixup.html',\n",
       "    'output': 'web'},\n",
       "   {'title': 'callbacks.lr_finder',\n",
       "    'url': 'callbacks.lr_finder.html',\n",
       "    'output': 'web'},\n",
       "   {'title': 'callbacks.hooks',\n",
       "    'url': 'callbacks.hooks.html',\n",
       "    'output': 'web'},\n",
       "   {'title': 'callbacks.general_sched',\n",
       "    'url': 'callbacks.general_sched.html',\n",
       "    'output': 'web'},\n",
       "   {'title': 'callbacks.fp16',\n",
       "    'url': 'callbacks.fp16.html',\n",
       "    'output': 'web'}]}]"
      ]
     },
     "execution_count": null,
     "metadata": {},
     "output_type": "execute_result"
    }
   ],
   "source": [
    "a2"
   ]
  },
  {
   "cell_type": "code",
   "execution_count": null,
   "metadata": {},
   "outputs": [],
   "source": [
    "import yaml"
   ]
  },
  {
   "cell_type": "code",
   "execution_count": null,
   "metadata": {},
   "outputs": [],
   "source": [
    "def _leaf(k,v):\n",
    "    return {'title':k, 'url':v, 'output':'web'}\n",
    "\n",
    "_k_names = ['folders', 'folderitems', 'subfolders', 'subfolderitems']\n",
    "def _side_dict(title, data, level=0):\n",
    "    k_name = _k_names[level]\n",
    "    level += 1\n",
    "    res = []\n",
    "    for k,v in data.items():\n",
    "        res.append(_side_dict(k, v, level) if isinstance(v,dict) else _leaf(k,v))\n",
    "        \n",
    "    return {'title': title, 'output':'web', k_name: res}"
   ]
  },
  {
   "cell_type": "code",
   "execution_count": null,
   "metadata": {},
   "outputs": [
    {
     "name": "stdout",
     "output_type": "stream",
     "text": [
      "entries:\n",
      "- folders:\n",
      "  - folderitems:\n",
      "    - output: web\n",
      "      title: overview\n",
      "      url: overview.html\n",
      "    - output: web\n",
      "      title: imports\n",
      "      url: imports.html\n",
      "    - output: web\n",
      "      title: core\n",
      "      url: core.html\n",
      "    - output: web\n",
      "      title: torch_core\n",
      "      url: torch_core.html\n",
      "    - output: web\n",
      "      title: data\n",
      "      url: data.html\n",
      "    - output: web\n",
      "      title: layers\n",
      "      url: layers.html\n",
      "    - output: web\n",
      "      title: models\n",
      "      url: models.html\n",
      "    output: web\n",
      "    title: Core\n",
      "  - folderitems:\n",
      "    - output: web\n",
      "      title: overview\n",
      "      url: training.html\n",
      "    - output: web\n",
      "      title: callback\n",
      "      url: callback.html\n",
      "    - output: web\n",
      "      title: basic_train\n",
      "      url: basic_train.html\n",
      "    - output: web\n",
      "      title: metrics\n",
      "      url: metrics.html\n",
      "    - output: web\n",
      "      title: train\n",
      "      url: train.html\n",
      "    - output: web\n",
      "      title: tta\n",
      "      url: tta.html\n",
      "    - output: web\n",
      "      subfolders:\n",
      "      - output: web\n",
      "        subfolderitems:\n",
      "        - output: web\n",
      "          title: overview\n",
      "          url: callbacks.html\n",
      "        - output: web\n",
      "          title: callbacks.rnn\n",
      "          url: callbacks.rnn.html\n",
      "        - output: web\n",
      "          title: callbacks.one_cycle\n",
      "          url: callbacks.one_cycle.html\n",
      "        - output: web\n",
      "          title: callbacks.mixup\n",
      "          url: callbacks.mixup.html\n",
      "        - output: web\n",
      "          title: callbacks.lr_finder\n",
      "          url: callbacks.lr_finder.html\n",
      "        - output: web\n",
      "          title: callbacks.hooks\n",
      "          url: callbacks.hooks.html\n",
      "        - output: web\n",
      "          title: callbacks.general_sched\n",
      "          url: callbacks.general_sched.html\n",
      "        - output: web\n",
      "          title: callbacks.fp16\n",
      "          url: callbacks.fp16.html\n",
      "        title: callbacks\n",
      "      title: ''\n",
      "    output: web\n",
      "    title: Training\n",
      "  - folderitems:\n",
      "    - output: web\n",
      "      title: overview\n",
      "      url: applications.html\n",
      "    - output: web\n",
      "      title: colab\n",
      "      url: colab.html\n",
      "    - output: web\n",
      "      subfolders:\n",
      "      - output: web\n",
      "        subfolderitems:\n",
      "        - output: web\n",
      "          title: overview\n",
      "          url: vision.html\n",
      "        - output: web\n",
      "          title: vision_learner\n",
      "          url: vision_learner.html\n",
      "        - output: web\n",
      "          title: vision.transform\n",
      "          url: vision.transform.html\n",
      "        - output: web\n",
      "          title: vision.image\n",
      "          url: vision.image.html\n",
      "        - output: web\n",
      "          title: vision.data\n",
      "          url: vision.data.html\n",
      "        title: vision\n",
      "      title: ''\n",
      "    output: web\n",
      "    title: Applications\n",
      "  - folderitems:\n",
      "    - output: web\n",
      "      title: overview\n",
      "      url: gen_doc.html\n",
      "    - output: web\n",
      "      title: gen_doc.sgen_notebooks\n",
      "      url: gen_doc.sgen_notebooks.html\n",
      "    - output: web\n",
      "      title: gen_doc.nbdoc\n",
      "      url: gen_doc.nbdoc.html\n",
      "    - output: web\n",
      "      title: gen_doc.gen_notebooks\n",
      "      url: gen_doc.gen_notebooks.html\n",
      "    - output: web\n",
      "      title: gen_doc.convert2html\n",
      "      url: gen_doc.convert2html.html\n",
      "    output: web\n",
      "    title: Doc authoring\n",
      "  output: web\n",
      "  title: Sidebar\n",
      "\n"
     ]
    }
   ],
   "source": [
    "res = _side_dict('Sidebar', sidebar_d)\n",
    "res = {'entries': [res]}\n",
    "print(yaml.dump(res, default_flow_style=False))"
   ]
  }
 ],
 "metadata": {
  "kernelspec": {
   "display_name": "Python 3",
   "language": "python",
   "name": "python3"
  }
 },
 "nbformat": 4,
 "nbformat_minor": 2
}
