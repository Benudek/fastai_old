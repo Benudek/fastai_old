{
 "cells": [
  {
   "cell_type": "code",
   "execution_count": null,
   "metadata": {},
   "outputs": [],
   "source": [
    "%load_ext autoreload\n",
    "%autoreload 2"
   ]
  },
  {
   "cell_type": "markdown",
   "metadata": {},
   "source": [
    "## Sidebar creation thingy"
   ]
  },
  {
   "cell_type": "markdown",
   "metadata": {},
   "source": [
    "Just a little tool to create the jekyll sidebar from a manually created dict. Here's the dict defining the structure:"
   ]
  },
  {
   "cell_type": "code",
   "execution_count": null,
   "metadata": {},
   "outputs": [],
   "source": [
    "sidebar_d = {\n",
    "    'Core': {\n",
    "        'overview': 'overview.html',\n",
    "        'imports': 'imports.html',\n",
    "        'core': 'core.html',\n",
    "        'torch_core': 'torch_core.html',\n",
    "        'data': 'data.html',\n",
    "        'layers': 'layers.html',\n",
    "        'models': 'models.html',\n",
    "    },\n",
    "    'Training': {\n",
    "        'overview': 'training.html',\n",
    "        'callback': 'callback.html',\n",
    "        'basic_train': 'basic_train.html',\n",
    "        'metrics': 'metrics.html',\n",
    "        'train': 'train.html',\n",
    "        'tta': 'tta.html',\n",
    "        'empty1': {\n",
    "            'callbacks': {\n",
    "                'overview': 'callbacks.html',\n",
    "                'callbacks.rnn': 'callbacks.rnn.html',\n",
    "                'callbacks.one_cycle': 'callbacks.one_cycle.html',\n",
    "                'callbacks.mixup': 'callbacks.mixup.html',\n",
    "                'callbacks.lr_finder': 'callbacks.lr_finder.html',\n",
    "                'callbacks.hooks': 'callbacks.hooks.html',\n",
    "                'callbacks.fp16': 'callbacks.fp16.html',\n",
    "            }\n",
    "        },\n",
    "    },  \n",
    "    'Applications': {\n",
    "        'overview': 'applications.html',\n",
    "        'colab': 'colab.html',\n",
    "        'empty1': {\n",
    "            'text': {\n",
    "                'overview': 'text.html',\n",
    "                'text_learner': 'text_learner.html',\n",
    "                'text.transform': 'text.transform.html',\n",
    "                'text.data': 'text.data.html',\n",
    "            },\n",
    "        },\n",
    "        'empty2': {\n",
    "            'tabular': {\n",
    "                'overview': 'tabular.html',\n",
    "                'tabular.transform': 'tabular.transform.html',\n",
    "                'tabular.data': 'tabular.data.html',\n",
    "            },\n",
    "        },\n",
    "        'empty3': {\n",
    "            'vision': {\n",
    "                'overview': 'vision.html',\n",
    "                'vision_learner': 'vision_learner.html',\n",
    "                'vision.transform': 'vision.transform.html',\n",
    "                'vision.image': 'vision.image.html',\n",
    "                'vision.data': 'vision.data.html',\n",
    "            }\n",
    "        }\n",
    "    },\n",
    "    'Doc authoring': {\n",
    "        'overview': 'gen_doc.html',\n",
    "        'gen_doc.sgen_notebooks': 'gen_doc.sgen_notebooks.html',\n",
    "        'gen_doc.nbdoc': 'gen_doc.nbdoc.html',\n",
    "        'gen_doc.gen_notebooks': 'gen_doc.gen_notebooks.html',\n",
    "        'gen_doc.convert2html': 'gen_doc.convert2html.html',\n",
    "    }\n",
    "}"
   ]
  },
  {
   "cell_type": "code",
   "execution_count": null,
   "metadata": {},
   "outputs": [],
   "source": [
    "test_d = {\n",
    "    'Core': {\n",
    "        'overview': 'overview.html',\n",
    "    },\n",
    "    'Training': {\n",
    "        'callbacks': {\n",
    "            'overview': 'callbacks.html',\n",
    "            'callbacks.rnn': 'callbacks.rnn.html',\n",
    "        },\n",
    "    },\n",
    "}"
   ]
  },
  {
   "cell_type": "code",
   "execution_count": null,
   "metadata": {},
   "outputs": [
    {
     "ename": "FileNotFoundError",
     "evalue": "[Errno 2] No such file or directory: '../../docs/_data/sidebars/home_sidebar.yml.bak'",
     "output_type": "error",
     "traceback": [
      "\u001b[0;31m---------------------------------------------------------------------------\u001b[0m",
      "\u001b[0;31mFileNotFoundError\u001b[0m                         Traceback (most recent call last)",
      "\u001b[0;32m<ipython-input-41-77e6b931cce9>\u001b[0m in \u001b[0;36m<module>\u001b[0;34m()\u001b[0m\n\u001b[0;32m----> 1\u001b[0;31m \u001b[0mt\u001b[0m\u001b[0;34m=\u001b[0m\u001b[0myaml\u001b[0m\u001b[0;34m.\u001b[0m\u001b[0mload\u001b[0m\u001b[0;34m(\u001b[0m\u001b[0mopen\u001b[0m\u001b[0;34m(\u001b[0m\u001b[0;34m'../../docs/_data/sidebars/home_sidebar.yml.bak'\u001b[0m\u001b[0;34m)\u001b[0m\u001b[0;34m)\u001b[0m\u001b[0;34m\u001b[0m\u001b[0m\n\u001b[0m",
      "\u001b[0;31mFileNotFoundError\u001b[0m: [Errno 2] No such file or directory: '../../docs/_data/sidebars/home_sidebar.yml.bak'"
     ]
    }
   ],
   "source": [
    "t=yaml.load(open('../../docs/_data/sidebars/home_sidebar.yml.bak'))"
   ]
  },
  {
   "cell_type": "code",
   "execution_count": null,
   "metadata": {},
   "outputs": [],
   "source": [
    "import yaml"
   ]
  },
  {
   "cell_type": "code",
   "execution_count": null,
   "metadata": {},
   "outputs": [],
   "source": [
    "def _leaf(k,v):\n",
    "    return {'title':k, 'url':v, 'output':'web'}\n",
    "\n",
    "_k_names = ['folders', 'folderitems', 'subfolders', 'subfolderitems']\n",
    "def _side_dict(title, data, level=0):\n",
    "    k_name = _k_names[level]\n",
    "    level += 1\n",
    "    milista = []\n",
    "    for k,v in data.items():\n",
    "        milista.append(k)\n",
    "    print(milista)\n",
    "    res = [(_side_dict(k, v, level) if isinstance(v,dict) else _leaf(k,v))\n",
    "        for k,v in data.items()]\n",
    "    \n",
    "    print(title)\n",
    "    return {'title': title, 'output':'web', k_name: res} if 'empty' not in title else {k_name:res} if title is 'empty1' else res"
   ]
  },
  {
   "cell_type": "code",
   "execution_count": null,
   "metadata": {},
   "outputs": [
    {
     "name": "stdout",
     "output_type": "stream",
     "text": [
      "['Core', 'Training', 'Applications', 'Doc authoring']\n",
      "['overview', 'imports', 'core', 'torch_core', 'data', 'layers', 'models']\n",
      "Core\n",
      "['overview', 'callback', 'basic_train', 'metrics', 'train', 'tta', 'empty1']\n",
      "['callbacks']\n",
      "['overview', 'callbacks.rnn', 'callbacks.one_cycle', 'callbacks.mixup', 'callbacks.lr_finder', 'callbacks.hooks', 'callbacks.fp16']\n",
      "callbacks\n",
      "empty1\n",
      "Training\n",
      "['overview', 'colab', 'empty1', 'empty2', 'empty3']\n",
      "['text']\n",
      "['overview', 'text_learner', 'text.transform', 'text.data']\n",
      "text\n",
      "empty1\n",
      "['tabular']\n",
      "['overview', 'tabular.transform', 'tabular.data']\n",
      "tabular\n",
      "empty2\n",
      "['vision']\n",
      "['overview', 'vision_learner', 'vision.transform', 'vision.image', 'vision.data']\n",
      "vision\n",
      "empty3\n",
      "Applications\n",
      "['overview', 'gen_doc.sgen_notebooks', 'gen_doc.nbdoc', 'gen_doc.gen_notebooks', 'gen_doc.convert2html']\n",
      "Doc authoring\n",
      "Sidebar\n"
     ]
    }
   ],
   "source": [
    "res = _side_dict('Sidebar', sidebar_d)\n",
    "res = {'entries': [res]}\n",
    "res_s = yaml.dump(res, default_flow_style=False)\n",
    "res_s = res_s.replace('- subfolders:', '  subfolders:')"
   ]
  },
  {
   "cell_type": "code",
   "execution_count": null,
   "metadata": {},
   "outputs": [
    {
     "name": "stdout",
     "output_type": "stream",
     "text": [
      "entries:\n",
      "- folders:\n",
      "  - folderitems:\n",
      "    - output: web\n",
      "      title: overview\n",
      "      url: overview.html\n",
      "    - output: web\n",
      "      title: imports\n",
      "      url: imports.html\n",
      "    - output: web\n",
      "      title: core\n",
      "      url: core.html\n",
      "    - output: web\n",
      "      title: torch_core\n",
      "      url: torch_core.html\n",
      "    - output: web\n",
      "      title: data\n",
      "      url: data.html\n",
      "    - output: web\n",
      "      title: layers\n",
      "      url: layers.html\n",
      "    - output: web\n",
      "      title: models\n",
      "      url: models.html\n",
      "    output: web\n",
      "    title: Core\n",
      "  - folderitems:\n",
      "    - output: web\n",
      "      title: overview\n",
      "      url: training.html\n",
      "    - output: web\n",
      "      title: callback\n",
      "      url: callback.html\n",
      "    - output: web\n",
      "      title: basic_train\n",
      "      url: basic_train.html\n",
      "    - output: web\n",
      "      title: metrics\n",
      "      url: metrics.html\n",
      "    - output: web\n",
      "      title: train\n",
      "      url: train.html\n",
      "    - output: web\n",
      "      title: tta\n",
      "      url: tta.html\n",
      "      subfolders:\n",
      "      - output: web\n",
      "        subfolderitems:\n",
      "        - output: web\n",
      "          title: overview\n",
      "          url: callbacks.html\n",
      "        - output: web\n",
      "          title: callbacks.rnn\n",
      "          url: callbacks.rnn.html\n",
      "        - output: web\n",
      "          title: callbacks.one_cycle\n",
      "          url: callbacks.one_cycle.html\n",
      "        - output: web\n",
      "          title: callbacks.mixup\n",
      "          url: callbacks.mixup.html\n",
      "        - output: web\n",
      "          title: callbacks.lr_finder\n",
      "          url: callbacks.lr_finder.html\n",
      "        - output: web\n",
      "          title: callbacks.hooks\n",
      "          url: callbacks.hooks.html\n",
      "        - output: web\n",
      "          title: callbacks.fp16\n",
      "          url: callbacks.fp16.html\n",
      "        title: callbacks\n",
      "    output: web\n",
      "    title: Training\n",
      "  - folderitems:\n",
      "    - output: web\n",
      "      title: overview\n",
      "      url: applications.html\n",
      "    - output: web\n",
      "      title: colab\n",
      "      url: colab.html\n",
      "      subfolders:\n",
      "      - output: web\n",
      "        subfolderitems:\n",
      "        - output: web\n",
      "          title: overview\n",
      "          url: text.html\n",
      "        - output: web\n",
      "          title: text_learner\n",
      "          url: text_learner.html\n",
      "        - output: web\n",
      "          title: text.transform\n",
      "          url: text.transform.html\n",
      "        - output: web\n",
      "          title: text.data\n",
      "          url: text.data.html\n",
      "        title: text\n",
      "    - - output: web\n",
      "        subfolderitems:\n",
      "        - output: web\n",
      "          title: overview\n",
      "          url: tabular.html\n",
      "        - output: web\n",
      "          title: tabular.transform\n",
      "          url: tabular.transform.html\n",
      "        - output: web\n",
      "          title: tabular.data\n",
      "          url: tabular.data.html\n",
      "        title: tabular\n",
      "    - - output: web\n",
      "        subfolderitems:\n",
      "        - output: web\n",
      "          title: overview\n",
      "          url: vision.html\n",
      "        - output: web\n",
      "          title: vision_learner\n",
      "          url: vision_learner.html\n",
      "        - output: web\n",
      "          title: vision.transform\n",
      "          url: vision.transform.html\n",
      "        - output: web\n",
      "          title: vision.image\n",
      "          url: vision.image.html\n",
      "        - output: web\n",
      "          title: vision.data\n",
      "          url: vision.data.html\n",
      "        title: vision\n",
      "    output: web\n",
      "    title: Applications\n",
      "  - folderitems:\n",
      "    - output: web\n",
      "      title: overview\n",
      "      url: gen_doc.html\n",
      "    - output: web\n",
      "      title: gen_doc.sgen_notebooks\n",
      "      url: gen_doc.sgen_notebooks.html\n",
      "    - output: web\n",
      "      title: gen_doc.nbdoc\n",
      "      url: gen_doc.nbdoc.html\n",
      "    - output: web\n",
      "      title: gen_doc.gen_notebooks\n",
      "      url: gen_doc.gen_notebooks.html\n",
      "    - output: web\n",
      "      title: gen_doc.convert2html\n",
      "      url: gen_doc.convert2html.html\n",
      "    output: web\n",
      "    title: Doc authoring\n",
      "  output: web\n",
      "  title: Sidebar\n",
      "\n"
     ]
    }
   ],
   "source": [
    "print(res_s)"
   ]
  },
  {
   "cell_type": "code",
   "execution_count": null,
   "metadata": {},
   "outputs": [
    {
     "data": {
      "text/plain": [
       "3562"
      ]
     },
     "execution_count": null,
     "metadata": {},
     "output_type": "execute_result"
    }
   ],
   "source": [
    "open('../../docs/_data/sidebars/home_sidebar.yml', 'w').write(res_s)"
   ]
  },
  {
   "cell_type": "code",
   "execution_count": null,
   "metadata": {},
   "outputs": [],
   "source": []
  },
  {
   "cell_type": "code",
   "execution_count": null,
   "metadata": {},
   "outputs": [
    {
     "data": {
      "text/plain": [
       "[{'output': 'web', 'title': 'tta', 'url': 'tta.html'},\n",
       " [{'output': 'web',\n",
       "   'subfolderitems': [{'output': 'web',\n",
       "     'title': 'overview',\n",
       "     'url': 'callbacks.html'},\n",
       "    {'output': 'web', 'title': 'callbacks.rnn', 'url': 'callbacks.rnn.html'},\n",
       "    {'output': 'web',\n",
       "     'title': 'callbacks.one_cycle',\n",
       "     'url': 'callbacks.one_cycle.html'},\n",
       "    {'output': 'web',\n",
       "     'title': 'callbacks.mixup',\n",
       "     'url': 'callbacks.mixup.html'},\n",
       "    {'output': 'web',\n",
       "     'title': 'callbacks.lr_finder',\n",
       "     'url': 'callbacks.lr_finder.html'},\n",
       "    {'output': 'web',\n",
       "     'title': 'callbacks.hooks',\n",
       "     'url': 'callbacks.hooks.html'},\n",
       "    {'output': 'web',\n",
       "     'title': 'callbacks.fp16',\n",
       "     'url': 'callbacks.fp16.html'}],\n",
       "   'title': 'callbacks'}]]"
      ]
     },
     "execution_count": null,
     "metadata": {},
     "output_type": "execute_result"
    }
   ],
   "source": [
    "res['entries'][0]['folders'][1]['folderitems'][5:]"
   ]
  },
  {
   "cell_type": "code",
   "execution_count": null,
   "metadata": {},
   "outputs": [
    {
     "ename": "NameError",
     "evalue": "name 't' is not defined",
     "output_type": "error",
     "traceback": [
      "\u001b[0;31m---------------------------------------------------------------------------\u001b[0m",
      "\u001b[0;31mNameError\u001b[0m                                 Traceback (most recent call last)",
      "\u001b[0;32m<ipython-input-48-ba41b06c0777>\u001b[0m in \u001b[0;36m<module>\u001b[0;34m()\u001b[0m\n\u001b[0;32m----> 1\u001b[0;31m \u001b[0mt\u001b[0m\u001b[0;34m[\u001b[0m\u001b[0;34m'entries'\u001b[0m\u001b[0;34m]\u001b[0m\u001b[0;34m[\u001b[0m\u001b[0;36m0\u001b[0m\u001b[0;34m]\u001b[0m\u001b[0;34m[\u001b[0m\u001b[0;34m'folders'\u001b[0m\u001b[0;34m]\u001b[0m\u001b[0;34m[\u001b[0m\u001b[0;36m1\u001b[0m\u001b[0;34m]\u001b[0m\u001b[0;34m[\u001b[0m\u001b[0;34m'folderitems'\u001b[0m\u001b[0;34m]\u001b[0m\u001b[0;34m[\u001b[0m\u001b[0;36m5\u001b[0m\u001b[0;34m:\u001b[0m\u001b[0;34m]\u001b[0m\u001b[0;34m\u001b[0m\u001b[0m\n\u001b[0m",
      "\u001b[0;31mNameError\u001b[0m: name 't' is not defined"
     ]
    }
   ],
   "source": [
    "t['entries'][0]['folders'][1]['folderitems'][5:]"
   ]
  },
  {
   "cell_type": "code",
   "execution_count": null,
   "metadata": {},
   "outputs": [],
   "source": []
  }
 ],
 "metadata": {
  "kernelspec": {
   "display_name": "Python 3",
   "language": "python",
   "name": "python3"
  }
 },
 "nbformat": 4,
 "nbformat_minor": 2
}
