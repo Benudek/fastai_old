{
 "cells": [
  {
   "cell_type": "markdown",
   "metadata": {},
   "source": "# callbacks.one_cycle"
  },
  {
   "cell_type": "markdown",
   "metadata": {},
   "source": "Type an introduction of the package here."
  },
  {
   "cell_type": "code",
   "execution_count": null,
   "metadata": {
    "hide_input": true
   },
   "outputs": [],
   "source": "from fastai.gen_doc.nbdoc import *\nfrom fastai.callbacks.one_cycle import * "
  },
  {
   "cell_type": "markdown",
   "metadata": {},
   "source": "### Global Variable Definitions:"
  },
  {
   "cell_type": "code",
   "execution_count": null,
   "metadata": {
    "hide_input": true
   },
   "outputs": [
    {
     "data": {
      "text/markdown": "### <a id=OneCycleScheduler></a><em>class</em> `OneCycleScheduler`\n(<code>learn</code>:[<code>Learner</code>](fastai.basic_train.html#Learner), <code>lr_max</code>:<code>float</code>, <code>moms</code>:<code>None</code>[<code>float</code>, <code>Collection</code>[<code>float</code>]]=`(0.95, 0.85)`, <code>div_factor</code>:<code>float</code>=`25.0`, <code>pct_start</code>:<code>float</code>=`0.5`) -> <code>NoneType</code> :: Inherits ([<code>Callback</code>](fastai.callback.html#Callback))<div style=\"text-align: right\"><a href=\"https://github.com/fastai/fastai_pytorch/blob/master/fastai/callbacks/one_cycle.py#L8\">[source]</a></div>\n\n\nManages 1-Cycle style traing as outlined in Leslie Smith's [paper](https://arxiv.org/pdf/1803.09820.pdf)",
      "text/plain": "<IPython.core.display.Markdown object>"
     },
     "metadata": {},
     "output_type": "display_data"
    }
   ],
   "source": "show_doc(OneCycleScheduler)"
  },
  {
   "cell_type": "markdown",
   "metadata": {},
   "source": "[<code>OneCycleScheduler</code>](http://docs.fast.ai/callbacks.one_cycle.html#OneCycleScheduler)"
  },
  {
   "cell_type": "code",
   "execution_count": null,
   "metadata": {
    "hide_input": true
   },
   "outputs": [
    {
     "data": {
      "text/markdown": "#### <a id=on_batch_end></a>`on_batch_end`(<code>kwargs</code>:<code>Any</code>) -> <code>NoneType</code><div style=\"text-align: right\"><a href=\"https://github.com/fastai/fastai_pytorch/blob/master/fastai/callbacks/one_cycle.py#L36\">[source]</a></div>\n\n\nTake one step forward on the annealing schedule for the optim params",
      "text/plain": "<IPython.core.display.Markdown object>"
     },
     "metadata": {},
     "output_type": "display_data"
    }
   ],
   "source": "show_doc(OneCycleScheduler.on_batch_end)"
  },
  {
   "cell_type": "markdown",
   "metadata": {},
   "source": "`OneCycleScheduler.on_batch_end`"
  },
  {
   "cell_type": "code",
   "execution_count": null,
   "metadata": {
    "hide_input": true
   },
   "outputs": [
    {
     "data": {
      "text/markdown": "#### <a id=on_train_begin></a>`on_train_begin`\n(<code>n_epochs</code>:<code>int</code>, <code>kwargs</code>:<code>Any</code>) -> <code>NoneType</code><div style=\"text-align: right\"><a href=\"https://github.com/fastai/fastai_pytorch/blob/master/fastai/callbacks/one_cycle.py#L23\">[source]</a></div>\n\n\nInitialize our optimization params based on our annealing schedule",
      "text/plain": "<IPython.core.display.Markdown object>"
     },
     "metadata": {},
     "output_type": "display_data"
    }
   ],
   "source": "show_doc(OneCycleScheduler.on_train_begin)"
  },
  {
   "cell_type": "markdown",
   "metadata": {},
   "source": "`OneCycleScheduler.on_train_begin`"
  },
  {
   "cell_type": "code",
   "execution_count": null,
   "metadata": {
    "hide_input": true
   },
   "outputs": [
    {
     "data": {
      "text/markdown": "#### <a id=steps></a>`steps`\n(<code>steps_cfg</code>:<code>None</code>[<code>float</code>, <code>Tuple</code>[<code>float</code>, <code>float</code>]])<div style=\"text-align: right\"><a href=\"https://github.com/fastai/fastai_pytorch/blob/master/fastai/callbacks/one_cycle.py#L18\">[source]</a></div>\n\n\nBuild anneal schedule for all of the parameters",
      "text/plain": "<IPython.core.display.Markdown object>"
     },
     "metadata": {},
     "output_type": "display_data"
    }
   ],
   "source": "show_doc(OneCycleScheduler.steps)"
  },
  {
   "cell_type": "markdown",
   "metadata": {},
   "source": "`OneCycleScheduler.steps`"
  }
 ],
 "metadata": {
  "kernelspec": {
   "display_name": "Python 3",
   "language": "python",
   "name": "python3"
  }
 },
 "nbformat": 4,
 "nbformat_minor": 2
}
