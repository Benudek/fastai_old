{
 "cells": [
  {
   "cell_type": "markdown",
   "metadata": {},
   "source": "# gen_doc.nbdoc"
  },
  {
   "cell_type": "markdown",
   "metadata": {},
   "source": "Type an introduction of the package here."
  },
  {
   "cell_type": "code",
   "execution_count": null,
   "metadata": {
    "hide_input": true
   },
   "outputs": [],
   "source": "from fastai.gen_doc.nbdoc import *\nfrom fastai.gen_doc.nbdoc import * "
  },
  {
   "cell_type": "code",
   "execution_count": null,
   "metadata": {
    "hide_input": true
   },
   "outputs": [
    {
     "data": {
      "text/markdown": "#### <a id=create_anchor></a>`create_anchor`(<code>text</code>, <code>title_level</code>=`0`, <code>name</code>=`None`)<div style=\"text-align: right\"><a href=\"https://github.com/fastai/fastai_pytorch/blob/master/fastai/gen_doc/nbdoc.py#L256\">[source]</a></div>",
      "text/plain": "<IPython.core.display.Markdown object>"
     },
     "metadata": {},
     "output_type": "display_data"
    }
   ],
   "source": "show_doc(create_anchor)"
  },
  {
   "cell_type": "markdown",
   "metadata": {},
   "source": "[<code>create_anchor</code>](http://docs.fast.ai/gen_doc.nbdoc.html#create_anchor)"
  },
  {
   "cell_type": "code",
   "execution_count": null,
   "metadata": {
    "hide_input": true
   },
   "outputs": [
    {
     "data": {
      "text/markdown": "#### <a id=get_class_toc></a>`get_class_toc`(<code>mod_name</code>:<code>str</code>, <code>cls_name</code>:<code>str</code>)<div style=\"text-align: right\"><a href=\"https://github.com/fastai/fastai_pytorch/blob/master/fastai/gen_doc/nbdoc.py#L195\">[source]</a></div>\n\n\ndisplays table of contents for `cls_name`",
      "text/plain": "<IPython.core.display.Markdown object>"
     },
     "metadata": {},
     "output_type": "display_data"
    }
   ],
   "source": "show_doc(get_class_toc)"
  },
  {
   "cell_type": "markdown",
   "metadata": {},
   "source": "[<code>get_class_toc</code>](http://docs.fast.ai/gen_doc.nbdoc.html#get_class_toc)"
  },
  {
   "cell_type": "code",
   "execution_count": null,
   "metadata": {
    "hide_input": true
   },
   "outputs": [
    {
     "data": {
      "text/markdown": "#### <a id=get_exports></a>`get_exports`(<code>mod</code>)<div style=\"text-align: right\"><a href=\"https://github.com/fastai/fastai_pytorch/blob/master/fastai/gen_doc/nbdoc.py#L147\">[source]</a></div>",
      "text/plain": "<IPython.core.display.Markdown object>"
     },
     "metadata": {},
     "output_type": "display_data"
    }
   ],
   "source": "show_doc(get_exports)"
  },
  {
   "cell_type": "markdown",
   "metadata": {},
   "source": ""
  },
  {
   "cell_type": "code",
   "execution_count": null,
   "metadata": {
    "hide_input": true
   },
   "outputs": [
    {
     "data": {
      "text/markdown": "#### <a id=get_fn_link></a>`get_fn_link`(<code>ft</code>) -> <code>str</code><div style=\"text-align: right\"><a href=\"https://github.com/fastai/fastai_pytorch/blob/master/fastai/gen_doc/nbdoc.py#L228\">[source]</a></div>\n\n\nreturns function link to notebook documentation",
      "text/plain": "<IPython.core.display.Markdown object>"
     },
     "metadata": {},
     "output_type": "display_data"
    }
   ],
   "source": "show_doc(get_fn_link)"
  },
  {
   "cell_type": "markdown",
   "metadata": {},
   "source": "[<code>get_fn_link</code>](http://docs.fast.ai/gen_doc.nbdoc.html#get_fn_link)"
  },
  {
   "cell_type": "code",
   "execution_count": null,
   "metadata": {
    "hide_input": true
   },
   "outputs": [
    {
     "data": {
      "text/markdown": "#### <a id=get_ft_names></a>`get_ft_names`(<code>mod</code>) -> <code>List</code>[<code>str</code>]<div style=\"text-align: right\"><a href=\"https://github.com/fastai/fastai_pytorch/blob/master/fastai/gen_doc/nbdoc.py#L152\">[source]</a></div>\n\n\nReturns all the functions of module `mod`",
      "text/plain": "<IPython.core.display.Markdown object>"
     },
     "metadata": {},
     "output_type": "display_data"
    }
   ],
   "source": "show_doc(get_ft_names)"
  },
  {
   "cell_type": "markdown",
   "metadata": {},
   "source": ""
  },
  {
   "cell_type": "code",
   "execution_count": null,
   "metadata": {
    "hide_input": true
   },
   "outputs": [
    {
     "data": {
      "text/markdown": "#### <a id=get_module_toc></a>`get_module_toc`(<code>mod_name</code>)<div style=\"text-align: right\"><a href=\"https://github.com/fastai/fastai_pytorch/blob/master/fastai/gen_doc/nbdoc.py#L180\">[source]</a></div>\n\n\ndisplays table of contents for given `mod_name`",
      "text/plain": "<IPython.core.display.Markdown object>"
     },
     "metadata": {},
     "output_type": "display_data"
    }
   ],
   "source": "show_doc(get_module_toc)"
  },
  {
   "cell_type": "markdown",
   "metadata": {},
   "source": "[<code>get_module_toc</code>](http://docs.fast.ai/gen_doc.nbdoc.html#get_module_toc)"
  },
  {
   "cell_type": "code",
   "execution_count": null,
   "metadata": {
    "hide_input": true
   },
   "outputs": [
    {
     "data": {
      "text/markdown": "#### <a id=import_mod></a>`import_mod`(<code>mod_name</code>:<code>str</code>)<div style=\"text-align: right\"><a href=\"https://github.com/fastai/fastai_pytorch/blob/master/fastai/gen_doc/nbdoc.py#L127\">[source]</a></div>\n\n\nreturns module from `mod_name`",
      "text/plain": "<IPython.core.display.Markdown object>"
     },
     "metadata": {},
     "output_type": "display_data"
    }
   ],
   "source": "show_doc(import_mod)"
  },
  {
   "cell_type": "markdown",
   "metadata": {},
   "source": ""
  },
  {
   "cell_type": "code",
   "execution_count": null,
   "metadata": {
    "hide_input": true
   },
   "outputs": [
    {
     "data": {
      "text/markdown": "#### <a id=link_docstring></a>`link_docstring`(<code>elt</code>, <code>docstring</code>:<code>str</code>) -> <code>str</code><div style=\"text-align: right\"><a href=\"https://github.com/fastai/fastai_pytorch/blob/master/fastai/gen_doc/nbdoc.py#L115\">[source]</a></div>\n\n\nsearches `docstring` for backticks and attempts to link those functions to respective documentation",
      "text/plain": "<IPython.core.display.Markdown object>"
     },
     "metadata": {},
     "output_type": "display_data"
    }
   ],
   "source": "show_doc(link_docstring)"
  },
  {
   "cell_type": "markdown",
   "metadata": {},
   "source": ""
  },
  {
   "cell_type": "code",
   "execution_count": null,
   "metadata": {
    "hide_input": true
   },
   "outputs": [
    {
     "data": {
      "text/markdown": "#### <a id=show_doc></a>`show_doc`\n(<code>elt</code>, <code>doc_string</code>:<code>bool</code>=`True`, <code>full_name</code>:<code>str</code>=`None`, <code>arg_comments</code>:<code>dict</code>=`None`, <code>title_level</code>=`None`, <code>alt_doc_string</code>:<code>str</code>=`''`, <code>ignore_warn</code>:<code>bool</code>=`False`)<div style=\"text-align: right\"><a href=\"https://github.com/fastai/fastai_pytorch/blob/master/fastai/gen_doc/nbdoc.py#L77\">[source]</a></div>\n\n\nShow documentation for element `elt`. Supported types: class, Callable, and enum",
      "text/plain": "<IPython.core.display.Markdown object>"
     },
     "metadata": {},
     "output_type": "display_data"
    }
   ],
   "source": "show_doc(show_doc)"
  },
  {
   "cell_type": "markdown",
   "metadata": {},
   "source": "[<code>show_doc</code>](http://docs.fast.ai/gen_doc.nbdoc.html#show_doc)"
  },
  {
   "cell_type": "code",
   "execution_count": null,
   "metadata": {
    "hide_input": true
   },
   "outputs": [
    {
     "data": {
      "text/markdown": "#### <a id=show_doc_from_name></a>`show_doc_from_name`\n(<code>mod_name</code>, <code>ft_name</code>:<code>str</code>, <code>doc_string</code>:<code>bool</code>=`True`, <code>arg_comments</code>:<code>dict</code>=`{}`, <code>alt_doc_string</code>:<code>str</code>=`''`)<div style=\"text-align: right\"><a href=\"https://github.com/fastai/fastai_pytorch/blob/master/fastai/gen_doc/nbdoc.py#L136\">[source]</a></div>\n\n\nshows documentation for `ft_name`. see [<code>show_doc</code>](http://docs.fast.ai/gen_doc.nbdoc.html#show_doc)",
      "text/plain": "<IPython.core.display.Markdown object>"
     },
     "metadata": {},
     "output_type": "display_data"
    }
   ],
   "source": "show_doc(show_doc_from_name)"
  },
  {
   "cell_type": "markdown",
   "metadata": {},
   "source": "[<code>show_doc_from_name</code>](http://docs.fast.ai/gen_doc.nbdoc.html#show_doc_from_name)"
  },
  {
   "cell_type": "code",
   "execution_count": null,
   "metadata": {
    "hide_input": true
   },
   "outputs": [
    {
     "data": {
      "text/markdown": "#### <a id=show_video></a>`show_video`(<code>url</code>)<div style=\"text-align: right\"><a href=\"https://github.com/fastai/fastai_pytorch/blob/master/fastai/gen_doc/nbdoc.py#L214\">[source]</a></div>",
      "text/plain": "<IPython.core.display.Markdown object>"
     },
     "metadata": {},
     "output_type": "display_data"
    }
   ],
   "source": "show_doc(show_video)"
  },
  {
   "cell_type": "markdown",
   "metadata": {},
   "source": "[<code>show_video</code>](http://docs.fast.ai/gen_doc.nbdoc.html#show_video)"
  },
  {
   "cell_type": "code",
   "execution_count": null,
   "metadata": {
    "hide_input": true
   },
   "outputs": [
    {
     "data": {
      "text/markdown": "#### <a id=show_video_from_youtube></a>`show_video_from_youtube`(<code>code</code>, <code>start</code>=`0`)<div style=\"text-align: right\"><a href=\"https://github.com/fastai/fastai_pytorch/blob/master/fastai/gen_doc/nbdoc.py#L218\">[source]</a></div>",
      "text/plain": "<IPython.core.display.Markdown object>"
     },
     "metadata": {},
     "output_type": "display_data"
    }
   ],
   "source": "show_doc(show_video_from_youtube)"
  },
  {
   "cell_type": "markdown",
   "metadata": {},
   "source": "[<code>show_video_from_youtube</code>](http://docs.fast.ai/gen_doc.nbdoc.html#show_video_from_youtube)"
  }
 ],
 "metadata": {
  "kernelspec": {
   "display_name": "Python 3",
   "language": "python",
   "name": "python3"
  }
 },
 "nbformat": 4,
 "nbformat_minor": 2
}
