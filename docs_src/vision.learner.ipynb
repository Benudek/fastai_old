{
 "cells": [
  {
   "cell_type": "markdown",
   "metadata": {},
   "source": [
    "# vision.learner"
   ]
  },
  {
   "cell_type": "markdown",
   "metadata": {},
   "source": [
    "Type an introduction of the package here."
   ]
  },
  {
   "cell_type": "code",
   "execution_count": null,
   "metadata": {
    "hide_input": false
   },
   "outputs": [
    {
     "ename": "ModuleNotFoundError",
     "evalue": "No module named 'fastai'",
     "output_type": "error",
     "traceback": [
      "\u001b[0;31m---------------------------------------------------------------------------\u001b[0m",
      "\u001b[0;31mModuleNotFoundError\u001b[0m                       Traceback (most recent call last)",
      "\u001b[0;32m<ipython-input-1-0f479923b75a>\u001b[0m in \u001b[0;36m<module>\u001b[0;34m()\u001b[0m\n\u001b[0;32m----> 1\u001b[0;31m \u001b[0;32mfrom\u001b[0m \u001b[0mfastai\u001b[0m\u001b[0;34m.\u001b[0m\u001b[0mgen_doc\u001b[0m\u001b[0;34m.\u001b[0m\u001b[0mnbdoc\u001b[0m \u001b[0;32mimport\u001b[0m \u001b[0;34m*\u001b[0m\u001b[0;34m\u001b[0m\u001b[0m\n\u001b[0m\u001b[1;32m      2\u001b[0m \u001b[0;32mfrom\u001b[0m \u001b[0mfastai\u001b[0m\u001b[0;34m.\u001b[0m\u001b[0mvision\u001b[0m \u001b[0;32mimport\u001b[0m \u001b[0;34m*\u001b[0m\u001b[0;34m\u001b[0m\u001b[0m\n\u001b[1;32m      3\u001b[0m \u001b[0;32mfrom\u001b[0m \u001b[0mfastai\u001b[0m \u001b[0;32mimport\u001b[0m \u001b[0;34m*\u001b[0m\u001b[0;34m\u001b[0m\u001b[0m\n",
      "\u001b[0;31mModuleNotFoundError\u001b[0m: No module named 'fastai'"
     ]
    }
   ],
   "source": [
    "from fastai.gen_doc.nbdoc import *\n",
    "from fastai.vision import *\n",
    "from fastai import *"
   ]
  },
  {
   "cell_type": "markdown",
   "metadata": {},
   "source": [
    "### Global Variable Definitions:"
   ]
  },
  {
   "cell_type": "code",
   "execution_count": null,
   "metadata": {
    "hide_input": true
   },
   "outputs": [
    {
     "data": {
      "text/markdown": [
       "### <a id=ConvLearner></a><em>class</em> `ConvLearner`\n",
       "(<code>data</code>:[<code>DataBunch</code>](fastai.data.html#DataBunch), <code>arch</code>:<code>Callable</code>[], <code>cut</code>=`None`, <code>pretrained</code>:<code>bool</code>=`True`, <code>lin_ftrs</code>:`Optional`[<code>Collection</code>[<code>int</code>]]=`None`, <code>ps</code>:<code>None</code>[<code>float</code>, <code>Collection</code>[<code>float</code>]]=`0.5`, <code>custom_head</code>:`Optional`[[<code>Module</code>](https://pytorch.org/docs/stable/nn.html#torch.nn.Module)]=`None`, <code>split_on</code>:<code>None</code>[<code>Callable</code>[], <code>Collection</code>[<code>Collection</code>[[<code>Module</code>](https://pytorch.org/docs/stable/nn.html#torch.nn.Module)]], <code>NoneType</code>]=`None`, <code>kwargs</code>:<code>Any</code>) -> <code>NoneType</code> :: Inherits ([<code>Learner</code>](fastai.basic_train.html#Learner))<div style=\"text-align: right\"><a href=\"https://github.com/fastai/fastai_pytorch/blob/master/fastai/vision/learner.py#L46\">[source]</a></div>\n",
       "\n",
       "\n",
       "Builds convnet style learners"
      ],
      "text/plain": [
       "<IPython.core.display.Markdown object>"
      ]
     },
     "metadata": {},
     "output_type": "display_data"
    }
   ],
   "source": [
    "show_doc(ConvLearner)"
   ]
  },
  {
   "cell_type": "markdown",
   "metadata": {},
   "source": [
    "[<code>ConvLearner</code>](/vision.learner.html#ConvLearner)"
   ]
  },
  {
   "cell_type": "code",
   "execution_count": null,
   "metadata": {
    "hide_input": true
   },
   "outputs": [
    {
     "data": {
      "text/markdown": [
       "#### <a id=create_body></a>`create_body`\n",
       "(<code>model</code>:[<code>Module</code>](https://pytorch.org/docs/stable/nn.html#torch.nn.Module), <code>cut</code>:`Optional`[<code>int</code>]=`None`, <code>body_fn</code>:<code>Callable</code>[[<code>Module</code>](https://pytorch.org/docs/stable/nn.html#torch.nn.Module), [<code>Module</code>](https://pytorch.org/docs/stable/nn.html#torch.nn.Module)]=`None`)<div style=\"text-align: right\"><a href=\"https://github.com/fastai/fastai_pytorch/blob/master/fastai/vision/learner.py#L8\">[source]</a></div>\n",
       "\n",
       "\n",
       "Cut off the body of a typically pretrained model at `cut` or as specified by `body_fn`"
      ],
      "text/plain": [
       "<IPython.core.display.Markdown object>"
      ]
     },
     "metadata": {},
     "output_type": "display_data"
    }
   ],
   "source": [
    "show_doc(create_body)"
   ]
  },
  {
   "cell_type": "markdown",
   "metadata": {},
   "source": [
    "[<code>create_body</code>](/vision.learner.html#create_body)"
   ]
  },
  {
   "cell_type": "code",
   "execution_count": null,
   "metadata": {
    "hide_input": true
   },
   "outputs": [
    {
     "data": {
      "text/markdown": [
       "#### <a id=create_head></a>`create_head`\n",
       "(<code>nf</code>:<code>int</code>, <code>nc</code>:<code>int</code>, <code>lin_ftrs</code>:`Optional`[<code>Collection</code>[<code>int</code>]]=`None`, <code>ps</code>:<code>None</code>[<code>float</code>, <code>Collection</code>[<code>float</code>]]=`0.5`)<div style=\"text-align: right\"><a href=\"https://github.com/fastai/fastai_pytorch/blob/master/fastai/vision/learner.py#L18\">[source]</a></div>\n",
       "\n",
       "\n",
       "Model head that takes `nf` features, runs through `lin_ftrs`, and about `nc` classes.\n",
       "\n",
       "- *ps*: dropout, can be a single float or a list for each layer"
      ],
      "text/plain": [
       "<IPython.core.display.Markdown object>"
      ]
     },
     "metadata": {},
     "output_type": "display_data"
    }
   ],
   "source": [
    "show_doc(create_head)"
   ]
  },
  {
   "cell_type": "markdown",
   "metadata": {},
   "source": [
    "[<code>create_head</code>](/vision.learner.html#create_head)"
   ]
  },
  {
   "cell_type": "code",
   "execution_count": null,
   "metadata": {
    "hide_input": true
   },
   "outputs": [
    {
     "data": {
      "text/markdown": [
       "#### <a id=num_features></a>`num_features`\n",
       "(<code>m</code>:[<code>Module</code>](https://pytorch.org/docs/stable/nn.html#torch.nn.Module)) -> <code>int</code><div style=\"text-align: right\"><a href=\"https://github.com/fastai/fastai_pytorch/blob/master/fastai/vision/learner.py#L13\">[source]</a></div>\n",
       "\n",
       "\n",
       "Return the number of output features for a model"
      ],
      "text/plain": [
       "<IPython.core.display.Markdown object>"
      ]
     },
     "metadata": {},
     "output_type": "display_data"
    }
   ],
   "source": [
    "show_doc(num_features)"
   ]
  },
  {
   "cell_type": "markdown",
   "metadata": {},
   "source": [
    "[<code>num_features</code>](/vision.learner.html#num_features)"
   ]
  }
 ],
 "metadata": {
  "jekyll": {
   "summary": "`Learner` support for computer vision",
   "title": "vision.learner"
  },
  "kernelspec": {
   "display_name": "Python 3",
   "language": "python",
   "name": "python3"
  }
 },
 "nbformat": 4,
 "nbformat_minor": 2
}
