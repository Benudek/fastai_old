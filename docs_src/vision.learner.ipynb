{
 "cells": [
  {
   "cell_type": "markdown",
   "metadata": {},
   "source": "# vision.learner"
  },
  {
   "cell_type": "markdown",
   "metadata": {},
   "source": "Type an introduction of the package here."
  },
  {
   "cell_type": "code",
   "execution_count": null,
   "metadata": {
    "hide_input": true
   },
   "outputs": [],
   "source": "from fastai.gen_doc.nbdoc import *\nfrom fastai.vision.learner import * "
  },
  {
   "cell_type": "markdown",
   "metadata": {},
   "source": "### Global Variable Definitions:"
  },
  {
   "cell_type": "code",
   "execution_count": null,
   "metadata": {
    "hide_input": true
   },
   "outputs": [
    {
     "data": {
      "text/markdown": "### <a id=ConvLearner></a><em>class</em> `ConvLearner`\n(<code>data</code>:[<code>DataBunch</code>](fastai.data.html#DataBunch), <code>arch</code>:<code>Callable</code>[], <code>cut</code>=`None`, <code>pretrained</code>:<code>bool</code>=`True`, <code>lin_ftrs</code>:`Optional`[<code>Collection</code>[<code>int</code>]]=`None`, <code>ps</code>:<code>None</code>[<code>float</code>, <code>Collection</code>[<code>float</code>]]=`0.5`, <code>custom_head</code>:`Optional`[[<code>Module</code>](https://pytorch.org/docs/stable/nn.html#torch.nn.Module)]=`None`, <code>split_on</code>:<code>None</code>[<code>Callable</code>[], <code>Collection</code>[<code>Collection</code>[[<code>Module</code>](https://pytorch.org/docs/stable/nn.html#torch.nn.Module)]], <code>NoneType</code>]=`None`, <code>kwargs</code>:<code>Any</code>) -> <code>NoneType</code> :: Inherits ([<code>Learner</code>](fastai.basic_train.html#Learner))<div style=\"text-align: right\"><a href=\"https://github.com/fastai/fastai_pytorch/blob/master/fastai/vision/learner.py#L46\">[source]</a></div>\n\n\nBuilds convnet style learners",
      "text/plain": "<IPython.core.display.Markdown object>"
     },
     "metadata": {},
     "output_type": "display_data"
    }
   ],
   "source": "show_doc(ConvLearner)"
  },
  {
   "cell_type": "markdown",
   "metadata": {},
   "source": "[<code>ConvLearner</code>](fastai.vision.learner.html#ConvLearner)"
  },
  {
   "cell_type": "code",
   "execution_count": null,
   "metadata": {
    "hide_input": true
   },
   "outputs": [
    {
     "data": {
      "text/markdown": "#### <a id=create_body></a>`create_body`\n(<code>model</code>:[<code>Module</code>](https://pytorch.org/docs/stable/nn.html#torch.nn.Module), <code>cut</code>:`Optional`[<code>int</code>]=`None`, <code>body_fn</code>:<code>Callable</code>[[<code>Module</code>](https://pytorch.org/docs/stable/nn.html#torch.nn.Module), [<code>Module</code>](https://pytorch.org/docs/stable/nn.html#torch.nn.Module)]=`None`)<div style=\"text-align: right\"><a href=\"https://github.com/fastai/fastai_pytorch/blob/master/fastai/vision/learner.py#L8\">[source]</a></div>\n\n\nCut off the body of a typically pretrained model at `cut` or as specified by `body_fn`",
      "text/plain": "<IPython.core.display.Markdown object>"
     },
     "metadata": {},
     "output_type": "display_data"
    }
   ],
   "source": "show_doc(create_body)"
  },
  {
   "cell_type": "markdown",
   "metadata": {},
   "source": "[<code>create_body</code>](fastai.vision.learner.html#create_body)"
  },
  {
   "cell_type": "code",
   "execution_count": null,
   "metadata": {
    "hide_input": true
   },
   "outputs": [
    {
     "data": {
      "text/markdown": "#### <a id=create_head></a>`create_head`\n(<code>nf</code>:<code>int</code>, <code>nc</code>:<code>int</code>, <code>lin_ftrs</code>:`Optional`[<code>Collection</code>[<code>int</code>]]=`None`, <code>ps</code>:<code>None</code>[<code>float</code>, <code>Collection</code>[<code>float</code>]]=`0.5`)<div style=\"text-align: right\"><a href=\"https://github.com/fastai/fastai_pytorch/blob/master/fastai/vision/learner.py#L18\">[source]</a></div>\n\n\nModel head that takes `nf` features, runs through `lin_ftrs`, and about `nc` classes.\n\n- *ps*: dropout, can be a single float or a list for each layer",
      "text/plain": "<IPython.core.display.Markdown object>"
     },
     "metadata": {},
     "output_type": "display_data"
    }
   ],
   "source": "show_doc(create_head)"
  },
  {
   "cell_type": "markdown",
   "metadata": {},
   "source": "[<code>create_head</code>](fastai.vision.learner.html#create_head)"
  },
  {
   "cell_type": "code",
   "execution_count": null,
   "metadata": {
    "hide_input": true
   },
   "outputs": [
    {
     "data": {
      "text/markdown": "#### <a id=num_features></a>`num_features`\n(<code>m</code>:[<code>Module</code>](https://pytorch.org/docs/stable/nn.html#torch.nn.Module)) -> <code>int</code><div style=\"text-align: right\"><a href=\"https://github.com/fastai/fastai_pytorch/blob/master/fastai/vision/learner.py#L13\">[source]</a></div>\n\n\nReturn the number of output features for a model",
      "text/plain": "<IPython.core.display.Markdown object>"
     },
     "metadata": {},
     "output_type": "display_data"
    }
   ],
   "source": "show_doc(num_features)"
  },
  {
   "cell_type": "markdown",
   "metadata": {},
   "source": "[<code>num_features</code>](fastai.vision.learner.html#num_features)"
  }
 ],
 "metadata": {
  "kernelspec": {
   "display_name": "Python 3",
   "language": "python",
   "name": "python3"
  }
 },
 "nbformat": 4,
 "nbformat_minor": 2
}
