{
 "cells": [
  {
   "cell_type": "markdown",
   "metadata": {},
   "source": "# Computer Vision Learner"
  },
  {
   "cell_type": "markdown",
   "metadata": {},
   "source": "[`vision.learner`](/vision.learner.html#vision.learner) is the module that defines the `Conv_Learner` class, to easily get a model suitable for transfer learning."
  },
  {
   "cell_type": "code",
   "execution_count": null,
   "metadata": {
    "hide_input": false
   },
   "outputs": [],
   "source": "from fastai.gen_doc.nbdoc import *\nfrom fastai.vision import *\nfrom fastai import *\nfrom fastai.docs import *"
  },
  {
   "cell_type": "markdown",
   "metadata": {},
   "source": "## Transfer learning:"
  },
  {
   "cell_type": "markdown",
   "metadata": {},
   "source": "Transfer learning is a technique where you use a model trained on a very large dataset (usually [ImageNet](http://image-net.org/) in computer vision) and then adapt it to your own dataset. The idea is that it has learned to recognize many features on all of this data, and that you will benefit from this knowledge, especially if your dataset is small, compared to starting from a randomly initiliazed model. It has been proved in [this article](https://arxiv.org/abs/1805.08974) on a wide range of tasks that transfer learning nearly always give better results.\n\nIn practice, you need to change the last part of your model to be adapted to your own number of classes. Most convolutional models end with a few linear layers (a part will call head). The last convolutional layer will have analyzed features in the image that went through the model, and the job of the head is to convert those in predictions for each of our classes. In transfer learning we will keep all the convolutional layers (called the body or the backbone of the model) with their weights pretrained on ImageNet but will define a new head initiliazed randomly.\n\nThen we will train the model we obtain in two phases: first we freeze the body weights and only train the head (to convert those analyzed features into predictions for our own data), then we unfreeze the layers of the backbone (gradually if necessary) and fine-tune the whole model (possily using differential learning rates).\n\nThe [`ConvLearner`](/vision.learner.html#ConvLearner) class helps you to automatically get a pretrained model from a given architecture with a custom head that is suitable for your data."
  },
  {
   "cell_type": "code",
   "execution_count": null,
   "metadata": {
    "hide_input": true
   },
   "outputs": [
    {
     "data": {
      "text/markdown": "## <a id=ConvLearner></a>class `ConvLearner`\n`ConvLearner`(`data`:[`DataBunch`](/data.html#DataBunch), `arch`:`Callable`, `cut`:`Union`\\[`int`, `Callable`\\]=`None`, `pretrained`:`bool`=`True`, `lin_ftrs`:`Optional`\\[`Collection`\\[`int`\\]\\]=`None`, `ps`:`Union`\\[`float`, `Collection`\\[`float`\\]\\]=`0.5`, `custom_head`:`Optional`\\[[`Module`](https://pytorch.org/docs/stable/nn.html#torch.nn.Module)\\]=`None`, `split_on`:`Union`\\[`Callable`, `Collection`\\[`Collection`\\[[`Module`](https://pytorch.org/docs/stable/nn.html#torch.nn.Module)\\]\\], `NoneType`\\]=`None`, `kwargs`:`Any`) :: [`Learner`](/basic_train.html#Learner)\n<a href=\"https://github.com/fastai/fastai_pytorch/blob/master/fastai/vision/learner.py#L44\">[source]</a>",
      "text/plain": "<IPython.core.display.Markdown object>"
     },
     "metadata": {},
     "output_type": "display_data"
    }
   ],
   "source": "show_doc(ConvLearner, doc_string=False)"
  },
  {
   "cell_type": "markdown",
   "metadata": {},
   "source": "This class creates a [[[`Learner`](/basic_train.html#Learner)](/basic_train.html#Learner)](/basic_train.html#Learner) object from the [`data`](/vision.data.html#vision.data) object and model inferred from it with the backbone given in `arch`. Specifically, it will cut the model defined by `arch` (randomly initialized if `pretrained` is False) at the last convolutional layer by default (or as defined in `cut`, see below) and add:\n- an [`AdaptiveConcatPool2d`](/layers.html#AdaptiveConcatPool2d) layer,\n- a [`Flatten`](/layers.html#Flatten) layer,\n- blocks of \\[`nn.BatchNorm1d`, `nn.Dropout`, `nn.Linear`, `nn.ReLU`\\] layers.\n\nThe blocks are defined by the `lin_ftrs` and `ps` arguments. Specifically, the first block will have a number of inputs inferred from the backbone `arch` and the last one will have a number of outputs equal to `data.c` (which contains the number of classes of the data) and the intermediate blocks have a number of inputs/outputs determined by `lin_frs` (of course a block has a number of inputs equal to the number of outputs of the previous block). The dropouts all have a the same value `ps` if you pass a float, or the corresponding values if you pass a list. Default is to have an intermediate hidden size of 512 (which makes two blocks model\\_activation -> 512 -> n\\_classes).\n\nNote that the very last block doesn't have a `nn.ReLU` activation, to allow you to use any final activation you want (generally included in the loss function in pytorch). Also, the backbone will be frozen if you choose `pretrained`=True (so only the head will train if you call [`fit`](/basic_train.html#fit)) so that you can immediately start phase one of training as described above.\n\nAlternatively, you can define your own `custom_head` to put on top of the backbone. If you want to specify where to split `arch` you should so in the argument `cut` which can either be the index of a specific layer (the result will not include that layer) or a function that, when passed the model, will return the backbone you want.\n\nThe final model obtained by stacking the backbone and the head (custom or defined as we saw) is then separated in groups for gradual unfreezeing or differential learning rates. You can specify of to split the backbone in groups with the optional argument `split_on` (should be a function that returns those groups when given the backbone).  \n\nThe `kwargs` will be passed on to [[[`Learner`](/basic_train.html#Learner)](/basic_train.html#Learner)](/basic_train.html#Learner), so you can put here anything that [[[`Learner`](/basic_train.html#Learner)](/basic_train.html#Learner)](/basic_train.html#Learner) will accept ([`metrics`](/metrics.html#metrics), `loss_fn`, `opt_fn`...)"
  },
  {
   "cell_type": "code",
   "execution_count": null,
   "metadata": {},
   "outputs": [],
   "source": "#Uncomment to extract the MNIST sample dataset\n#untar_mnist()"
  },
  {
   "cell_type": "code",
   "execution_count": null,
   "metadata": {},
   "outputs": [],
   "source": "data = image_data_from_folder('../data/mnist_sample/', ds_tfms=get_transforms(do_flip=False), size=32)"
  },
  {
   "cell_type": "code",
   "execution_count": null,
   "metadata": {},
   "outputs": [
    {
     "data": {
      "application/vnd.jupyter.widget-view+json": {
       "model_id": "",
       "version_major": 2,
       "version_minor": 0
      },
      "text/plain": "VBox(children=(HBox(children=(IntProgress(value=0, max=1), HTML(value=''))), HTML(value='epoch  train loss  va…"
     },
     "metadata": {},
     "output_type": "display_data"
    },
    {
     "name": "stdout",
     "output_type": "stream",
     "text": "Total time: 00:14\nepoch  train loss  valid loss  accuracy\n0      0.113352    0.045578    0.980864  (00:14)\n\n"
    }
   ],
   "source": "learner = ConvLearner(data, tvm.resnet34, metrics=[accuracy])\nlearner.fit_one_cycle(1,1e-3)"
  },
  {
   "cell_type": "markdown",
   "metadata": {},
   "source": "## Customize to your model"
  },
  {
   "cell_type": "markdown",
   "metadata": {},
   "source": "If you want to create a [`ConvLearner`](/vision.learner.html#ConvLearner) customized to your own architecture, you'll probably need to use the following helper functions. Note that you can include your own models default `cut` and `split_on` by adding it to the dictionary `model_meta`. The key should be your model and the value should be a dictionary with the keys `cut` and `split_on` (see the source code for examples)."
  },
  {
   "cell_type": "code",
   "execution_count": null,
   "metadata": {
    "hide_input": true
   },
   "outputs": [
    {
     "data": {
      "text/markdown": "#### <a id=create_body></a>`create_body`\n`create_body`(`model`:[`Module`](https://pytorch.org/docs/stable/nn.html#torch.nn.Module), `cut`:`Optional`\\[`int`\\]=`None`, `body_fn`:`Callable`\\[[`Module`](https://pytorch.org/docs/stable/nn.html#torch.nn.Module), [`Module`](https://pytorch.org/docs/stable/nn.html#torch.nn.Module)\\]=`None`)\n\n\nCut off the body of a typically pretrained `model` at `cut` or as specified by `body_fn`. <a href=\"https://github.com/fastai/fastai_pytorch/blob/master/fastai/vision/learner.py#L9\">[source]</a>",
      "text/plain": "<IPython.core.display.Markdown object>"
     },
     "metadata": {},
     "output_type": "display_data"
    }
   ],
   "source": "show_doc(create_body)"
  },
  {
   "cell_type": "code",
   "execution_count": null,
   "metadata": {
    "hide_input": true
   },
   "outputs": [
    {
     "data": {
      "text/markdown": "#### <a id=create_head></a>`create_head`\n`create_head`(`nf`:`int`, `nc`:`int`, `lin_ftrs`:`Optional`\\[`Collection`\\[`int`\\]\\]=`None`, `ps`:`Union`\\[`float`, `Collection`\\[`float`\\]\\]=`0.5`)\n<a href=\"https://github.com/fastai/fastai_pytorch/blob/master/fastai/vision/learner.py#L19\">[source]</a>",
      "text/plain": "<IPython.core.display.Markdown object>"
     },
     "metadata": {},
     "output_type": "display_data"
    }
   ],
   "source": "show_doc(create_head, doc_string=False)"
  },
  {
   "cell_type": "markdown",
   "metadata": {},
   "source": "Model head that takes `nf` features, runs through `lin_ftrs`, and endw with `nc` classes. `ps` represent the probability of the dropouts, and can be a single float or a list for each layer."
  },
  {
   "cell_type": "code",
   "execution_count": null,
   "metadata": {
    "hide_input": true
   },
   "outputs": [
    {
     "data": {
      "text/markdown": "#### <a id=num_features></a>`num_features`\n`num_features`(`m`:[`Module`](https://pytorch.org/docs/stable/nn.html#torch.nn.Module)) -> `int`\n\n\nReturn the number of output features for a `model`. <a href=\"https://github.com/fastai/fastai_pytorch/blob/master/fastai/vision/learner.py#L14\">[source]</a>",
      "text/plain": "<IPython.core.display.Markdown object>"
     },
     "metadata": {},
     "output_type": "display_data"
    }
   ],
   "source": "show_doc(num_features)"
  }
 ],
 "metadata": {
  "jekyll": {
   "summary": "`Learner` support for computer vision",
   "title": "vision.learner"
  },
  "kernelspec": {
   "display_name": "Python 3",
   "language": "python",
   "name": "python3"
  }
 },
 "nbformat": 4,
 "nbformat_minor": 2
}
