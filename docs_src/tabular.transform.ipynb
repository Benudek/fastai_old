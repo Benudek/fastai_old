{
 "cells": [
  {
   "cell_type": "markdown",
   "metadata": {},
   "source": "# tabular.transform"
  },
  {
   "cell_type": "markdown",
   "metadata": {},
   "source": "Type an introduction of the package here."
  },
  {
   "cell_type": "code",
   "execution_count": null,
   "metadata": {
    "hide_input": true
   },
   "outputs": [],
   "source": "from fastai.gen_doc.nbdoc import *\nfrom fastai.tabular.transform import * "
  },
  {
   "cell_type": "markdown",
   "metadata": {},
   "source": "### Global Variable Definitions:"
  },
  {
   "cell_type": "markdown",
   "metadata": {},
   "source": "`FillStrategy = IntEnum('FillStrategy', 'MEDIAN COMMON CONSTANT')` <div style=\"text-align: right\"><a href=\"../fastai/tabular/transform.py#L35\">[source]</a></div>"
  },
  {
   "cell_type": "code",
   "execution_count": null,
   "metadata": {
    "hide_input": true
   },
   "outputs": [],
   "source": "show_doc(Categorify)"
  },
  {
   "cell_type": "markdown",
   "metadata": {},
   "source": "[<code>Categorify</code>](http://docs.fast.ai/tabular.transform.html#Categorify)"
  },
  {
   "cell_type": "code",
   "execution_count": null,
   "metadata": {
    "hide_input": true
   },
   "outputs": [],
   "source": "show_doc(Categorify.apply_test)"
  },
  {
   "cell_type": "markdown",
   "metadata": {},
   "source": "`Categorify.apply_test`"
  },
  {
   "cell_type": "code",
   "execution_count": null,
   "metadata": {
    "hide_input": true
   },
   "outputs": [],
   "source": "show_doc(Categorify.apply_train)"
  },
  {
   "cell_type": "markdown",
   "metadata": {},
   "source": "`Categorify.apply_train`"
  },
  {
   "cell_type": "code",
   "execution_count": null,
   "metadata": {
    "hide_input": true
   },
   "outputs": [],
   "source": "show_doc(FillMissing)"
  },
  {
   "cell_type": "markdown",
   "metadata": {},
   "source": "[<code>FillMissing</code>](http://docs.fast.ai/tabular.transform.html#FillMissing)"
  },
  {
   "cell_type": "code",
   "execution_count": null,
   "metadata": {
    "hide_input": true
   },
   "outputs": [],
   "source": "show_doc(FillMissing.apply_test)"
  },
  {
   "cell_type": "markdown",
   "metadata": {},
   "source": "`FillMissing.apply_test`"
  },
  {
   "cell_type": "code",
   "execution_count": null,
   "metadata": {
    "hide_input": true
   },
   "outputs": [],
   "source": "show_doc(FillMissing.apply_train)"
  },
  {
   "cell_type": "markdown",
   "metadata": {},
   "source": "`FillMissing.apply_train`"
  },
  {
   "cell_type": "code",
   "execution_count": null,
   "metadata": {
    "hide_input": true
   },
   "outputs": [],
   "source": "show_doc(FillStrategy)"
  },
  {
   "cell_type": "markdown",
   "metadata": {},
   "source": "[<code>FillStrategy</code>](http://docs.fast.ai/tabular.transform.html#FillStrategy)"
  },
  {
   "cell_type": "code",
   "execution_count": null,
   "metadata": {
    "hide_input": true
   },
   "outputs": [],
   "source": "show_doc(TabularTransform)"
  },
  {
   "cell_type": "markdown",
   "metadata": {},
   "source": "[<code>TabularTransform</code>](http://docs.fast.ai/tabular.transform.html#TabularTransform)"
  },
  {
   "cell_type": "code",
   "execution_count": null,
   "metadata": {
    "hide_input": true
   },
   "outputs": [],
   "source": "show_doc(TabularTransform.apply_test)"
  },
  {
   "cell_type": "markdown",
   "metadata": {},
   "source": "`TabularTransform.apply_test`"
  },
  {
   "cell_type": "code",
   "execution_count": null,
   "metadata": {
    "hide_input": true
   },
   "outputs": [],
   "source": "show_doc(TabularTransform.apply_train)"
  },
  {
   "cell_type": "markdown",
   "metadata": {},
   "source": "`TabularTransform.apply_train`"
  }
 ],
 "metadata": {
  "kernelspec": {
   "display_name": "Python 3",
   "language": "python",
   "name": "python3"
  }
 },
 "nbformat": 4,
 "nbformat_minor": 2
}
