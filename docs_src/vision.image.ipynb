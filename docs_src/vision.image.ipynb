{
 "cells": [
  {
   "cell_type": "markdown",
   "metadata": {},
   "source": "# vision.image"
  },
  {
   "cell_type": "markdown",
   "metadata": {},
   "source": "Type an introduction of the package here."
  },
  {
   "cell_type": "code",
   "execution_count": null,
   "metadata": {
    "hide_input": true
   },
   "outputs": [],
   "source": "from fastai.gen_doc.nbdoc import *\nfrom fastai.vision.image import * "
  },
  {
   "cell_type": "markdown",
   "metadata": {},
   "source": "### Global Variable Definitions:"
  },
  {
   "cell_type": "markdown",
   "metadata": {},
   "source": "`_all__ = ['Image', 'ImageBBox', 'ImageBase', 'ImageMask', 'RandTransform', 'TfmAffine', 'TfmCoord', 'TfmCrop', 'TfmLighting', ` <div style=\"text-align: right\"><a href=\"..\\..\\fastai_v1\\fastai\\vision\\image.py#L4\">[source]</a></div>"
  },
  {
   "cell_type": "markdown",
   "metadata": {},
   "source": "`TfmList = Union[Transform, Collection[Transform]]` <div style=\"text-align: right\"><a href=\"../fastai/vision/image.py#L289\">[source]</a></div>"
  },
  {
   "cell_type": "markdown",
   "metadata": {},
   "source": "`Tfms = Optional[TfmList]` <div style=\"text-align: right\"><a href=\"../fastai/vision/image.py#L290\">[source]</a></div>"
  },
  {
   "cell_type": "code",
   "execution_count": null,
   "metadata": {
    "hide_input": true
   },
   "outputs": [
    {
     "data": {
      "text/markdown": "#### <a id=affine_grid></a>`affine_grid`(`size`:`Tuple`[`int`, `int`, `int`]) -> `Tensor`<div style=\"text-align: right\"><a href=\"..\\fastai\\vision\\image.py#L288\">[source]</a></div>",
      "text/plain": "<IPython.core.display.Markdown object>"
     },
     "metadata": {},
     "output_type": "display_data"
    }
   ],
   "source": "show_doc(affine_grid)"
  },
  {
   "cell_type": "markdown",
   "metadata": {},
   "source": "[<code>affine_grid</code>](http://docs.fast.ai/vision.image.html#affine_grid)"
  },
  {
   "cell_type": "code",
   "execution_count": null,
   "metadata": {
    "hide_input": true
   },
   "outputs": [],
   "source": "show_doc(affine_mult)"
  },
  {
   "cell_type": "markdown",
   "metadata": {},
   "source": "[<code>affine_mult</code>](http://docs.fast.ai/vision.image.html#affine_mult)"
  },
  {
   "cell_type": "code",
   "execution_count": null,
   "metadata": {
    "hide_input": true
   },
   "outputs": [],
   "source": "show_doc(apply_tfms)"
  },
  {
   "cell_type": "markdown",
   "metadata": {},
   "source": "[<code>apply_tfms</code>](http://docs.fast.ai/vision.image.html#apply_tfms)"
  },
  {
   "cell_type": "code",
   "execution_count": null,
   "metadata": {
    "hide_input": true
   },
   "outputs": [],
   "source": "show_doc(bb2hw)"
  },
  {
   "cell_type": "markdown",
   "metadata": {},
   "source": ""
  },
  {
   "cell_type": "code",
   "execution_count": null,
   "metadata": {
    "hide_input": true
   },
   "outputs": [],
   "source": "show_doc(draw_outline)"
  },
  {
   "cell_type": "markdown",
   "metadata": {},
   "source": ""
  },
  {
   "cell_type": "code",
   "execution_count": null,
   "metadata": {
    "hide_input": true
   },
   "outputs": [],
   "source": "show_doc(draw_rect)"
  },
  {
   "cell_type": "markdown",
   "metadata": {},
   "source": ""
  },
  {
   "cell_type": "code",
   "execution_count": null,
   "metadata": {
    "hide_input": true
   },
   "outputs": [],
   "source": "show_doc(get_crop_target)"
  },
  {
   "cell_type": "markdown",
   "metadata": {},
   "source": "[<code>get_crop_target</code>](http://docs.fast.ai/vision.image.html#get_crop_target)"
  },
  {
   "cell_type": "code",
   "execution_count": null,
   "metadata": {
    "hide_input": true
   },
   "outputs": [],
   "source": "show_doc(get_default_args)"
  },
  {
   "cell_type": "markdown",
   "metadata": {},
   "source": "[<code>get_default_args</code>](http://docs.fast.ai/vision.image.html#get_default_args)"
  },
  {
   "cell_type": "code",
   "execution_count": null,
   "metadata": {
    "hide_input": true
   },
   "outputs": [],
   "source": "show_doc(get_resize_target)"
  },
  {
   "cell_type": "markdown",
   "metadata": {},
   "source": "[<code>get_resize_target</code>](http://docs.fast.ai/vision.image.html#get_resize_target)"
  },
  {
   "cell_type": "code",
   "execution_count": null,
   "metadata": {
    "hide_input": true
   },
   "outputs": [],
   "source": "show_doc(grid_sample)"
  },
  {
   "cell_type": "markdown",
   "metadata": {},
   "source": "[<code>grid_sample</code>](http://docs.fast.ai/vision.image.html#grid_sample)"
  },
  {
   "cell_type": "code",
   "execution_count": null,
   "metadata": {
    "hide_input": true
   },
   "outputs": [],
   "source": "show_doc(Image)"
  },
  {
   "cell_type": "markdown",
   "metadata": {},
   "source": "[<code>Image</code>](http://docs.fast.ai/vision.image.html#Image)"
  },
  {
   "cell_type": "code",
   "execution_count": null,
   "metadata": {
    "hide_input": true
   },
   "outputs": [],
   "source": "show_doc(Image.affine)"
  },
  {
   "cell_type": "markdown",
   "metadata": {},
   "source": "`Image.affine`"
  },
  {
   "cell_type": "code",
   "execution_count": null,
   "metadata": {
    "hide_input": true
   },
   "outputs": [],
   "source": "show_doc(Image.brightness)"
  },
  {
   "cell_type": "markdown",
   "metadata": {},
   "source": "`Image.brightness`"
  },
  {
   "cell_type": "code",
   "execution_count": null,
   "metadata": {
    "hide_input": true
   },
   "outputs": [],
   "source": "show_doc(Image.contrast)"
  },
  {
   "cell_type": "markdown",
   "metadata": {},
   "source": "`Image.contrast`"
  },
  {
   "cell_type": "code",
   "execution_count": null,
   "metadata": {
    "hide_input": true
   },
   "outputs": [],
   "source": "show_doc(Image.coord)"
  },
  {
   "cell_type": "markdown",
   "metadata": {},
   "source": "`Image.coord`"
  },
  {
   "cell_type": "code",
   "execution_count": null,
   "metadata": {
    "hide_input": true
   },
   "outputs": [],
   "source": "show_doc(Image.crop)"
  },
  {
   "cell_type": "markdown",
   "metadata": {},
   "source": "`Image.crop`"
  },
  {
   "cell_type": "code",
   "execution_count": null,
   "metadata": {
    "hide_input": true
   },
   "outputs": [],
   "source": "show_doc(Image.crop_pad)"
  },
  {
   "cell_type": "markdown",
   "metadata": {},
   "source": "`Image.crop_pad`"
  },
  {
   "cell_type": "code",
   "execution_count": null,
   "metadata": {
    "hide_input": true
   },
   "outputs": [],
   "source": "show_doc(Image.dihedral)"
  },
  {
   "cell_type": "markdown",
   "metadata": {},
   "source": "`Image.dihedral`"
  },
  {
   "cell_type": "code",
   "execution_count": null,
   "metadata": {
    "hide_input": true
   },
   "outputs": [],
   "source": "show_doc(Image.flip_lr)"
  },
  {
   "cell_type": "markdown",
   "metadata": {},
   "source": "`Image.flip_lr`"
  },
  {
   "cell_type": "code",
   "execution_count": null,
   "metadata": {
    "hide_input": true
   },
   "outputs": [],
   "source": "show_doc(Image.jitter)"
  },
  {
   "cell_type": "markdown",
   "metadata": {},
   "source": "`Image.jitter`"
  },
  {
   "cell_type": "code",
   "execution_count": null,
   "metadata": {
    "hide_input": true
   },
   "outputs": [],
   "source": "show_doc(Image.lighting)"
  },
  {
   "cell_type": "markdown",
   "metadata": {},
   "source": "`Image.lighting`"
  },
  {
   "cell_type": "code",
   "execution_count": null,
   "metadata": {
    "hide_input": true
   },
   "outputs": [],
   "source": "show_doc(Image.pad)"
  },
  {
   "cell_type": "markdown",
   "metadata": {},
   "source": "`Image.pad`"
  },
  {
   "cell_type": "code",
   "execution_count": null,
   "metadata": {
    "hide_input": true
   },
   "outputs": [],
   "source": "show_doc(Image.perspective_warp)"
  },
  {
   "cell_type": "markdown",
   "metadata": {},
   "source": "`Image.perspective_warp`"
  },
  {
   "cell_type": "code",
   "execution_count": null,
   "metadata": {
    "hide_input": true
   },
   "outputs": [],
   "source": "show_doc(Image.pixel)"
  },
  {
   "cell_type": "markdown",
   "metadata": {},
   "source": "`Image.pixel`"
  },
  {
   "cell_type": "code",
   "execution_count": null,
   "metadata": {
    "hide_input": true
   },
   "outputs": [],
   "source": "show_doc(Image.refresh)"
  },
  {
   "cell_type": "markdown",
   "metadata": {},
   "source": "`Image.refresh`"
  },
  {
   "cell_type": "code",
   "execution_count": null,
   "metadata": {
    "hide_input": true
   },
   "outputs": [],
   "source": "show_doc(Image.resize)"
  },
  {
   "cell_type": "markdown",
   "metadata": {},
   "source": "`Image.resize`"
  },
  {
   "cell_type": "code",
   "execution_count": null,
   "metadata": {
    "hide_input": true
   },
   "outputs": [],
   "source": "show_doc(Image.rotate)"
  },
  {
   "cell_type": "markdown",
   "metadata": {},
   "source": "`Image.rotate`"
  },
  {
   "cell_type": "code",
   "execution_count": null,
   "metadata": {
    "hide_input": true
   },
   "outputs": [],
   "source": "show_doc(Image.show)"
  },
  {
   "cell_type": "markdown",
   "metadata": {},
   "source": "`Image.show`"
  },
  {
   "cell_type": "code",
   "execution_count": null,
   "metadata": {
    "hide_input": true
   },
   "outputs": [],
   "source": "show_doc(Image.skew)"
  },
  {
   "cell_type": "markdown",
   "metadata": {},
   "source": "`Image.skew`"
  },
  {
   "cell_type": "code",
   "execution_count": null,
   "metadata": {
    "hide_input": true
   },
   "outputs": [],
   "source": "show_doc(Image.squish)"
  },
  {
   "cell_type": "markdown",
   "metadata": {},
   "source": "`Image.squish`"
  },
  {
   "cell_type": "code",
   "execution_count": null,
   "metadata": {
    "hide_input": true
   },
   "outputs": [],
   "source": "show_doc(Image.symmetric_warp)"
  },
  {
   "cell_type": "markdown",
   "metadata": {},
   "source": "`Image.symmetric_warp`"
  },
  {
   "cell_type": "code",
   "execution_count": null,
   "metadata": {
    "hide_input": true
   },
   "outputs": [],
   "source": "show_doc(Image.tilt)"
  },
  {
   "cell_type": "markdown",
   "metadata": {},
   "source": "`Image.tilt`"
  },
  {
   "cell_type": "code",
   "execution_count": null,
   "metadata": {
    "hide_input": true
   },
   "outputs": [],
   "source": "show_doc(Image.zoom)"
  },
  {
   "cell_type": "markdown",
   "metadata": {},
   "source": "`Image.zoom`"
  },
  {
   "cell_type": "code",
   "execution_count": null,
   "metadata": {
    "hide_input": true
   },
   "outputs": [],
   "source": "show_doc(Image.zoom_squish)"
  },
  {
   "cell_type": "markdown",
   "metadata": {},
   "source": "`Image.zoom_squish`"
  },
  {
   "cell_type": "code",
   "execution_count": null,
   "metadata": {
    "hide_input": true
   },
   "outputs": [],
   "source": "show_doc(image2np)"
  },
  {
   "cell_type": "markdown",
   "metadata": {},
   "source": ""
  },
  {
   "cell_type": "code",
   "execution_count": null,
   "metadata": {
    "hide_input": true
   },
   "outputs": [],
   "source": "show_doc(ImageBase)"
  },
  {
   "cell_type": "markdown",
   "metadata": {},
   "source": "[<code>ImageBase</code>](http://docs.fast.ai/vision.image.html#ImageBase)"
  },
  {
   "cell_type": "code",
   "execution_count": null,
   "metadata": {
    "hide_input": true
   },
   "outputs": [],
   "source": "show_doc(ImageBase.affine)"
  },
  {
   "cell_type": "markdown",
   "metadata": {},
   "source": "`ImageBase.affine`"
  },
  {
   "cell_type": "code",
   "execution_count": null,
   "metadata": {
    "hide_input": true
   },
   "outputs": [],
   "source": "show_doc(ImageBase.clone)"
  },
  {
   "cell_type": "markdown",
   "metadata": {},
   "source": "`ImageBase.clone`"
  },
  {
   "cell_type": "code",
   "execution_count": null,
   "metadata": {
    "hide_input": true
   },
   "outputs": [],
   "source": "show_doc(ImageBase.coord)"
  },
  {
   "cell_type": "markdown",
   "metadata": {},
   "source": "`ImageBase.coord`"
  },
  {
   "cell_type": "code",
   "execution_count": null,
   "metadata": {
    "hide_input": true
   },
   "outputs": [],
   "source": "show_doc(ImageBase.lighting)"
  },
  {
   "cell_type": "markdown",
   "metadata": {},
   "source": "`ImageBase.lighting`"
  },
  {
   "cell_type": "code",
   "execution_count": null,
   "metadata": {
    "hide_input": true
   },
   "outputs": [],
   "source": "show_doc(ImageBase.pixel)"
  },
  {
   "cell_type": "markdown",
   "metadata": {},
   "source": "`ImageBase.pixel`"
  },
  {
   "cell_type": "code",
   "execution_count": null,
   "metadata": {
    "hide_input": true
   },
   "outputs": [],
   "source": "show_doc(ImageBase.set_sample)"
  },
  {
   "cell_type": "markdown",
   "metadata": {},
   "source": "`ImageBase.set_sample`"
  },
  {
   "cell_type": "code",
   "execution_count": null,
   "metadata": {
    "hide_input": true
   },
   "outputs": [],
   "source": "show_doc(ImageBBox)"
  },
  {
   "cell_type": "markdown",
   "metadata": {},
   "source": "[<code>ImageBBox</code>](http://docs.fast.ai/vision.image.html#ImageBBox)"
  },
  {
   "cell_type": "code",
   "execution_count": null,
   "metadata": {
    "hide_input": true
   },
   "outputs": [],
   "source": "show_doc(ImageBBox.clone)"
  },
  {
   "cell_type": "markdown",
   "metadata": {},
   "source": "`ImageBBox.clone`"
  },
  {
   "cell_type": "code",
   "execution_count": null,
   "metadata": {
    "hide_input": true
   },
   "outputs": [],
   "source": "show_doc(ImageBBox.create)"
  },
  {
   "cell_type": "markdown",
   "metadata": {},
   "source": "`ImageBBox.create`"
  },
  {
   "cell_type": "code",
   "execution_count": null,
   "metadata": {
    "hide_input": true
   },
   "outputs": [],
   "source": "show_doc(ImageMask)"
  },
  {
   "cell_type": "markdown",
   "metadata": {},
   "source": "[<code>ImageMask</code>](http://docs.fast.ai/vision.image.html#ImageMask)"
  },
  {
   "cell_type": "code",
   "execution_count": null,
   "metadata": {
    "hide_input": true
   },
   "outputs": [],
   "source": "show_doc(ImageMask.lighting)"
  },
  {
   "cell_type": "markdown",
   "metadata": {},
   "source": "`ImageMask.lighting`"
  },
  {
   "cell_type": "code",
   "execution_count": null,
   "metadata": {
    "hide_input": true
   },
   "outputs": [],
   "source": "show_doc(ImageMask.refresh)"
  },
  {
   "cell_type": "markdown",
   "metadata": {},
   "source": "`ImageMask.refresh`"
  },
  {
   "cell_type": "code",
   "execution_count": null,
   "metadata": {
    "hide_input": true
   },
   "outputs": [],
   "source": "show_doc(log_uniform)"
  },
  {
   "cell_type": "markdown",
   "metadata": {},
   "source": "[<code>log_uniform</code>](http://docs.fast.ai/vision.image.html#log_uniform)"
  },
  {
   "cell_type": "code",
   "execution_count": null,
   "metadata": {
    "hide_input": true
   },
   "outputs": [],
   "source": "show_doc(logit)"
  },
  {
   "cell_type": "markdown",
   "metadata": {},
   "source": "[<code>logit</code>](http://docs.fast.ai/vision.image.html#logit)"
  },
  {
   "cell_type": "code",
   "execution_count": null,
   "metadata": {
    "hide_input": true
   },
   "outputs": [],
   "source": "show_doc(logit_)"
  },
  {
   "cell_type": "markdown",
   "metadata": {},
   "source": "[<code>logit_</code>](http://docs.fast.ai/vision.image.html#logit_)"
  },
  {
   "cell_type": "code",
   "execution_count": null,
   "metadata": {
    "hide_input": true
   },
   "outputs": [],
   "source": "show_doc(open_image)"
  },
  {
   "cell_type": "markdown",
   "metadata": {},
   "source": ""
  },
  {
   "cell_type": "code",
   "execution_count": null,
   "metadata": {
    "hide_input": true
   },
   "outputs": [],
   "source": "show_doc(open_mask)"
  },
  {
   "cell_type": "markdown",
   "metadata": {},
   "source": ""
  },
  {
   "cell_type": "code",
   "execution_count": null,
   "metadata": {
    "hide_input": true
   },
   "outputs": [],
   "source": "show_doc(pil2tensor)"
  },
  {
   "cell_type": "markdown",
   "metadata": {},
   "source": ""
  },
  {
   "cell_type": "code",
   "execution_count": null,
   "metadata": {
    "hide_input": true
   },
   "outputs": [],
   "source": "show_doc(rand_bool)"
  },
  {
   "cell_type": "markdown",
   "metadata": {},
   "source": "[<code>rand_bool</code>](http://docs.fast.ai/vision.image.html#rand_bool)"
  },
  {
   "cell_type": "code",
   "execution_count": null,
   "metadata": {
    "hide_input": true
   },
   "outputs": [],
   "source": "show_doc(rand_int)"
  },
  {
   "cell_type": "markdown",
   "metadata": {},
   "source": "[<code>rand_int</code>](http://docs.fast.ai/vision.image.html#rand_int)"
  },
  {
   "cell_type": "code",
   "execution_count": null,
   "metadata": {
    "hide_input": true
   },
   "outputs": [],
   "source": "show_doc(RandTransform)"
  },
  {
   "cell_type": "markdown",
   "metadata": {},
   "source": "[<code>RandTransform</code>](http://docs.fast.ai/vision.image.html#RandTransform)"
  },
  {
   "cell_type": "code",
   "execution_count": null,
   "metadata": {
    "hide_input": true
   },
   "outputs": [],
   "source": "show_doc(RandTransform.resolve)"
  },
  {
   "cell_type": "markdown",
   "metadata": {},
   "source": "`RandTransform.resolve`"
  },
  {
   "cell_type": "code",
   "execution_count": null,
   "metadata": {
    "hide_input": true
   },
   "outputs": [],
   "source": "show_doc(resolve_tfms)"
  },
  {
   "cell_type": "markdown",
   "metadata": {},
   "source": "[<code>resolve_tfms</code>](http://docs.fast.ai/vision.image.html#resolve_tfms)"
  },
  {
   "cell_type": "code",
   "execution_count": null,
   "metadata": {
    "hide_input": true
   },
   "outputs": [],
   "source": "show_doc(round_multiple)"
  },
  {
   "cell_type": "markdown",
   "metadata": {},
   "source": "[<code>round_multiple</code>](http://docs.fast.ai/vision.image.html#round_multiple)"
  },
  {
   "cell_type": "code",
   "execution_count": null,
   "metadata": {
    "hide_input": true
   },
   "outputs": [],
   "source": "show_doc(show_image)"
  },
  {
   "cell_type": "markdown",
   "metadata": {},
   "source": ""
  },
  {
   "cell_type": "code",
   "execution_count": null,
   "metadata": {
    "hide_input": true
   },
   "outputs": [],
   "source": "show_doc(show_images)"
  },
  {
   "cell_type": "markdown",
   "metadata": {},
   "source": ""
  },
  {
   "cell_type": "code",
   "execution_count": null,
   "metadata": {
    "hide_input": true
   },
   "outputs": [],
   "source": "show_doc(TfmAffine)"
  },
  {
   "cell_type": "markdown",
   "metadata": {},
   "source": "[<code>TfmAffine</code>](http://docs.fast.ai/vision.image.html#TfmAffine)"
  },
  {
   "cell_type": "code",
   "execution_count": null,
   "metadata": {
    "hide_input": true
   },
   "outputs": [],
   "source": "show_doc(TfmCoord)"
  },
  {
   "cell_type": "markdown",
   "metadata": {},
   "source": "[<code>TfmCoord</code>](http://docs.fast.ai/vision.image.html#TfmCoord)"
  },
  {
   "cell_type": "code",
   "execution_count": null,
   "metadata": {
    "hide_input": true
   },
   "outputs": [],
   "source": "show_doc(TfmCrop)"
  },
  {
   "cell_type": "markdown",
   "metadata": {},
   "source": "[<code>TfmCrop</code>](http://docs.fast.ai/vision.image.html#TfmCrop)"
  },
  {
   "cell_type": "code",
   "execution_count": null,
   "metadata": {
    "hide_input": true
   },
   "outputs": [],
   "source": "show_doc(TfmLighting)"
  },
  {
   "cell_type": "markdown",
   "metadata": {},
   "source": "[<code>TfmLighting</code>](http://docs.fast.ai/vision.image.html#TfmLighting)"
  },
  {
   "cell_type": "code",
   "execution_count": null,
   "metadata": {
    "hide_input": true
   },
   "outputs": [],
   "source": "show_doc(TfmPixel)"
  },
  {
   "cell_type": "markdown",
   "metadata": {},
   "source": "[<code>TfmPixel</code>](http://docs.fast.ai/vision.image.html#TfmPixel)"
  },
  {
   "cell_type": "code",
   "execution_count": null,
   "metadata": {
    "hide_input": true
   },
   "outputs": [],
   "source": "show_doc(Transform)"
  },
  {
   "cell_type": "markdown",
   "metadata": {},
   "source": "[<code>Transform</code>](http://docs.fast.ai/vision.image.html#Transform)"
  },
  {
   "cell_type": "code",
   "execution_count": null,
   "metadata": {
    "hide_input": true
   },
   "outputs": [],
   "source": "show_doc(Transform.calc)"
  },
  {
   "cell_type": "markdown",
   "metadata": {},
   "source": "`Transform.calc`"
  },
  {
   "cell_type": "code",
   "execution_count": null,
   "metadata": {
    "hide_input": true
   },
   "outputs": [],
   "source": "show_doc(uniform)"
  },
  {
   "cell_type": "markdown",
   "metadata": {},
   "source": "[<code>uniform</code>](http://docs.fast.ai/vision.image.html#uniform)"
  },
  {
   "cell_type": "code",
   "execution_count": null,
   "metadata": {
    "hide_input": true
   },
   "outputs": [],
   "source": "show_doc(uniform_int)"
  },
  {
   "cell_type": "markdown",
   "metadata": {},
   "source": "[<code>uniform_int</code>](http://docs.fast.ai/vision.image.html#uniform_int)"
  }
 ],
 "metadata": {
  "kernelspec": {
   "display_name": "Python 3",
   "language": "python",
   "name": "python3"
  }
 },
 "nbformat": 4,
 "nbformat_minor": 2
}
