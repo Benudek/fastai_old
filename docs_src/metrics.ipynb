{
 "cells": [
  {
   "cell_type": "markdown",
   "metadata": {},
   "source": "# metrics"
  },
  {
   "cell_type": "markdown",
   "metadata": {},
   "source": "Type an introduction of the package here."
  },
  {
   "cell_type": "code",
   "execution_count": null,
   "metadata": {
    "hide_input": true
   },
   "outputs": [],
   "source": "from fastai.gen_doc.nbdoc import *\nfrom fastai.metrics import * "
  },
  {
   "cell_type": "markdown",
   "metadata": {},
   "source": "### Global Variable Definitions:"
  },
  {
   "cell_type": "code",
   "execution_count": null,
   "metadata": {
    "hide_input": true
   },
   "outputs": [
    {
     "data": {
      "text/markdown": "#### <a id=accuracy></a>`accuracy`\n(<code>input</code>:<code>Tensor</code>, <code>targs</code>:<code>Tensor</code>) -> <code>OneEltTensor</code><div style=\"text-align: right\"><a href=\"https://github.com/fastai/fastai_pytorch/blob/master/fastai/metrics.py#L30\">[source]</a></div>\n\n\nAccuracy",
      "text/plain": "<IPython.core.display.Markdown object>"
     },
     "metadata": {},
     "output_type": "display_data"
    }
   ],
   "source": "show_doc(accuracy)"
  },
  {
   "cell_type": "markdown",
   "metadata": {},
   "source": "[<code>accuracy</code>](http://docs.fast.ai/metrics.html#accuracy)"
  },
  {
   "cell_type": "code",
   "execution_count": null,
   "metadata": {
    "hide_input": true
   },
   "outputs": [
    {
     "data": {
      "text/markdown": "#### <a id=accuracy_thresh></a>`accuracy_thresh`\n(<code>y_pred</code>:<code>Tensor</code>, <code>y_true</code>:<code>Tensor</code>, <code>thresh</code>:<code>float</code>=`0.5`, <code>sigmoid</code>:<code>bool</code>=`True`) -> <code>OneEltTensor</code><div style=\"text-align: right\"><a href=\"https://github.com/fastai/fastai_pytorch/blob/master/fastai/metrics.py#L17\">[source]</a></div>",
      "text/plain": "<IPython.core.display.Markdown object>"
     },
     "metadata": {},
     "output_type": "display_data"
    }
   ],
   "source": "show_doc(accuracy_thresh)"
  },
  {
   "cell_type": "markdown",
   "metadata": {},
   "source": "[<code>accuracy_thresh</code>](http://docs.fast.ai/metrics.html#accuracy_thresh)"
  },
  {
   "cell_type": "code",
   "execution_count": null,
   "metadata": {
    "hide_input": true
   },
   "outputs": [
    {
     "data": {
      "text/markdown": "#### <a id=dice></a>`dice`\n(<code>input</code>:<code>Tensor</code>, <code>targs</code>:<code>Tensor</code>) -> <code>OneEltTensor</code><div style=\"text-align: right\"><a href=\"https://github.com/fastai/fastai_pytorch/blob/master/fastai/metrics.py#L21\">[source]</a></div>\n\n\nDice coefficient metric for binary target",
      "text/plain": "<IPython.core.display.Markdown object>"
     },
     "metadata": {},
     "output_type": "display_data"
    }
   ],
   "source": "show_doc(dice)"
  },
  {
   "cell_type": "markdown",
   "metadata": {},
   "source": "[<code>dice</code>](http://docs.fast.ai/metrics.html#dice)"
  },
  {
   "cell_type": "code",
   "execution_count": null,
   "metadata": {
    "hide_input": true
   },
   "outputs": [
    {
     "data": {
      "text/markdown": "#### <a id=exp_rmspe></a>`exp_rmspe`\n(<code>pred</code>:<code>Tensor</code>, <code>targ</code>:<code>Tensor</code>) -> <code>OneEltTensor</code><div style=\"text-align: right\"><a href=\"https://github.com/fastai/fastai_pytorch/blob/master/fastai/metrics.py#L37\">[source]</a></div>",
      "text/plain": "<IPython.core.display.Markdown object>"
     },
     "metadata": {},
     "output_type": "display_data"
    }
   ],
   "source": "show_doc(exp_rmspe)"
  },
  {
   "cell_type": "markdown",
   "metadata": {},
   "source": "[<code>exp_rmspe</code>](http://docs.fast.ai/metrics.html#exp_rmspe)"
  },
  {
   "cell_type": "code",
   "execution_count": null,
   "metadata": {
    "hide_input": true
   },
   "outputs": [
    {
     "data": {
      "text/markdown": "#### <a id=fbeta></a>`fbeta`\n(<code>y_pred</code>:<code>Tensor</code>, <code>y_true</code>:<code>Tensor</code>, <code>thresh</code>:<code>float</code>=`0.5`, <code>beta</code>:<code>float</code>=`2`, <code>eps</code>:<code>float</code>=`1e-09`, <code>sigmoid</code>:<code>bool</code>=`True`) -> <code>OneEltTensor</code><div style=\"text-align: right\"><a href=\"https://github.com/fastai/fastai_pytorch/blob/master/fastai/metrics.py#L5\">[source]</a></div>\n\n\nComputes the f_beta between preds and targets",
      "text/plain": "<IPython.core.display.Markdown object>"
     },
     "metadata": {},
     "output_type": "display_data"
    }
   ],
   "source": "show_doc(fbeta)"
  },
  {
   "cell_type": "markdown",
   "metadata": {},
   "source": "[<code>fbeta</code>](http://docs.fast.ai/metrics.html#fbeta)"
  }
 ],
 "metadata": {
  "kernelspec": {
   "display_name": "Python 3",
   "language": "python",
   "name": "python3"
  }
 },
 "nbformat": 4,
 "nbformat_minor": 2
}
