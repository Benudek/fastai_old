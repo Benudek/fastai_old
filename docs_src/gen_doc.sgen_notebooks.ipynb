{
 "cells": [
  {
   "cell_type": "markdown",
   "metadata": {},
   "source": [
    "# gen_doc.sgen_notebooks"
   ]
  },
  {
   "cell_type": "markdown",
   "metadata": {},
   "source": [
    "Type an introduction of the package here."
   ]
  },
  {
   "cell_type": "code",
   "execution_count": null,
   "metadata": {
    "hide_input": true
   },
   "outputs": [],
   "source": [
    "from fastai.gen_doc.nbdoc import *\n",
    "from fastai.gen_doc.sgen_notebooks import * "
   ]
  },
  {
   "cell_type": "code",
   "execution_count": null,
   "metadata": {
    "hide_input": true
   },
   "outputs": [
    {
     "data": {
      "text/markdown": [
       "#### <a id=update_notebooks></a>`update_notebooks`\n",
       "(<code>source_path</code>=`None`, <code>dest_path</code>=`None`, <code>update_html</code>=`False`, <code>update_nb</code>=`True`, <code>html_path</code>=`None`, <code>create_missing</code>=`False`)<div style=\"text-align: right\"><a href=\"https://github.com/fastai/fastai_pytorch/blob/master/fastai/gen_doc/sgen_notebooks.py#L24\">[source]</a></div>\n",
       "\n",
       "\n",
       "`source_path` can be a directory or a file. Assumes all modules reside in the fastai directory."
      ],
      "text/plain": [
       "<IPython.core.display.Markdown object>"
      ]
     },
     "metadata": {},
     "output_type": "display_data"
    }
   ],
   "source": [
    "show_doc(update_notebooks)"
   ]
  },
  {
   "cell_type": "markdown",
   "metadata": {},
   "source": [
    "`update_notebooks`"
   ]
  },
  {
   "cell_type": "markdown",
   "metadata": {},
   "source": [
    "### Updating docs from within notebook:"
   ]
  },
  {
   "cell_type": "markdown",
   "metadata": {},
   "source": [
    "`update_notebooks` can be run from the notebook. \n",
    "\n",
    "Default updates all notebooks in the fastai folder:\n",
    "```python\n",
    "update_notebooks()\n",
    "```\n",
    "\n",
    "To update specific python file only + html also:\n",
    "```python\n",
    "update_notebooks('../fastai/gen_doc/nbdoc.py', update_html=True, create_missing=True)\n",
    "```"
   ]
  },
  {
   "cell_type": "markdown",
   "metadata": {},
   "source": [
    "### Updating notebooks from script:"
   ]
  },
  {
   "cell_type": "markdown",
   "metadata": {},
   "source": [
    "`update_notebooks` can be run as a script for convenience. \n",
    "\n",
    "Default updates all notebooks in the fastai folder:\n",
    "```bash\n",
    "python sgen_notebooks.py\n",
    "```\n",
    "\n",
    "To update specific python file only + html also:\n",
    "```bash\n",
    "python sgen_notebooks.py sgen_notebooks.py --update_html=True --create-missing=True\n",
    "```"
   ]
  }
 ],
 "metadata": {
  "kernelspec": {
   "display_name": "Python 3",
   "language": "python",
   "name": "python3"
  }
 },
 "nbformat": 4,
 "nbformat_minor": 2
}
