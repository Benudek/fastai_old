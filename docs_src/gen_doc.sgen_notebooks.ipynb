{
 "cells": [
  {
   "cell_type": "markdown",
   "metadata": {},
   "source": "# gen_doc.sgen_notebooks"
  },
  {
   "cell_type": "markdown",
   "metadata": {},
   "source": "Type an introduction of the package here."
  },
  {
   "cell_type": "code",
   "execution_count": null,
   "metadata": {
    "hide_input": true
   },
   "outputs": [],
   "source": "from fastai.gen_doc.nbdoc import *\nfrom fastai.gen_doc.sgen_notebooks import * "
  },
  {
   "cell_type": "code",
   "execution_count": null,
   "metadata": {
    "hide_input": true
   },
   "outputs": [
    {
     "data": {
      "text/markdown": "#### <a id=update_notebooks></a>`update_notebooks`\n(<code>source_path</code>=`None`, <code>dest_path</code>=`None`, <code>update_html</code>=`False`, <code>update_nb</code>=`True`, <code>html_path</code>=`None`, <code>create_missing</code>=`False`)<div style=\"text-align: right\"><a href=\"https://github.com/fastai/fastai_pytorch/blob/master/fastai/gen_doc/sgen_notebooks.py#L24\">[source]</a></div>\n\n\n`source_path` can be a directory or a file. Assumes all modules reside in the fastai directory.",
      "text/plain": "<IPython.core.display.Markdown object>"
     },
     "metadata": {},
     "output_type": "display_data"
    }
   ],
   "source": "show_doc(update_notebooks)"
  },
  {
   "cell_type": "markdown",
   "metadata": {},
   "source": "[<code>update_notebooks</code>](http://docs.fast.ai/gen_doc.sgen_notebooks.html#update_notebooks)"
  },
  {
   "cell_type": "markdown",
   "metadata": {},
   "source": "### Updating docs from within notebook:"
  },
  {
   "cell_type": "markdown",
   "metadata": {},
   "source": "[<code>update_notebooks</code>](http://docs.fast.ai/gen_doc.sgen_notebooks.html#update_notebooks) can be run from the notebook. \n\nDefault updates all notebooks in the fastai folder:\n```python\nupdate_notebooks()\n```\n\nTo update specific python file only + html also:\n```python\nupdate_notebooks('../fastai/gen_doc/nbdoc.py', update_html=True, create_missing=True)\n```"
  },
  {
   "cell_type": "markdown",
   "metadata": {},
   "source": "### Updating notebooks from script:"
  },
  {
   "cell_type": "markdown",
   "metadata": {},
   "source": "[<code>update_notebooks</code>](http://docs.fast.ai/gen_doc.sgen_notebooks.html#update_notebooks) can be run as a script for convenience. \n\nDefault updates all notebooks in the fastai folder:\n```bash\npython fastai/gen_doc/sgen_notebooks.py\n```\n\nTo update specific python file only + html also:\n```bash\npython fastai/gen_doc/sgen_notebooks.py fastai/vision/transform.py --update_html=True --create-missing=True\n```"
  }
 ],
 "metadata": {
  "jekyll": {
   "summary": "Script to generate notebooks and update html",
   "title": "gen_doc.sgen_notebooks"
  },
  "kernelspec": {
   "display_name": "Python 3",
   "language": "python",
   "name": "python3"
  }
 },
 "nbformat": 4,
 "nbformat_minor": 2
}
