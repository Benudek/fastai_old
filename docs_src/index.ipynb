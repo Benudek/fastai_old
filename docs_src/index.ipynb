{
 "cells": [
  {
   "cell_type": "markdown",
   "metadata": {},
   "source": [
    "# Welcome to fastai"
   ]
  },
  {
   "cell_type": "markdown",
   "metadata": {},
   "source": [
    "The fastai library simplifies training fast and accurate neural nets using modern best practices. It's based on research in to deep learning best practices undertaken at [fast.ai](http://www.fast.ai). If you're looking for the source code, head over to the [fastai_pytorch repo](https://github.com/fastai/fastai_pytorch) on GitHub."
   ]
  },
  {
   "cell_type": "markdown",
   "metadata": {},
   "source": [
    "## Installation"
   ]
  },
  {
   "cell_type": "markdown",
   "metadata": {},
   "source": [
    "To install fastai, we recommend `conda`:\n",
    "\n",
    "    conda install -c fastai fastai\n",
    "\n",
    "Alternatively, you can install using pip - if you do so, you'll first need to install the latest pytorch `conda-nightly` package or source from master.\n",
    "\n",
    "    pip install fastai\n",
    "\n",
    "fastai is a pure python package, so you can also simply symlink the fastai directory to wherever you're running your code, as long as you've installed the dependencies (listed in the conda and pip files)."
   ]
  },
  {
   "cell_type": "markdown",
   "metadata": {},
   "source": [
    "## Reading the docs"
   ]
  },
  {
   "cell_type": "code",
   "execution_count": null,
   "metadata": {
    "hide_input": true
   },
   "outputs": [],
   "source": [
    "from fastai.gen_doc.nbdoc import *\n",
    "from fastai.core import *\n",
    "from fastai.basic_train import *\n",
    "from fastai.vision import *"
   ]
  },
  {
   "cell_type": "markdown",
   "metadata": {},
   "source": [
    "To get started quickly, click *Applications* on the sidebar, and then choose the application you're interested in. That will take you to a walk-through of training a model of that type. You can then either explore the various links from there, or dive more deeply into the various fastai modules.\n",
    "\n",
    "We've provided below a quick summary of the key modules in this library. For details on each one, use the sidebar to find the module you're interested in. Each module includes an overview and example of how to use it, along with documentation for every class, function, and method. API documentation looks, for example, like this:\n",
    "\n",
    "### An example function"
   ]
  },
  {
   "cell_type": "code",
   "execution_count": null,
   "metadata": {
    "hide_input": true
   },
   "outputs": [
    {
     "data": {
      "text/markdown": [
       "#### <a id=rotate></a>`rotate`\n",
       "`rotate`(<code>degrees</code>:[<code>uniform</code>](/vision.image.html#uniform)) -> [<code>Image</code>](/vision.image.html#Image) :: [<code>TfmAffine</code>](/vision.image.html#TfmAffine)\n",
       "\n",
       "\n",
       "Rotate image by `degrees`. <a href=\"https://github.com/fastai/fastai_pytorch/blob/master/fastai/vision/transform.py#L22\">[source]</a>"
      ],
      "text/plain": [
       "<IPython.core.display.Markdown object>"
      ]
     },
     "metadata": {},
     "output_type": "display_data"
    }
   ],
   "source": [
    "show_doc(rotate)"
   ]
  },
  {
   "cell_type": "markdown",
   "metadata": {},
   "source": [
    "---\n",
    "\n",
    "Types for each parameter, and the return type, are displayed following standard Python [type hint syntax](https://www.python.org/dev/peps/pep-0484/). Types that are defined by fastai or Pytorch link directly to more information about that type; try clicking *Image* in the function above for an example. The docstring for the symbol is shown immediately after the signature, along with a link to the source code for the symbol in GitHub. After the basic signature and docstring you'll find examples and additional details (not shown in this example). As you'll see at the top of the page, all symbols documented like this also appear in the table of contents.\n",
    "\n",
    "For inherited classes and some types of decorated function, the base class or decorator type will also be shown at the end of the signature, delimited by `::`. For `vision.transforms`, the random number generator used for data augmentation is shown instead of the type, for randomly generated parameters."
   ]
  },
  {
   "cell_type": "markdown",
   "metadata": {},
   "source": [
    "## Module structure"
   ]
  },
  {
   "cell_type": "markdown",
   "metadata": {},
   "source": [
    "### Imports"
   ]
  },
  {
   "cell_type": "markdown",
   "metadata": {},
   "source": [
    "fastai is designed to support both interactive computing as well as traditional software development. For interactive computing, where convenience and speed of experimentation is a priority, data scientists often prefer to grab all the symbols they need, with `import *`. Therefore, fastai is designed to support this approach, without compromising on maintainability and understanding.\n",
    "\n",
    "In order to do so, the module dependencies are carefully managed (see next section), with each exporting a carefully chosen set of symbols when using `import *`. In general, for interactive computing, you'll want to import from both `fastai`, and from one of the *applications*, such as:"
   ]
  },
  {
   "cell_type": "code",
   "execution_count": null,
   "metadata": {},
   "outputs": [],
   "source": [
    "from fastai import *\n",
    "from fastai.vision import *"
   ]
  },
  {
   "cell_type": "markdown",
   "metadata": {},
   "source": [
    "That will give you all the standard external modules you'll need, in their customary namespaces (e.g. `pandas as pd`, `numpy as np`, `matplotlib.pyplot as plt`), plus the core fastai libraries. In addition, the main classes and functions for your application (`fastai.vision`, in this case), e.g. creating a [<code>DataBunch</code>](/data.html#DataBunch) from an image folder and training a convolutional neural network (with [<code>ConvLearner</code>](/vision.learner.html#ConvLearner)), are also imported.\n",
    "\n",
    "If you wish to see where a symbol is imported from, either just type the symbol name (in a REPL such as Jupyter Notebook or IPython), or (in most editors) wave your mouse over the symbol to see the definition. For instance:"
   ]
  },
  {
   "cell_type": "code",
   "execution_count": null,
   "metadata": {},
   "outputs": [
    {
     "data": {
      "text/plain": [
       "fastai.vision.learner.ConvLearner"
      ]
     },
     "execution_count": null,
     "metadata": {},
     "output_type": "execute_result"
    }
   ],
   "source": [
    "ConvLearner"
   ]
  },
  {
   "cell_type": "markdown",
   "metadata": {},
   "source": [
    "### Dependencies"
   ]
  },
  {
   "cell_type": "markdown",
   "metadata": {},
   "source": [
    "At the base of everything are the two modules [<code>core</code>](/core.html#fastai.core) and [<code>torch_core</code>](/torch_core.html#fastai.torch_core) (we're not including the `fastai.` prefix when naming modules in these docs). They define the basic functions we use in the library; [<code>core</code>](/core.html#fastai.core) only relies on general modules, whereas [<code>torch_core</code>](/torch_core.html#fastai.torch_core) requires pytorch. Most type-hinting shortcuts are defined there too (at least the one that don't depend on fastai classes defined later). Nearly all modules below import [<code>torch_core</code>](/torch_core.html#fastai.torch_core).\n",
    "\n",
    "Then, there are three modules directly on top of [<code>torch_core</code>](/torch_core.html#fastai.torch_core): \n",
    "- [<code>data</code>](/vision.data.html#fastai.vision.data), which contains the class that will take a [<code>Dataset</code>](https://pytorch.org/docs/stable/data.html#torch.utils.data.Dataset) or pytorch [<code>DataLoader</code>](https://pytorch.org/docs/stable/data.html#torch.utils.data.DataLoader) to wrap it in a [<code>DeviceDataLoader</code>](/data.html#DeviceDataLoader) (a class that sits on top of a [<code>DataLoader</code>](https://pytorch.org/docs/stable/data.html#torch.utils.data.DataLoader) and is in charge of putting the data on the right device as well as applying transforms such as normalization) and regroup then in a [<code>DataBunch</code>](/data.html#DataBunch).\n",
    "- [<code>layers</code>](/layers.html#fastai.layers), which contains basic functions to define custom layers or groups of layers\n",
    "- [<code>metrics</code>](/metrics.html#fastai.metrics), which contains all the metrics\n",
    "\n",
    "From [<code>layers</code>](/layers.html#fastai.layers), we have all the modules in the models folder that are defined. Then from [<code>data</code>](/vision.data.html#fastai.vision.data) we can split on one of the four main *applications*, which each has their own module: [<code>vision</code>](/vision.html#fastai.vision), [<code>text</code>](/text.html#fastai.text) [<code>colab</code>](/colab.html#fastai.colab), or [<code>tabular</code>](/tabular.html#fastai.tabular). Each of those submodules is built in the same way with:\n",
    "- a submodule named [<code>transform</code>](/vision.transform.html#fastai.vision.transform) that handles the transformations of our data (data augmentation for computer vision, numericalizing and tokenizing for text and preprocessing for tabular)\n",
    "- a submodule named [<code>data</code>](/vision.data.html#fastai.vision.data) that contains the class that will create datasets and the helper functions to create [<code>DataBunch</code>](/data.html#DataBunch) objects.\n",
    "\n",
    "This takes care of building your model and handling the data. We regroup those in a [<code>Learner</code>](/basic_train.html#Learner) object to take care of training. More specifically:\n",
    "- [<code>callback</code>](/callback.html#fastai.callback) (depends on [<code>data</code>](/vision.data.html#fastai.vision.data)) defines the basis of callbacks and the [<code>CallbackHandler</code>](/callback.html#CallbackHandler). Those are functions that will be called every step of the way of the training loop and can allow us to customize what is happening there;\n",
    "- [<code>basic_train</code>](/basic_train.html#fastai.basic_train) (depends on [<code>callback</code>](/callback.html#fastai.callback)) defines [<code>Learner</code>](/basic_train.html#Learner) and [<code>Recorder</code>](/basic_train.html#Recorder) (which is a callback that records training stats) and has the training loop;\n",
    "- [<code>callbacks</code>](/callbacks.html#fastai.callbacks) (depends on [<code>basic_train</code>](/basic_train.html#fastai.basic_train)) is a submodule defining various callbacks, such as for mixed precision training or 1cycle annealing;\n",
    "- `learn` (depends on [<code>callbacks</code>](/callbacks.html#fastai.callbacks)) defines helper functions to invoke the callbacks more easily.\n",
    "\n",
    "The module [<code>tta</code>](/tta.html#fastai.tta) (for Test Time Augmentation) depends on [<code>basic_train</code>](/basic_train.html#fastai.basic_train), the module [<code>colab</code>](/colab.html#fastai.colab) (for collaborative filtering) depends on [<code>basic_train</code>](/basic_train.html#fastai.basic_train) and [<code>layers</code>](/layers.html#fastai.layers), so does the module `vision.train` (for our models with a skeleton trained on imagenet and a custom head for classification) and the module `text.train` (to automatically get learner objects for NLP) depends on [<code>callbacks</code>](/callbacks.html#fastai.callbacks) (specifically the [<code>rnn</code>](/callbacks.rnn.html#fastai.callbacks.rnn) callback) and [<code>models</code>](/models.html#fastai.models) (specifically the rnn models).\n",
    "\n",
    "Here is a graph of the key module dependencies:"
   ]
  },
  {
   "cell_type": "markdown",
   "metadata": {},
   "source": [
    "![Modules overview](imgs/module_overview.png)"
   ]
  },
  {
   "cell_type": "code",
   "execution_count": null,
   "metadata": {},
   "outputs": [],
   "source": []
  }
 ],
 "metadata": {
  "jekyll": {
   "title": "fastai"
  },
  "kernelspec": {
   "display_name": "Python 3",
   "language": "python",
   "name": "python3"
  }
 },
 "nbformat": 4,
 "nbformat_minor": 2
}
