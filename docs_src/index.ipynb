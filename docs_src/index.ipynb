{
 "cells": [
  {
   "cell_type": "markdown",
   "metadata": {},
   "source": "# Welcome to fastai"
  },
  {
   "cell_type": "markdown",
   "metadata": {},
   "source": "The fastai library simplifies training fast and accurate neural nets using modern best practices. It's based on research in to deep learning best practices undertaken at [fast.ai](http://www.fast.ai). If you're looking for the source code, head over to the [fastai_pytorch repo](https://github.com/fastai/fastai_pytorch) on GitHub."
  },
  {
   "cell_type": "markdown",
   "metadata": {},
   "source": "## Installation"
  },
  {
   "cell_type": "markdown",
   "metadata": {},
   "source": "To install fastai, we recommend `conda`:\n\n    conda install -c fastai fastai\n\nAlternatively, you can install using pip - if you do so, you'll first need to install the latest pytorch `conda-nightly` package or source from master.\n\n    pip install fastai\n\nfastai is a pure python package, so you can also simply symlink the fastai directory to wherever you're running your code, as long as you've installed the dependencies (listed in the conda and pip files)."
  },
  {
   "cell_type": "markdown",
   "metadata": {},
   "source": "## Reading the docs"
  },
  {
   "cell_type": "markdown",
   "metadata": {},
   "source": "We've provided below a quick overview of the key modules in this library. For details on each one, use the sidebar to find the module you're interested in. Each module includes an overview and example of how to use it, along with documentation for every class, function, and method. API documentation looks, for example, like this:\n\n---"
  },
  {
   "cell_type": "code",
   "execution_count": null,
   "metadata": {
    "hide_input": true
   },
   "outputs": [],
   "source": "from fastai.gen_doc.nbdoc import *\nfrom fastai.core import *\nfrom fastai.basic_train import *"
  },
  {
   "cell_type": "code",
   "execution_count": null,
   "metadata": {
    "hide_input": true
   },
   "outputs": [
    {
     "data": {
      "text/markdown": "#### <a id=find_classes></a>`find_classes`(<code>folder</code>:<code>Path</code>) -> <code>Collection</code>[<code>Path</code>]<div style=\"text-align: right\"><a href=\"https://github.com/fastai/fastai_pytorch/blob/master/fastai/core.py#L59\">[source]</a></div>\n\n\nList of label subdirectories in imagenet-style `folder`",
      "text/plain": "<IPython.core.display.Markdown object>"
     },
     "metadata": {},
     "output_type": "display_data"
    }
   ],
   "source": "show_doc(find_classes)"
  },
  {
   "cell_type": "markdown",
   "metadata": {},
   "source": "---\n\nTypes for each parameter, and the return type, are displayed following standard Python [type hint syntax](https://www.python.org/dev/peps/pep-0484/). Types that are defined by fastai or Pytorch link directly to more information about that type. The docstring for the symbol is show immediately after the signature, along with a link to the source code for the symbol in GitHub. After the basic signature and docstring you'll find examples and additional details (not shown in this example). As you'll see at the top of the page, all symbols documented like this also appear in the table of contents.\n\nFor inherited classes and some types of decorated function, the base class or decorator type will also be shown at the end of the signature, delimited by `::`."
  },
  {
   "cell_type": "markdown",
   "metadata": {},
   "source": "## Module overview"
  },
  {
   "cell_type": "markdown",
   "metadata": {},
   "source": "At the base of everything are the two modules [<code>core</code>](/core.html#fastai.core) and [<code>torch_core</code>](/torch_core.html#fastai.torch_core) (we're not including the `fastai.` prefix when naming modules in these docs). They define the basic functions we use in the library; [<code>core</code>](/core.html#fastai.core) only relies on general modules, whereas [<code>torch_core</code>](/torch_core.html#fastai.torch_core) requires pytorch. Most type-hinting shortcuts are defined there too (at least the one that don't depend on fastai classes defined later). Nearly all modules below import [<code>torch_core</code>](/torch_core.html#fastai.torch_core).\n\nThen, there are three modules directly on top of [<code>torch_core</code>](/torch_core.html#fastai.torch_core): \n- [<code>data</code>](/data.html#fastai.data), which contains the class that will take a [<code>Dataset</code>](https://pytorch.org/docs/stable/data.html#torch.utils.data.Dataset) or pytorch [<code>DataLoader</code>](https://pytorch.org/docs/stable/data.html#torch.utils.data.DataLoader) to wrap it in a [<code>DeviceDataLoader</code>](/data.html#DeviceDataLoader) (a class that sits on top of a [<code>DataLoader</code>](https://pytorch.org/docs/stable/data.html#torch.utils.data.DataLoader) and is in charge of putting the data on the right device as well as applying transforms such as normalization) and regroup then in a [<code>DataBunch</code>](/data.html#DataBunch).\n- [<code>layers</code>](/layers.html#fastai.layers), which contains basic functions to define custom layers or groups of layers\n- [<code>metrics</code>](/metrics.html#fastai.metrics), which contains all the metrics\n\nFrom [<code>layers</code>](/layers.html#fastai.layers), we have all the modules in the models folder that are defined. Then from [<code>data</code>](/data.html#fastai.data) we can split on one of the four main *applications*, which each has their own module: [<code>vision</code>](/vision.html#fastai.vision), [<code>text</code>](/text.html#fastai.text) [<code>colab</code>](/colab.html#fastai.colab), or [<code>tabular</code>](/tabular.html#fastai.tabular). Each of those submodules is built in the same way with:\n- a submodule named `transform` that handles the transformations of our data (data augmentation for computer vision, numericalizing and tokenizing for text and preprocessing for tabular)\n- a submodule named [<code>data</code>](/data.html#fastai.data) that contains the class that will create datasets and the helper functions to create [<code>DataBunch</code>](/data.html#DataBunch) objects.\n\nThis takes care of building your model and handling the data. We regroup those in a [<code>Learner</code>](/basic_train.html#Learner) object to take care of training. More specifically:\n- [<code>callback</code>](/callback.html#fastai.callback) defines the basis of callbacks and the [<code>CallbackHandler</code>](/callback.html#CallbackHandler). Those are functions that will be called every step of the way of the training loop and can allow us to customize what is happening there;\n- [<code>basic_train</code>](/basic_train.html#fastai.basic_train) defines [<code>Learner</code>](/basic_train.html#Learner) and [<code>Recorder</code>](/basic_train.html#Recorder) (which is a callback that records stats and takes care of updating the progress bars) and have the training loop;\n- [<code>callbacks</code>](/callbacks.html#fastai.callbacks) is a submodule defining various callbacks;\n- `learn` defines helper functions to invoke the callbacks more easily.\n\nThe module [<code>tta</code>](/tta.html#fastai.tta) (for Test Time Augmentation) depends on [<code>basic_train</code>](/basic_train.html#fastai.basic_train), the module [<code>colab</code>](/colab.html#fastai.colab) (for collaborative filtering) depends on [<code>basic_train</code>](/basic_train.html#fastai.basic_train) and [<code>layers</code>](/layers.html#fastai.layers), so does the module `conv_learner` (for our models with a skeleton trained on imagenet and a custom head for classification) and the module `rnn_learn` (to automatically get learner objects for NLP) depends on [<code>callbacks</code>](/callbacks.html#fastai.callbacks) (specifically the [<code>rnn</code>](/callbacks.rnn.html#fastai.callbacks.rnn) callback) and [<code>models</code>](/models.html#fastai.models) (specifically the rnn models).\n\nHere is a graph of the key module dependencies:"
  },
  {
   "cell_type": "markdown",
   "metadata": {},
   "source": "![Modules overview](imgs/module_overview.png)"
  },
  {
   "cell_type": "code",
   "execution_count": null,
   "metadata": {},
   "outputs": [],
   "source": ""
  }
 ],
 "metadata": {
  "jekyll": {
   "title": "fastai"
  },
  "kernelspec": {
   "display_name": "Python 3",
   "language": "python",
   "name": "python3"
  }
 },
 "nbformat": 4,
 "nbformat_minor": 2
}
