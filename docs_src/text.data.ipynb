{
 "cells": [
  {
   "cell_type": "markdown",
   "metadata": {},
   "source": [
    "# NLP datasets"
   ]
  },
  {
   "cell_type": "code",
   "execution_count": null,
   "metadata": {
    "hide_input": true
   },
   "outputs": [],
   "source": [
    "from fastai.gen_doc.nbdoc import *\n",
    "from fastai.text import * \n",
    "from fastai.docs import *"
   ]
  },
  {
   "cell_type": "markdown",
   "metadata": {},
   "source": [
    "This module contains the `TextDataset` class, which is the main dataset you should use for your NLP tasks. It automatically does the preprocessing steps described in `text.transform`. It also defines a few helper function to quickly get a `DataBunch` ready."
   ]
  },
  {
   "cell_type": "markdown",
   "metadata": {},
   "source": [
    "## Quickly assemble your data"
   ]
  },
  {
   "cell_type": "markdown",
   "metadata": {},
   "source": [
    "You should get your data in one of the following formats to make the most of the fastai library and use one of the `text_data` function:\n",
    "- raw text files in folders train, valid, test in an ImageNet style,\n",
    "- a csv (with no index or Header) where the first column(s) gives the label(s) and the folowwing one the associated text,\n",
    "- tokens and labels arrays already saved,\n",
    "- ids, vocabulary (correspondance id to word) and labels already saved.\n",
    "\n",
    "If you are assembling the data for a language model, you should define your labels as always 0 to respect those formats. The first time you create a `DataBunch` with one of those functions, your data will be preprocessed automatically and saved, so that the next time you call it is almost instantaneous."
   ]
  },
  {
   "cell_type": "markdown",
   "metadata": {},
   "source": [
    "### text_data functions"
   ]
  },
  {
   "cell_type": "markdown",
   "metadata": {},
   "source": [
    "All those functions will require a `data_func` argument that explains how to assemble the datasets into a `DataBunch`. It can be one of the following:\n",
    "- `standard_data`: the datasets are directly used to create a `DataBunch`,\n",
    "- `lm_data`: the datasets are assembled to create a `DataBunch` suitable for a language model,\n",
    "- `classifier_data`: the datasets are assembled to create a `DataBunch` suitable for an NLP classifier."
   ]
  },
  {
   "cell_type": "code",
   "execution_count": null,
   "metadata": {
    "hide_input": true
   },
   "outputs": [
    {
     "data": {
      "text/markdown": [
       "#### <a id=text_data_from_folder></a>`text_data_from_folder`\n",
       "`text_data_from_folder`(`path`:`Union`\\[`Path`, `str`\\], `tokenizer`:[`Tokenizer`](/text.transform.html#Tokenizer), `train`:`str`=`'train'`, `valid`:`str`=`'valid'`, `test`:`Optional`\\[`str`\\]=`None`, `shuffle`:`bool`=`True`, `data_func`:`Callable`\\[`Collection`\\[[`DatasetBase`](/data.html#DatasetBase)\\], `Union`\\[`Path`, `str`\\], `Dict`\\[`str`, `Any`\\], [`DataBunch`](/data.html#DataBunch)\\]=`<function standard_data at 0x7f434baae510>`, `vocab`:[`Vocab`](/text.transform.html#Vocab)=`None`, `kwargs`)\n",
       "<a href=\"https://github.com/fastai/fastai_pytorch/blob/master/fastai/text/data.py#L283\">[source]</a>"
      ],
      "text/plain": [
       "<IPython.core.display.Markdown object>"
      ]
     },
     "metadata": {},
     "output_type": "display_data"
    }
   ],
   "source": [
    "show_doc(text_data_from_folder, doc_string=False)"
   ]
  },
  {
   "cell_type": "markdown",
   "metadata": {},
   "source": [
    "This function will create a `DataBunch` from texts placed in `path` in a `train`, `valid` and maybe `test` folders. Text files in the `train` and `valid` folders should be places in subdirectories according to their classes (always the same for a language model) and the ones for the `test` folder should all be placed there directly. `tokenizer` will be used to parse those texts into tokens. The `shuffle` flag will optionally shuffle the texts found.\n",
    "\n",
    "You can pass a specific `vocab` for the numericalization step (if you are building a classifier from a language model you fine-tuned for instance). kwargs will be split between the `TextDataset` function and to the `get_data` function, you can precise there parameters such as `max_vocab`, `chunksize`, `min_freq`, `n_labels` (see the `TextDataset` documentation) or `bs`, `bptt` and `pad_idx` (see the sections LM data and classifier data)."
   ]
  },
  {
   "cell_type": "code",
   "execution_count": null,
   "metadata": {
    "hide_input": true
   },
   "outputs": [
    {
     "data": {
      "text/markdown": [
       "#### <a id=text_data_from_csv></a>`text_data_from_csv`\n",
       "`text_data_from_csv`(`path`:`Union`\\[`Path`, `str`\\], `tokenizer`:[`Tokenizer`](/text.transform.html#Tokenizer), `train`:`str`=`'train'`, `valid`:`str`=`'valid'`, `test`:`Optional`\\[`str`\\]=`None`, `data_func`:`Callable`\\[`Collection`\\[[`DatasetBase`](/data.html#DatasetBase)\\], `Union`\\[`Path`, `str`\\], `Dict`\\[`str`, `Any`\\], [`DataBunch`](/data.html#DataBunch)\\]=`<function standard_data at 0x7f434baae510>`, `vocab`:[`Vocab`](/text.transform.html#Vocab)=`None`, `kwargs`) -> [`DataBunch`](/data.html#DataBunch)\n",
       "<a href=\"https://github.com/fastai/fastai_pytorch/blob/master/fastai/text/data.py#L273\">[source]</a>"
      ],
      "text/plain": [
       "<IPython.core.display.Markdown object>"
      ]
     },
     "metadata": {},
     "output_type": "display_data"
    }
   ],
   "source": [
    "show_doc(text_data_from_csv, doc_string=False)"
   ]
  },
  {
   "cell_type": "markdown",
   "metadata": {},
   "source": [
    "This function will create a `DataBunch` from texts placed in `path` in a `train`.csv, `valid`.csv and maybe `test`.csv files. These csv files should have no header or index, and the label(s) should be the first column(s) (be sure to adjust the parameter `n_labels` if you have more than one). `tokenizer` will be used to parse those texts into tokens.\n",
    "\n",
    "You can pass a specific `vocab` for the numericalization step (if you are building a classifier from a language model you fine-tuned for instance). kwargs will be split between the `TextDataset` function and to the `get_data` function, you can precise there parameters such as `max_vocab`, `chunksize`, `min_freq`, `n_labels` (see the `TextDataset` documentation) or `bs`, `bptt` and `pad_idx` (see the sections LM data and classifier data)."
   ]
  },
  {
   "cell_type": "code",
   "execution_count": null,
   "metadata": {
    "hide_input": true
   },
   "outputs": [
    {
     "data": {
      "text/markdown": [
       "#### <a id=text_data_from_tokens></a>`text_data_from_tokens`\n",
       "`text_data_from_tokens`(`path`:`Union`\\[`Path`, `str`\\], `train`:`str`=`'train'`, `valid`:`str`=`'valid'`, `test`:`Optional`\\[`str`\\]=`None`, `data_func`:`Callable`\\[`Collection`\\[[`DatasetBase`](/data.html#DatasetBase)\\], `Union`\\[`Path`, `str`\\], `Dict`\\[`str`, `Any`\\], [`DataBunch`](/data.html#DataBunch)\\]=`<function standard_data at 0x7f434baae510>`, `vocab`:[`Vocab`](/text.transform.html#Vocab)=`None`, `kwargs`) -> [`DataBunch`](/data.html#DataBunch)\n",
       "<a href=\"https://github.com/fastai/fastai_pytorch/blob/master/fastai/text/data.py#L261\">[source]</a>"
      ],
      "text/plain": [
       "<IPython.core.display.Markdown object>"
      ]
     },
     "metadata": {},
     "output_type": "display_data"
    }
   ],
   "source": [
    "show_doc(text_data_from_tokens, doc_string=False)"
   ]
  },
  {
   "cell_type": "markdown",
   "metadata": {},
   "source": [
    "This function will create a `DataBunch` from texts already tokenized placed in `path` in files named `f{train}{tok_suff}`.npy, `f{train}{lbl_suff}`.npy, `f{valid}{tok_suff}`.npy, `f{valid}{lbl_suff}`.npy and maybe `f{test}{tok_suff}`.npy. If no label file exists, labels will default to all zeros. `tok_suff` and `lbl_suff` are '\\_tok' and '\\_lbl' respectively.\n",
    "\n",
    "You can pass a specific `vocab` for the numericalization step (if you are building a classifier from a language model you fine-tuned for instance). kwargs will be split between the `TextDataset` function and to the `get_data` function, you can precise there parameters such as `max_vocab`, `chunksize`, `min_freq`, `n_labels`, `tok_suff` and `lbl_suff` (see the `TextDataset` documentation) or `bs`, `bptt` and `pad_idx` (see the sections LM data and classifier data)."
   ]
  },
  {
   "cell_type": "code",
   "execution_count": null,
   "metadata": {
    "hide_input": true
   },
   "outputs": [
    {
     "data": {
      "text/markdown": [
       "#### <a id=text_data_from_ids></a>`text_data_from_ids`\n",
       "`text_data_from_ids`(`path`:`Union`\\[`Path`, `str`\\], `train`:`str`=`'train'`, `valid`:`str`=`'valid'`, `test`:`Optional`\\[`str`\\]=`None`, `data_func`:`Callable`\\[`Collection`\\[[`DatasetBase`](/data.html#DatasetBase)\\], `Union`\\[`Path`, `str`\\], `Dict`\\[`str`, `Any`\\], [`DataBunch`](/data.html#DataBunch)\\]=`<function standard_data at 0x7f434baae510>`, `itos`:`str`=`'itos.pkl'`, `kwargs`) -> [`DataBunch`](/data.html#DataBunch)\n",
       "<a href=\"https://github.com/fastai/fastai_pytorch/blob/master/fastai/text/data.py#L249\">[source]</a>"
      ],
      "text/plain": [
       "<IPython.core.display.Markdown object>"
      ]
     },
     "metadata": {},
     "output_type": "display_data"
    }
   ],
   "source": [
    "show_doc(text_data_from_ids, doc_string=False)"
   ]
  },
  {
   "cell_type": "markdown",
   "metadata": {},
   "source": [
    "This function will create a `DataBunch` from texts already tokenized placed in `path` in files named `f{train}{id_suff}`.npy, `f{train}{lbl_suff}`.npy, `f{valid}{id_suff}`.npy, `f{valid}{lbl_suff}`.npy and maybe `f{test}{id_suff}`.npy. If no label file exists, labels will default to all zeros. `id_suff` and `lbl_suff` are '\\_ids' and '\\_lbl' respectively. The `itos` file should contain the correspondance from ids to words.\n",
    "\n",
    "kwargs will be split between the `TextDataset` function and to the `get_data` function, you can precise there parameters such as `max_vocab`, `chunksize`, `min_freq`, `n_labels`, `tok_suff` and `lbl_suff` (see the `TextDataset` documentation) or `bs`, `bptt` and `pad_idx` (see the sections LM data and classifier data)."
   ]
  },
  {
   "cell_type": "markdown",
   "metadata": {},
   "source": [
    "### Example"
   ]
  },
  {
   "cell_type": "markdown",
   "metadata": {},
   "source": [
    "If you haven't already, untar the IMDB sample dataset by uncommenting the following cell."
   ]
  },
  {
   "cell_type": "code",
   "execution_count": null,
   "metadata": {},
   "outputs": [],
   "source": [
    "#untar_imdb()"
   ]
  },
  {
   "cell_type": "markdown",
   "metadata": {},
   "source": [
    "Since it comes in the form of csv files, we will use the corresponding `text_data` method. Here is an overview of what your file you should look like:"
   ]
  },
  {
   "cell_type": "code",
   "execution_count": null,
   "metadata": {},
   "outputs": [
    {
     "data": {
      "text/html": [
       "<div>\n",
       "<style scoped>\n",
       "    .dataframe tbody tr th:only-of-type {\n",
       "        vertical-align: middle;\n",
       "    }\n",
       "\n",
       "    .dataframe tbody tr th {\n",
       "        vertical-align: top;\n",
       "    }\n",
       "\n",
       "    .dataframe thead th {\n",
       "        text-align: right;\n",
       "    }\n",
       "</style>\n",
       "<table border=\"1\" class=\"dataframe\">\n",
       "  <thead>\n",
       "    <tr style=\"text-align: right;\">\n",
       "      <th></th>\n",
       "      <th>0</th>\n",
       "      <th>1</th>\n",
       "    </tr>\n",
       "  </thead>\n",
       "  <tbody>\n",
       "    <tr>\n",
       "      <th>0</th>\n",
       "      <td>0</td>\n",
       "      <td>Un-bleeping-believable! Meg Ryan doesn't even ...</td>\n",
       "    </tr>\n",
       "    <tr>\n",
       "      <th>1</th>\n",
       "      <td>1</td>\n",
       "      <td>This is a extremely well-made film. The acting...</td>\n",
       "    </tr>\n",
       "    <tr>\n",
       "      <th>2</th>\n",
       "      <td>0</td>\n",
       "      <td>Every once in a long while a movie will come a...</td>\n",
       "    </tr>\n",
       "    <tr>\n",
       "      <th>3</th>\n",
       "      <td>1</td>\n",
       "      <td>Name just says it all. I watched this movie wi...</td>\n",
       "    </tr>\n",
       "    <tr>\n",
       "      <th>4</th>\n",
       "      <td>0</td>\n",
       "      <td>This movie succeeds at being one of the most u...</td>\n",
       "    </tr>\n",
       "  </tbody>\n",
       "</table>\n",
       "</div>"
      ],
      "text/plain": [
       "   0                                                  1\n",
       "0  0  Un-bleeping-believable! Meg Ryan doesn't even ...\n",
       "1  1  This is a extremely well-made film. The acting...\n",
       "2  0  Every once in a long while a movie will come a...\n",
       "3  1  Name just says it all. I watched this movie wi...\n",
       "4  0  This movie succeeds at being one of the most u..."
      ]
     },
     "execution_count": null,
     "metadata": {},
     "output_type": "execute_result"
    }
   ],
   "source": [
    "df = pd.read_csv('../data/imdb_sample/train.csv', header=None)\n",
    "df.head()"
   ]
  },
  {
   "cell_type": "markdown",
   "metadata": {},
   "source": [
    "And here is a simple way of creating your `DataBunch`."
   ]
  },
  {
   "cell_type": "code",
   "execution_count": null,
   "metadata": {},
   "outputs": [],
   "source": [
    "data_lm = text_data_from_csv(Path('../data/imdb_sample/'), tokenizer=Tokenizer(), data_func=lm_data)"
   ]
  },
  {
   "cell_type": "markdown",
   "metadata": {},
   "source": [
    "## The TextDataset class"
   ]
  },
  {
   "cell_type": "markdown",
   "metadata": {},
   "source": [
    "Behind the scenes, the previous functions will create a training, validation and maybe test `TextDataset` which is the class responsible for collecting and preprocessing the data."
   ]
  },
  {
   "cell_type": "code",
   "execution_count": null,
   "metadata": {
    "hide_input": true
   },
   "outputs": [
    {
     "data": {
      "text/markdown": [
       "## <a id=TextDataset></a>class `TextDataset`\n",
       "`TextDataset`(`path`:`Union`\\[`Path`, `str`\\], `tokenizer`:[`Tokenizer`](/text.transform.html#Tokenizer), `vocab`:[`Vocab`](/text.transform.html#Vocab)=`None`, `max_vocab`:`int`=`60000`, `chunksize`:`int`=`10000`, `name`:`str`=`'train'`, `min_freq`:`int`=`2`, `n_labels`:`int`=`1`, `create_mtd`:[`TextMtd`](/text.data.html#TextMtd)=`<TextMtd.CSV: 1>`, `classes`:`Collection`\\[`Any`\\]=`None`)\n",
       "<a href=\"https://github.com/fastai/fastai_pytorch/blob/master/fastai/text/data.py#L16\">[source]</a>"
      ],
      "text/plain": [
       "<IPython.core.display.Markdown object>"
      ]
     },
     "metadata": {},
     "output_type": "display_data"
    }
   ],
   "source": [
    "show_doc(TextDataset, doc_string=False)"
   ]
  },
  {
   "cell_type": "markdown",
   "metadata": {},
   "source": [
    "This class shouldn't be initialized directly as it will rely on internal files being put in an 'tmp' folder of `path`. `tokenizer` and `vocab` will be used to tokenize and numericalize the texts (if needed). `max_vocab` and `min_freq` are passed at the create of the vocabulary (if needed). `chunksize` is the size of chunks preprocessed when loading the data from csv or folders. `name` is the name of the set that will be used to name the temporary files. `n_labels` is the number of labels if creating the data from a csv file. `classes` is the correspondance between label and classe. `create_mtd` is an internal flag that tells the `TextDataset` how it was created. It can be:\n",
    "- `CSV` if it was created from texts or csv\n",
    "- `TOK` if it was created from tokens (which means the `TextDataset` will always skip the tokenization)\n",
    "- `IDS` if it was created from tokens (which means the `TextDataset` will always skip the tokenization and the numericalization)"
   ]
  },
  {
   "cell_type": "markdown",
   "metadata": {},
   "source": [
    "### Factory methods"
   ]
  },
  {
   "cell_type": "markdown",
   "metadata": {},
   "source": [
    "Instead of using the `TextDataset` init method, one of the following factory functions should be used instead:"
   ]
  },
  {
   "cell_type": "code",
   "execution_count": null,
   "metadata": {
    "hide_input": true
   },
   "outputs": [
    {
     "data": {
      "text/markdown": [
       "#### <a id=from_folder></a>`from_folder`\n",
       "`from_folder`(`folder`:`Union`\\[`Path`, `str`\\], `tokenizer`:[`Tokenizer`](/text.transform.html#Tokenizer), `name`:`str`, `classes`:`Collection`\\[`Any`\\]=`None`, `shuffle`:`bool`=`True`, `kwargs`) -> `TextDataset`\n",
       "<a href=\"https://github.com/fastai/fastai_pytorch/blob/master/fastai/text/data.py#L161\">[source]</a>"
      ],
      "text/plain": [
       "<IPython.core.display.Markdown object>"
      ]
     },
     "metadata": {},
     "output_type": "display_data"
    }
   ],
   "source": [
    "show_doc(TextDataset.from_folder, doc_string=False)"
   ]
  },
  {
   "cell_type": "markdown",
   "metadata": {},
   "source": [
    "Creates a `TextDataset` named `name` by scanning the subfolders in `folder` and using `tokenizer`. If `classes` are passed, only the subfolders named accordingly are checked. If `shuffle` is True, the data will be shuffled. Any additional `kwargs` are passed to the init method of `TextDataset`. "
   ]
  },
  {
   "cell_type": "code",
   "execution_count": null,
   "metadata": {
    "hide_input": true
   },
   "outputs": [
    {
     "data": {
      "text/markdown": [
       "#### <a id=from_one_folder></a>`from_one_folder`\n",
       "`from_one_folder`(`folder`:`Union`\\[`Path`, `str`\\], `tokenizer`:[`Tokenizer`](/text.transform.html#Tokenizer), `name`:`str`, `classes`:`Collection`\\[`Any`\\], `shuffle`:`bool`=`True`, `kwargs`) -> `TextDataset`\n",
       "<a href=\"https://github.com/fastai/fastai_pytorch/blob/master/fastai/text/data.py#L141\">[source]</a>"
      ],
      "text/plain": [
       "<IPython.core.display.Markdown object>"
      ]
     },
     "metadata": {},
     "output_type": "display_data"
    }
   ],
   "source": [
    "show_doc(TextDataset.from_one_folder, doc_string=False)"
   ]
  },
  {
   "cell_type": "markdown",
   "metadata": {},
   "source": [
    "Creates a `TextDataset` named `name` by scanning the text files in `folder` and using `tokenizer`. All files are labelled `classes[0]` so this is typically used for the test set. If `shuffle` is True, the data will be shuffled. Any additional `kwargs` are passed to the init method of `TextDataset`. "
   ]
  },
  {
   "cell_type": "code",
   "execution_count": null,
   "metadata": {
    "hide_input": true
   },
   "outputs": [
    {
     "data": {
      "text/markdown": [
       "#### <a id=from_csv></a>`from_csv`\n",
       "`from_csv`(`folder`:`Union`\\[`Path`, `str`\\], `tokenizer`:[`Tokenizer`](/text.transform.html#Tokenizer), `name`:`str`, `kwargs`) -> `TextDataset`\n",
       "<a href=\"https://github.com/fastai/fastai_pytorch/blob/master/fastai/text/data.py#L133\">[source]</a>"
      ],
      "text/plain": [
       "<IPython.core.display.Markdown object>"
      ]
     },
     "metadata": {},
     "output_type": "display_data"
    }
   ],
   "source": [
    "show_doc(TextDataset.from_csv, doc_string=False)"
   ]
  },
  {
   "cell_type": "markdown",
   "metadata": {},
   "source": [
    "Creates a `TextDataset` named `name` with the texts in `name`.csv using `tokenizer`. Any additional `kwargs` are passed to the init method of `TextDataset`. "
   ]
  },
  {
   "cell_type": "code",
   "execution_count": null,
   "metadata": {
    "hide_input": true
   },
   "outputs": [
    {
     "data": {
      "text/markdown": [
       "#### <a id=from_tokens></a>`from_tokens`\n",
       "`from_tokens`(`folder`:`Union`\\[`Path`, `str`\\], `name`:`str`, `tok_suff`:`str`=`'_tok'`, `lbl_suff`:`str`=`'_lbl'`, `kwargs`) -> `TextDataset`\n",
       "<a href=\"https://github.com/fastai/fastai_pytorch/blob/master/fastai/text/data.py#L121\">[source]</a>"
      ],
      "text/plain": [
       "<IPython.core.display.Markdown object>"
      ]
     },
     "metadata": {},
     "output_type": "display_data"
    }
   ],
   "source": [
    "show_doc(TextDataset.from_tokens, doc_string=False)"
   ]
  },
  {
   "cell_type": "markdown",
   "metadata": {},
   "source": [
    "Creates a `TextDataset` named `name` from tokens and labels saved in `f{name}{tok_suff}.npy` and `f{name}{lbl_suff}.npy` respectively. Any additional `kwargs` are passed to the init method of `TextDataset`. "
   ]
  },
  {
   "cell_type": "code",
   "execution_count": null,
   "metadata": {
    "hide_input": true
   },
   "outputs": [
    {
     "data": {
      "text/markdown": [
       "#### <a id=from_ids></a>`from_ids`\n",
       "`from_ids`(`folder`:`Union`\\[`Path`, `str`\\], `name`:`str`, `id_suff`:`str`=`'_ids'`, `lbl_suff`:`str`=`'_lbl'`, `itos`:`str`=`'itos.pkl'`, `kwargs`) -> `TextDataset`\n",
       "<a href=\"https://github.com/fastai/fastai_pytorch/blob/master/fastai/text/data.py#L109\">[source]</a>"
      ],
      "text/plain": [
       "<IPython.core.display.Markdown object>"
      ]
     },
     "metadata": {},
     "output_type": "display_data"
    }
   ],
   "source": [
    "show_doc(TextDataset.from_ids, doc_string=False)"
   ]
  },
  {
   "cell_type": "markdown",
   "metadata": {},
   "source": [
    "Creates a `TextDataset` named `name` from ids, labels and dictionary saved in `f{name}{id_suff}.npy`, `f{name}{lbl_suff}.npy` and `itos` respectively. Any additional `kwargs` are passed to the init method of `TextDataset`. "
   ]
  },
  {
   "cell_type": "markdown",
   "metadata": {},
   "source": [
    "### Preprocessing"
   ]
  },
  {
   "cell_type": "markdown",
   "metadata": {},
   "source": [
    "The internal preprocessing is done by the two following methods:"
   ]
  },
  {
   "cell_type": "code",
   "execution_count": null,
   "metadata": {
    "hide_input": true
   },
   "outputs": [
    {
     "data": {
      "text/markdown": [
       "#### <a id=tokenize></a>`tokenize`\n",
       "`tokenize`()\n",
       "\n",
       "\n",
       "Tokenize the texts in the csv file. <a href=\"https://github.com/fastai/fastai_pytorch/blob/master/fastai/text/data.py#L67\">[source]</a>"
      ],
      "text/plain": [
       "<IPython.core.display.Markdown object>"
      ]
     },
     "metadata": {},
     "output_type": "display_data"
    }
   ],
   "source": [
    "show_doc(TextDataset.tokenize)"
   ]
  },
  {
   "cell_type": "code",
   "execution_count": null,
   "metadata": {
    "hide_input": true
   },
   "outputs": [
    {
     "data": {
      "text/markdown": [
       "#### <a id=numericalize></a>`numericalize`\n",
       "`numericalize`()\n",
       "\n",
       "\n",
       "Numericalize the tokens in the token file. <a href=\"https://github.com/fastai/fastai_pytorch/blob/master/fastai/text/data.py#L86\">[source]</a>"
      ],
      "text/plain": [
       "<IPython.core.display.Markdown object>"
      ]
     },
     "metadata": {},
     "output_type": "display_data"
    }
   ],
   "source": [
    "show_doc(TextDataset.numericalize)"
   ]
  },
  {
   "cell_type": "markdown",
   "metadata": {},
   "source": [
    "Internally, the `TextDataset` will create a 'tmp' folder in which he will copy or save the following files:\n",
    "- `name`.csv (if created from folders or csv)\n",
    "- `name`\\_tok.npy and `name`\\_lbl.npy (created by `TextDataset.tokenize` from the last step or copied if created from tokens)\n",
    "- `name`\\_ids.npy, `name`\\_lbl.npy and `itos` (created by `TextDataset.numericalize` from the last step or copied if created from ids)\n",
    "\n",
    "Then, when you invoke the `TextDataset` again, it will look for those temporary files and check their consistency to use them, in order to avoid doing again the numericalization or the tokenization. If you feel those files have been corrupted in any way, the following method will clear the 'tmp' subfolder of those files:"
   ]
  },
  {
   "cell_type": "code",
   "execution_count": null,
   "metadata": {
    "hide_input": true
   },
   "outputs": [
    {
     "data": {
      "text/markdown": [
       "#### <a id=clear></a>`clear`\n",
       "`clear`()\n",
       "\n",
       "\n",
       "Remove all temporary files. <a href=\"https://github.com/fastai/fastai_pytorch/blob/master/fastai/text/data.py#L94\">[source]</a>"
      ],
      "text/plain": [
       "<IPython.core.display.Markdown object>"
      ]
     },
     "metadata": {},
     "output_type": "display_data"
    }
   ],
   "source": [
    "show_doc(TextDataset.clear)"
   ]
  },
  {
   "cell_type": "markdown",
   "metadata": {},
   "source": [
    "### Internal methods"
   ]
  },
  {
   "cell_type": "code",
   "execution_count": null,
   "metadata": {},
   "outputs": [
    {
     "data": {
      "text/markdown": [
       "#### <a id=check_ids></a>`check_ids`\n",
       "`check_ids`() -> `bool`\n",
       "\n",
       "\n",
       "Check if a new numericalization is needed. <a href=\"https://github.com/fastai/fastai_pytorch/blob/master/fastai/text/data.py#L47\">[source]</a>"
      ],
      "text/plain": [
       "<IPython.core.display.Markdown object>"
      ]
     },
     "metadata": {},
     "output_type": "display_data"
    }
   ],
   "source": [
    "show_doc(TextDataset.check_ids)"
   ]
  },
  {
   "cell_type": "code",
   "execution_count": null,
   "metadata": {},
   "outputs": [
    {
     "data": {
      "text/markdown": [
       "#### <a id=check_toks></a>`check_toks`\n",
       "`check_toks`() -> `bool`\n",
       "\n",
       "\n",
       "Check if a new tokenization is needed. <a href=\"https://github.com/fastai/fastai_pytorch/blob/master/fastai/text/data.py#L59\">[source]</a>"
      ],
      "text/plain": [
       "<IPython.core.display.Markdown object>"
      ]
     },
     "metadata": {},
     "output_type": "display_data"
    }
   ],
   "source": [
    "show_doc(TextDataset.check_toks)"
   ]
  },
  {
   "cell_type": "code",
   "execution_count": null,
   "metadata": {},
   "outputs": [
    {
     "data": {
      "text/markdown": [
       "#### <a id=general_check></a>`general_check`\n",
       "`general_check`(`pre_files`:`Collection`\\[`Union`\\[`Path`, `str`\\]\\], `post_files`:`Collection`\\[`Union`\\[`Path`, `str`\\]\\])\n",
       "\n",
       "\n",
       "Check that post_files exist and were modified after all the prefiles. <a href=\"https://github.com/fastai/fastai_pytorch/blob/master/fastai/text/data.py#L40\">[source]</a>"
      ],
      "text/plain": [
       "<IPython.core.display.Markdown object>"
      ]
     },
     "metadata": {},
     "output_type": "display_data"
    }
   ],
   "source": [
    "show_doc(TextDataset.general_check)"
   ]
  },
  {
   "cell_type": "markdown",
   "metadata": {},
   "source": [
    "## Language Model data"
   ]
  },
  {
   "cell_type": "code",
   "execution_count": null,
   "metadata": {},
   "outputs": [
    {
     "data": {
      "text/markdown": [
       "#### <a id=lm_data></a>`lm_data`\n",
       "`lm_data`(`datasets`:`Collection`\\[[`TextDataset`](/text.data.html#TextDataset)\\], `path`:`Union`\\[`Path`, `str`\\], `kwargs`) -> [`DataBunch`](/data.html#DataBunch)\n",
       "\n",
       "\n",
       "Create a [`DataBunch`](/data.html#DataBunch) from the `datasets` for language modelling. <a href=\"https://github.com/fastai/fastai_pytorch/blob/master/fastai/text/data.py#L262\">[source]</a>"
      ],
      "text/plain": [
       "<IPython.core.display.Markdown object>"
      ]
     },
     "metadata": {},
     "output_type": "display_data"
    }
   ],
   "source": [
    "show_doc(lm_data)"
   ]
  },
  {
   "cell_type": "code",
   "execution_count": null,
   "metadata": {},
   "outputs": [
    {
     "data": {
      "text/markdown": [
       "## <a id=LanguageModelLoader></a>class `LanguageModelLoader`\n",
       "`LanguageModelLoader`(`dataset`:[`TextDataset`](/text.data.html#TextDataset), `bs`:`int`=`64`, `bptt`:`int`=`70`, `backwards`:`bool`=`False`)\n",
       "\n",
       "\n",
       "Create a dataloader with bptt slightly changing. <a href=\"https://github.com/fastai/fastai_pytorch/blob/master/fastai/text/data.py#L185\">[source]</a>"
      ],
      "text/plain": [
       "<IPython.core.display.Markdown object>"
      ]
     },
     "metadata": {},
     "output_type": "display_data"
    }
   ],
   "source": [
    "show_doc(LanguageModelLoader)"
   ]
  },
  {
   "cell_type": "code",
   "execution_count": null,
   "metadata": {},
   "outputs": [
    {
     "data": {
      "text/markdown": [
       "#### <a id=batchify></a>`batchify`\n",
       "`batchify`(`data`:`ndarray`) -> `LongTensor`\n",
       "\n",
       "\n",
       "Split the corpus `data` in batches. <a href=\"https://github.com/fastai/fastai_pytorch/blob/master/fastai/text/data.py#L207\">[source]</a>"
      ],
      "text/plain": [
       "<IPython.core.display.Markdown object>"
      ]
     },
     "metadata": {},
     "output_type": "display_data"
    }
   ],
   "source": [
    "show_doc(LanguageModelLoader.batchify)"
   ]
  },
  {
   "cell_type": "code",
   "execution_count": null,
   "metadata": {},
   "outputs": [
    {
     "data": {
      "text/markdown": [
       "#### <a id=get_batch></a>`get_batch`\n",
       "`get_batch`(`i`:`int`, `seq_len`:`int`) -> `Tuple`\\[`LongTensor`, `LongTensor`\\]\n",
       "\n",
       "\n",
       "Create a batch at `i` of a given `seq_len`. <a href=\"https://github.com/fastai/fastai_pytorch/blob/master/fastai/text/data.py#L214\">[source]</a>"
      ],
      "text/plain": [
       "<IPython.core.display.Markdown object>"
      ]
     },
     "metadata": {},
     "output_type": "display_data"
    }
   ],
   "source": [
    "show_doc(LanguageModelLoader.get_batch)"
   ]
  },
  {
   "cell_type": "markdown",
   "metadata": {},
   "source": [
    "## Classifier data"
   ]
  },
  {
   "cell_type": "code",
   "execution_count": null,
   "metadata": {},
   "outputs": [
    {
     "data": {
      "text/markdown": [
       "#### <a id=classifier_data></a>`classifier_data`\n",
       "`classifier_data`(`datasets`:`Collection`\\[[`TextDataset`](/text.data.html#TextDataset)\\], `path`:`Union`\\[`Path`, `str`\\], `kwargs`) -> [`DataBunch`](/data.html#DataBunch)\n",
       "\n",
       "\n",
       "Function that transform the `datasets` in a [`DataBunch`](/data.html#DataBunch) for classification. <a href=\"https://github.com/fastai/fastai_pytorch/blob/master/fastai/text/data.py#L267\">[source]</a>"
      ],
      "text/plain": [
       "<IPython.core.display.Markdown object>"
      ]
     },
     "metadata": {},
     "output_type": "display_data"
    }
   ],
   "source": [
    "show_doc(classifier_data)"
   ]
  },
  {
   "cell_type": "code",
   "execution_count": null,
   "metadata": {},
   "outputs": [
    {
     "data": {
      "text/markdown": [
       "## <a id=SortSampler></a>class `SortSampler`\n",
       "`SortSampler`(`data_source`:`Collection`\\[`ndarray`\\], `key`:`Callable`\\[`int`, `int`\\]) :: [`Sampler`](https://pytorch.org/docs/stable/data.html#torch.utils.data.Sampler)\n",
       "\n",
       "\n",
       "Go through the text data by order of length. <a href=\"https://github.com/fastai/fastai_pytorch/blob/master/fastai/text/data.py#L219\">[source]</a>"
      ],
      "text/plain": [
       "<IPython.core.display.Markdown object>"
      ]
     },
     "metadata": {},
     "output_type": "display_data"
    }
   ],
   "source": [
    "show_doc(SortSampler)"
   ]
  },
  {
   "cell_type": "code",
   "execution_count": null,
   "metadata": {},
   "outputs": [
    {
     "data": {
      "text/markdown": [
       "## <a id=SortishSampler></a>class `SortishSampler`\n",
       "`SortishSampler`(`data_source`:`Collection`\\[`ndarray`\\], `key`:`Callable`\\[`int`, `int`\\], `bs`:`int`) :: [`Sampler`](https://pytorch.org/docs/stable/data.html#torch.utils.data.Sampler)\n",
       "\n",
       "\n",
       "Go through the text data by order of length with a bit of randomness. <a href=\"https://github.com/fastai/fastai_pytorch/blob/master/fastai/text/data.py#L228\">[source]</a>"
      ],
      "text/plain": [
       "<IPython.core.display.Markdown object>"
      ]
     },
     "metadata": {},
     "output_type": "display_data"
    }
   ],
   "source": [
    "show_doc(SortishSampler)"
   ]
  },
  {
   "cell_type": "code",
   "execution_count": null,
   "metadata": {},
   "outputs": [
    {
     "data": {
      "text/markdown": [
       "#### <a id=pad_collate></a>`pad_collate`\n",
       "`pad_collate`(`samples`:`Collection`\\[`Tuple`\\[`Collection`\\[`int`\\], `int`\\]\\], `pad_idx`:`int`=`1`, `pad_first`:`bool`=`True`) -> `Tuple`\\[`LongTensor`, `LongTensor`\\]\n",
       "\n",
       "\n",
       "Function that collect samples and adds padding. <a href=\"https://github.com/fastai/fastai_pytorch/blob/master/fastai/text/data.py#L249\">[source]</a>"
      ],
      "text/plain": [
       "<IPython.core.display.Markdown object>"
      ]
     },
     "metadata": {},
     "output_type": "display_data"
    }
   ],
   "source": [
    "show_doc(pad_collate)"
   ]
  },
  {
   "cell_type": "markdown",
   "metadata": {},
   "source": [
    "## Undocumented Methods - Methods moved below this line will intentionally be hidden"
   ]
  },
  {
   "cell_type": "markdown",
   "metadata": {},
   "source": [
    "`TextMtd = IntEnum('TextMtd', 'CSV TOK IDS')` <div style=\"text-align: right\"><a href=\"https://github.com/fastai/fastai_pytorch/blob/master/fastai/text/data.py#L8\">[source]</a></div>"
   ]
  },
  {
   "cell_type": "code",
   "execution_count": null,
   "metadata": {},
   "outputs": [
    {
     "data": {
      "text/markdown": [
       "#### <a id=standard_data></a>`standard_data`\n",
       "`standard_data`(`datasets`:`Collection`\\[[`DatasetBase`](/data.html#DatasetBase)\\], `path`:`Union`\\[`Path`, `str`\\], `kwargs`) -> [`DataBunch`](/data.html#DataBunch)\n",
       "\n",
       "\n",
       "Simply create a [`DataBunch`](/data.html#DataBunch) from the `datasets`. <a href=\"https://github.com/fastai/fastai_pytorch/blob/master/fastai/text/data.py#L258\">[source]</a>"
      ],
      "text/plain": [
       "<IPython.core.display.Markdown object>"
      ]
     },
     "metadata": {},
     "output_type": "display_data"
    }
   ],
   "source": [
    "show_doc(standard_data)"
   ]
  },
  {
   "cell_type": "code",
   "execution_count": null,
   "metadata": {},
   "outputs": [],
   "source": [
    "show_doc(TxtMtd)"
   ]
  },
  {
   "cell_type": "markdown",
   "metadata": {},
   "source": [
    "## New Methods - Please document or move to the undocumented section"
   ]
  },
  {
   "cell_type": "code",
   "execution_count": null,
   "metadata": {
    "hide_input": true
   },
   "outputs": [],
   "source": [
    "show_doc(read_classes)"
   ]
  },
  {
   "cell_type": "markdown",
   "metadata": {},
   "source": []
  }
 ],
 "metadata": {
  "jekyll": {
   "summary": "NLP data loading pipeline. Supports csv, folders, and preprocessed data.",
   "title": "text.data"
  },
  "kernelspec": {
   "display_name": "Python 3",
   "language": "python",
   "name": "python3"
  }
 },
 "nbformat": 4,
 "nbformat_minor": 2
}
