{
 "cells": [
  {
   "cell_type": "markdown",
   "metadata": {},
   "source": "# text.data"
  },
  {
   "cell_type": "markdown",
   "metadata": {},
   "source": "Type an introduction of the package here."
  },
  {
   "cell_type": "code",
   "execution_count": null,
   "metadata": {
    "hide_input": true
   },
   "outputs": [],
   "source": "from fastai.gen_doc.nbdoc import *\nfrom fastai.text.data import * "
  },
  {
   "cell_type": "markdown",
   "metadata": {},
   "source": "### Global Variable Definitions:"
  },
  {
   "cell_type": "markdown",
   "metadata": {},
   "source": "`TextMtd = IntEnum('TextMtd', 'CSV TOK IDS')` <div style=\"text-align: right\"><a href=\"https://github.com/fastai/fastai_pytorch/blob/master/fastai/text/data.py#L8\">[source]</a></div>"
  },
  {
   "cell_type": "code",
   "execution_count": null,
   "metadata": {
    "hide_input": true
   },
   "outputs": [],
   "source": "show_doc(LanguageModelLoader)"
  },
  {
   "cell_type": "markdown",
   "metadata": {},
   "source": "[`LanguageModelLoader`](/text.data.html#LanguageModelLoader)"
  },
  {
   "cell_type": "code",
   "execution_count": null,
   "metadata": {
    "hide_input": true
   },
   "outputs": [],
   "source": "show_doc(LanguageModelLoader.batchify)"
  },
  {
   "cell_type": "markdown",
   "metadata": {},
   "source": "`LanguageModelLoader.batchify`"
  },
  {
   "cell_type": "code",
   "execution_count": null,
   "metadata": {
    "hide_input": true
   },
   "outputs": [],
   "source": "show_doc(LanguageModelLoader.get_batch)"
  },
  {
   "cell_type": "markdown",
   "metadata": {},
   "source": "`LanguageModelLoader.get_batch`"
  },
  {
   "cell_type": "code",
   "execution_count": null,
   "metadata": {
    "hide_input": true
   },
   "outputs": [],
   "source": "show_doc(SortSampler)"
  },
  {
   "cell_type": "markdown",
   "metadata": {},
   "source": "[`SortSampler`](/text.data.html#SortSampler)"
  },
  {
   "cell_type": "code",
   "execution_count": null,
   "metadata": {
    "hide_input": true
   },
   "outputs": [],
   "source": "show_doc(SortishSampler)"
  },
  {
   "cell_type": "markdown",
   "metadata": {},
   "source": "[`SortishSampler`](/text.data.html#SortishSampler)"
  },
  {
   "cell_type": "code",
   "execution_count": null,
   "metadata": {
    "hide_input": true
   },
   "outputs": [],
   "source": "show_doc(TextDataset)"
  },
  {
   "cell_type": "markdown",
   "metadata": {},
   "source": "[`TextDataset`](/text.data.html#TextDataset)"
  },
  {
   "cell_type": "code",
   "execution_count": null,
   "metadata": {
    "hide_input": true
   },
   "outputs": [],
   "source": "show_doc(TextDataset.check_ids)"
  },
  {
   "cell_type": "markdown",
   "metadata": {},
   "source": "`TextDataset.check_ids`"
  },
  {
   "cell_type": "code",
   "execution_count": null,
   "metadata": {
    "hide_input": true
   },
   "outputs": [],
   "source": "show_doc(TextDataset.check_toks)"
  },
  {
   "cell_type": "markdown",
   "metadata": {},
   "source": "`TextDataset.check_toks`"
  },
  {
   "cell_type": "code",
   "execution_count": null,
   "metadata": {
    "hide_input": true
   },
   "outputs": [],
   "source": "show_doc(TextDataset.clear)"
  },
  {
   "cell_type": "markdown",
   "metadata": {},
   "source": "`TextDataset.clear`"
  },
  {
   "cell_type": "code",
   "execution_count": null,
   "metadata": {
    "hide_input": true
   },
   "outputs": [],
   "source": "show_doc(TextDataset.from_csv)"
  },
  {
   "cell_type": "markdown",
   "metadata": {},
   "source": "`TextDataset.from_csv`"
  },
  {
   "cell_type": "code",
   "execution_count": null,
   "metadata": {
    "hide_input": true
   },
   "outputs": [],
   "source": "show_doc(TextDataset.from_folder)"
  },
  {
   "cell_type": "markdown",
   "metadata": {},
   "source": "`TextDataset.from_folder`"
  },
  {
   "cell_type": "code",
   "execution_count": null,
   "metadata": {
    "hide_input": true
   },
   "outputs": [],
   "source": "show_doc(TextDataset.from_ids)"
  },
  {
   "cell_type": "markdown",
   "metadata": {},
   "source": "`TextDataset.from_ids`"
  },
  {
   "cell_type": "code",
   "execution_count": null,
   "metadata": {
    "hide_input": true
   },
   "outputs": [],
   "source": "show_doc(TextDataset.from_tokens)"
  },
  {
   "cell_type": "markdown",
   "metadata": {},
   "source": "`TextDataset.from_tokens`"
  },
  {
   "cell_type": "code",
   "execution_count": null,
   "metadata": {
    "hide_input": true
   },
   "outputs": [],
   "source": "show_doc(TextDataset.general_check)"
  },
  {
   "cell_type": "markdown",
   "metadata": {},
   "source": "`TextDataset.general_check`"
  },
  {
   "cell_type": "code",
   "execution_count": null,
   "metadata": {
    "hide_input": true
   },
   "outputs": [],
   "source": "show_doc(TextDataset.numericalize)"
  },
  {
   "cell_type": "markdown",
   "metadata": {},
   "source": "`TextDataset.numericalize`"
  },
  {
   "cell_type": "code",
   "execution_count": null,
   "metadata": {
    "hide_input": true
   },
   "outputs": [],
   "source": "show_doc(TextDataset.tokenize)"
  },
  {
   "cell_type": "markdown",
   "metadata": {},
   "source": "`TextDataset.tokenize`"
  },
  {
   "cell_type": "code",
   "execution_count": null,
   "metadata": {
    "hide_input": true
   },
   "outputs": [],
   "source": "show_doc(TextMtd)"
  },
  {
   "cell_type": "markdown",
   "metadata": {},
   "source": "[`TextMtd`](/text.data.html#TextMtd)"
  },
  {
   "cell_type": "code",
   "execution_count": null,
   "metadata": {
    "hide_input": true
   },
   "outputs": [],
   "source": "show_doc(classifier_data)"
  },
  {
   "cell_type": "markdown",
   "metadata": {},
   "source": "[`classifier_data`](/text.data.html#classifier_data)"
  },
  {
   "cell_type": "code",
   "execution_count": null,
   "metadata": {
    "hide_input": true
   },
   "outputs": [],
   "source": "show_doc(lm_data)"
  },
  {
   "cell_type": "markdown",
   "metadata": {},
   "source": "[`lm_data`](/text.data.html#lm_data)"
  },
  {
   "cell_type": "code",
   "execution_count": null,
   "metadata": {
    "hide_input": true
   },
   "outputs": [],
   "source": "show_doc(pad_collate)"
  },
  {
   "cell_type": "markdown",
   "metadata": {},
   "source": "[`pad_collate`](/text.data.html#pad_collate)"
  },
  {
   "cell_type": "code",
   "execution_count": null,
   "metadata": {
    "hide_input": true
   },
   "outputs": [],
   "source": "show_doc(standard_data)"
  },
  {
   "cell_type": "markdown",
   "metadata": {},
   "source": "[`standard_data`](/text.data.html#standard_data)"
  },
  {
   "cell_type": "code",
   "execution_count": null,
   "metadata": {
    "hide_input": true
   },
   "outputs": [],
   "source": "show_doc(text_data_from_csv)"
  },
  {
   "cell_type": "markdown",
   "metadata": {},
   "source": "[`text_data_from_csv`](/text.data.html#text_data_from_csv)"
  },
  {
   "cell_type": "code",
   "execution_count": null,
   "metadata": {
    "hide_input": true
   },
   "outputs": [],
   "source": "show_doc(text_data_from_folder)"
  },
  {
   "cell_type": "markdown",
   "metadata": {},
   "source": "[`text_data_from_folder`](/text.data.html#text_data_from_folder)"
  },
  {
   "cell_type": "code",
   "execution_count": null,
   "metadata": {
    "hide_input": true
   },
   "outputs": [],
   "source": "show_doc(text_data_from_ids)"
  },
  {
   "cell_type": "markdown",
   "metadata": {},
   "source": "[`text_data_from_ids`](/text.data.html#text_data_from_ids)"
  },
  {
   "cell_type": "code",
   "execution_count": null,
   "metadata": {
    "hide_input": true
   },
   "outputs": [],
   "source": "show_doc(text_data_from_tokens)"
  },
  {
   "cell_type": "markdown",
   "metadata": {},
   "source": "[`text_data_from_tokens`](/text.data.html#text_data_from_tokens)"
  },
  {
   "cell_type": "markdown",
   "metadata": {},
   "source": "## Undocumented Methods - Methods moved below this line will intentionally be hidden"
  },
  {
   "cell_type": "markdown",
   "metadata": {},
   "source": "## New Methods - Please document or move to the undocumented section"
  },
  {
   "cell_type": "code",
   "execution_count": null,
   "metadata": {
    "hide_input": true
   },
   "outputs": [],
   "source": "show_doc(read_classes)"
  },
  {
   "cell_type": "markdown",
   "metadata": {},
   "source": ""
  }
 ],
 "metadata": {
  "jekyll": {
   "summary": "NLP data loading pipeline. Supports csv, folders, and preprocessed data.",
   "title": "text.data"
  },
  "kernelspec": {
   "display_name": "Python 3",
   "language": "python",
   "name": "python3"
  }
 },
 "nbformat": 4,
 "nbformat_minor": 2
}
