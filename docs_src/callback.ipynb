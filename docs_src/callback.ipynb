{
 "cells": [
  {
   "cell_type": "markdown",
   "metadata": {},
   "source": "# callback"
  },
  {
   "cell_type": "markdown",
   "metadata": {},
   "source": "Type an introduction of the package here."
  },
  {
   "cell_type": "code",
   "execution_count": null,
   "metadata": {
    "hide_input": true
   },
   "outputs": [],
   "source": "from fastai.gen_doc.nbdoc import *\nfrom fastai.callback import * "
  },
  {
   "cell_type": "markdown",
   "metadata": {},
   "source": "### Global Variable Definitions:"
  },
  {
   "cell_type": "code",
   "execution_count": null,
   "metadata": {
    "hide_input": true
   },
   "outputs": [
    {
     "data": {
      "text/markdown": "### <a id=Callback></a><em>class</em> `Callback`()<div style=\"text-align: right\"><a href=\"https://github.com/fastai/fastai_pytorch/blob/master/fastai/callback.py#L116\">[source]</a></div>\n\n\nBase class for callbacks that want to record values, dynamically change learner params, etc",
      "text/plain": "<IPython.core.display.Markdown object>"
     },
     "metadata": {},
     "output_type": "display_data"
    }
   ],
   "source": "show_doc(Callback)"
  },
  {
   "cell_type": "markdown",
   "metadata": {},
   "source": "[<code>Callback</code>](http://docs.fast.ai/callback.html#Callback)"
  },
  {
   "cell_type": "code",
   "execution_count": null,
   "metadata": {
    "hide_input": true
   },
   "outputs": [
    {
     "data": {
      "text/markdown": "#### <a id=on_backward_begin></a>`on_backward_begin`(<code>kwargs</code>:<code>Any</code>) -> <code>NoneType</code><div style=\"text-align: right\"><a href=\"https://github.com/fastai/fastai_pytorch/blob/master/fastai/callback.py#L130\">[source]</a></div>\n\n\nReturns the loss (which can allow us to modify it, for instance for reg functions)",
      "text/plain": "<IPython.core.display.Markdown object>"
     },
     "metadata": {},
     "output_type": "display_data"
    }
   ],
   "source": "show_doc(Callback.on_backward_begin)"
  },
  {
   "cell_type": "markdown",
   "metadata": {},
   "source": "`Callback.on_backward_begin`"
  },
  {
   "cell_type": "code",
   "execution_count": null,
   "metadata": {
    "hide_input": true
   },
   "outputs": [
    {
     "data": {
      "text/markdown": "#### <a id=on_backward_end></a>`on_backward_end`(<code>kwargs</code>:<code>Any</code>) -> <code>NoneType</code><div style=\"text-align: right\"><a href=\"https://github.com/fastai/fastai_pytorch/blob/master/fastai/callback.py#L134\">[source]</a></div>\n\n\nCalled after backprop but before optimizer step. Useful for true weight decay in AdamW",
      "text/plain": "<IPython.core.display.Markdown object>"
     },
     "metadata": {},
     "output_type": "display_data"
    }
   ],
   "source": "show_doc(Callback.on_backward_end)"
  },
  {
   "cell_type": "markdown",
   "metadata": {},
   "source": "`Callback.on_backward_end`"
  },
  {
   "cell_type": "code",
   "execution_count": null,
   "metadata": {
    "hide_input": true
   },
   "outputs": [
    {
     "data": {
      "text/markdown": "#### <a id=on_batch_begin></a>`on_batch_begin`(<code>kwargs</code>:<code>Any</code>) -> <code>NoneType</code><div style=\"text-align: right\"><a href=\"https://github.com/fastai/fastai_pytorch/blob/master/fastai/callback.py#L124\">[source]</a></div>\n\n\nSet HP before the step is done. Returns xb, yb (which can allow us to modify the input at that step if needed)",
      "text/plain": "<IPython.core.display.Markdown object>"
     },
     "metadata": {},
     "output_type": "display_data"
    }
   ],
   "source": "show_doc(Callback.on_batch_begin)"
  },
  {
   "cell_type": "markdown",
   "metadata": {},
   "source": "`Callback.on_batch_begin`"
  },
  {
   "cell_type": "code",
   "execution_count": null,
   "metadata": {
    "hide_input": true
   },
   "outputs": [
    {
     "data": {
      "text/markdown": "#### <a id=on_batch_end></a>`on_batch_end`(<code>kwargs</code>:<code>Any</code>) -> <code>NoneType</code><div style=\"text-align: right\"><a href=\"https://github.com/fastai/fastai_pytorch/blob/master/fastai/callback.py#L140\">[source]</a></div>\n\n\nCalled at the end of the batch",
      "text/plain": "<IPython.core.display.Markdown object>"
     },
     "metadata": {},
     "output_type": "display_data"
    }
   ],
   "source": "show_doc(Callback.on_batch_end)"
  },
  {
   "cell_type": "markdown",
   "metadata": {},
   "source": "`Callback.on_batch_end`"
  },
  {
   "cell_type": "code",
   "execution_count": null,
   "metadata": {
    "hide_input": true
   },
   "outputs": [
    {
     "data": {
      "text/markdown": "#### <a id=on_epoch_begin></a>`on_epoch_begin`(<code>kwargs</code>:<code>Any</code>) -> <code>NoneType</code><div style=\"text-align: right\"><a href=\"https://github.com/fastai/fastai_pytorch/blob/master/fastai/callback.py#L121\">[source]</a></div>\n\n\nAt the beginning of each epoch",
      "text/plain": "<IPython.core.display.Markdown object>"
     },
     "metadata": {},
     "output_type": "display_data"
    }
   ],
   "source": "show_doc(Callback.on_epoch_begin)"
  },
  {
   "cell_type": "markdown",
   "metadata": {},
   "source": "`Callback.on_epoch_begin`"
  },
  {
   "cell_type": "code",
   "execution_count": null,
   "metadata": {
    "hide_input": true
   },
   "outputs": [
    {
     "data": {
      "text/markdown": "#### <a id=on_epoch_end></a>`on_epoch_end`(<code>kwargs</code>:<code>Any</code>) -> <code>bool</code><div style=\"text-align: right\"><a href=\"https://github.com/fastai/fastai_pytorch/blob/master/fastai/callback.py#L143\">[source]</a></div>\n\n\nCalled at the end of an epoch",
      "text/plain": "<IPython.core.display.Markdown object>"
     },
     "metadata": {},
     "output_type": "display_data"
    }
   ],
   "source": "show_doc(Callback.on_epoch_end)"
  },
  {
   "cell_type": "markdown",
   "metadata": {},
   "source": "`Callback.on_epoch_end`"
  },
  {
   "cell_type": "code",
   "execution_count": null,
   "metadata": {
    "hide_input": true
   },
   "outputs": [
    {
     "data": {
      "text/markdown": "#### <a id=on_loss_begin></a>`on_loss_begin`(<code>kwargs</code>:<code>Any</code>) -> <code>NoneType</code><div style=\"text-align: right\"><a href=\"https://github.com/fastai/fastai_pytorch/blob/master/fastai/callback.py#L127\">[source]</a></div>\n\n\nCalled after forward pass but before loss has been computed. Returns the output (which can allow us to modify it)",
      "text/plain": "<IPython.core.display.Markdown object>"
     },
     "metadata": {},
     "output_type": "display_data"
    }
   ],
   "source": "show_doc(Callback.on_loss_begin)"
  },
  {
   "cell_type": "markdown",
   "metadata": {},
   "source": "`Callback.on_loss_begin`"
  },
  {
   "cell_type": "code",
   "execution_count": null,
   "metadata": {
    "hide_input": true
   },
   "outputs": [
    {
     "data": {
      "text/markdown": "#### <a id=on_step_end></a>`on_step_end`(<code>kwargs</code>:<code>Any</code>) -> <code>NoneType</code><div style=\"text-align: right\"><a href=\"https://github.com/fastai/fastai_pytorch/blob/master/fastai/callback.py#L137\">[source]</a></div>\n\n\nCalled after the step of the optimizer but before the gradients are zeroed (not sure this one is useful)",
      "text/plain": "<IPython.core.display.Markdown object>"
     },
     "metadata": {},
     "output_type": "display_data"
    }
   ],
   "source": "show_doc(Callback.on_step_end)"
  },
  {
   "cell_type": "markdown",
   "metadata": {},
   "source": "`Callback.on_step_end`"
  },
  {
   "cell_type": "code",
   "execution_count": null,
   "metadata": {
    "hide_input": true
   },
   "outputs": [
    {
     "data": {
      "text/markdown": "#### <a id=on_train_begin></a>`on_train_begin`(<code>kwargs</code>:<code>Any</code>) -> <code>NoneType</code><div style=\"text-align: right\"><a href=\"https://github.com/fastai/fastai_pytorch/blob/master/fastai/callback.py#L118\">[source]</a></div>\n\n\nTo initialize constants in the callback.",
      "text/plain": "<IPython.core.display.Markdown object>"
     },
     "metadata": {},
     "output_type": "display_data"
    }
   ],
   "source": "show_doc(Callback.on_train_begin)"
  },
  {
   "cell_type": "markdown",
   "metadata": {},
   "source": "`Callback.on_train_begin`"
  },
  {
   "cell_type": "code",
   "execution_count": null,
   "metadata": {
    "hide_input": true
   },
   "outputs": [
    {
     "data": {
      "text/markdown": "#### <a id=on_train_end></a>`on_train_end`(<code>kwargs</code>:<code>Any</code>) -> <code>NoneType</code><div style=\"text-align: right\"><a href=\"https://github.com/fastai/fastai_pytorch/blob/master/fastai/callback.py#L146\">[source]</a></div>\n\n\nUseful for cleaning up things and saving files/models",
      "text/plain": "<IPython.core.display.Markdown object>"
     },
     "metadata": {},
     "output_type": "display_data"
    }
   ],
   "source": "show_doc(Callback.on_train_end)"
  },
  {
   "cell_type": "markdown",
   "metadata": {},
   "source": "`Callback.on_train_end`"
  },
  {
   "cell_type": "code",
   "execution_count": null,
   "metadata": {
    "hide_input": true
   },
   "outputs": [
    {
     "data": {
      "text/markdown": "### <a id=CallbackHandler></a><em>class</em> `CallbackHandler`\n(<code>callbacks</code>:<code>Collection</code>[[<code>Callback</code>](fastai.callback.html#Callback)], <code>beta</code>:<code>float</code>=`0.98`) -> <code>NoneType</code><div style=\"text-align: right\"><a href=\"https://github.com/fastai/fastai_pytorch/blob/master/fastai/callback.py#L168\">[source]</a></div>\n\n\nManages all of the registered callback objects, beta is for smoothing loss",
      "text/plain": "<IPython.core.display.Markdown object>"
     },
     "metadata": {},
     "output_type": "display_data"
    }
   ],
   "source": "show_doc(CallbackHandler)"
  },
  {
   "cell_type": "markdown",
   "metadata": {},
   "source": "[<code>CallbackHandler</code>](http://docs.fast.ai/callback.html#CallbackHandler)"
  },
  {
   "cell_type": "code",
   "execution_count": null,
   "metadata": {
    "hide_input": true
   },
   "outputs": [
    {
     "data": {
      "text/markdown": "#### <a id=on_backward_begin></a>`on_backward_begin`(<code>loss</code>:<code>Tensor</code>) -> <code>NoneType</code><div style=\"text-align: right\"><a href=\"https://github.com/fastai/fastai_pytorch/blob/master/fastai/callback.py#L209\">[source]</a></div>\n\n\nHandle gradient calculation on `loss`",
      "text/plain": "<IPython.core.display.Markdown object>"
     },
     "metadata": {},
     "output_type": "display_data"
    }
   ],
   "source": "show_doc(CallbackHandler.on_backward_begin)"
  },
  {
   "cell_type": "markdown",
   "metadata": {},
   "source": "`CallbackHandler.on_backward_begin`"
  },
  {
   "cell_type": "code",
   "execution_count": null,
   "metadata": {
    "hide_input": true
   },
   "outputs": [
    {
     "data": {
      "text/markdown": "#### <a id=on_backward_end></a>`on_backward_end`() -> <code>NoneType</code><div style=\"text-align: right\"><a href=\"https://github.com/fastai/fastai_pytorch/blob/master/fastai/callback.py#L218\">[source]</a></div>\n\n\nHandle end of gradient calc",
      "text/plain": "<IPython.core.display.Markdown object>"
     },
     "metadata": {},
     "output_type": "display_data"
    }
   ],
   "source": "show_doc(CallbackHandler.on_backward_end)"
  },
  {
   "cell_type": "markdown",
   "metadata": {},
   "source": "`CallbackHandler.on_backward_end`"
  },
  {
   "cell_type": "code",
   "execution_count": null,
   "metadata": {
    "hide_input": true
   },
   "outputs": [
    {
     "data": {
      "text/markdown": "#### <a id=on_batch_begin></a>`on_batch_begin`\n(<code>xb</code>:<code>Tensor</code>, <code>yb</code>:<code>Tensor</code>) -> <code>NoneType</code><div style=\"text-align: right\"><a href=\"https://github.com/fastai/fastai_pytorch/blob/master/fastai/callback.py#L193\">[source]</a></div>\n\n\nHandle new batch `xb`,`yb`",
      "text/plain": "<IPython.core.display.Markdown object>"
     },
     "metadata": {},
     "output_type": "display_data"
    }
   ],
   "source": "show_doc(CallbackHandler.on_batch_begin)"
  },
  {
   "cell_type": "markdown",
   "metadata": {},
   "source": "`CallbackHandler.on_batch_begin`"
  },
  {
   "cell_type": "code",
   "execution_count": null,
   "metadata": {
    "hide_input": true
   },
   "outputs": [
    {
     "data": {
      "text/markdown": "#### <a id=on_batch_end></a>`on_batch_end`(<code>loss</code>:<code>Tensor</code>) -> <code>NoneType</code><div style=\"text-align: right\"><a href=\"https://github.com/fastai/fastai_pytorch/blob/master/fastai/callback.py#L225\">[source]</a></div>\n\n\nHandle end of processing one batch with `loss`",
      "text/plain": "<IPython.core.display.Markdown object>"
     },
     "metadata": {},
     "output_type": "display_data"
    }
   ],
   "source": "show_doc(CallbackHandler.on_batch_end)"
  },
  {
   "cell_type": "markdown",
   "metadata": {},
   "source": "`CallbackHandler.on_batch_end`"
  },
  {
   "cell_type": "code",
   "execution_count": null,
   "metadata": {
    "hide_input": true
   },
   "outputs": [
    {
     "data": {
      "text/markdown": "#### <a id=on_epoch_begin></a>`on_epoch_begin`() -> <code>NoneType</code><div style=\"text-align: right\"><a href=\"https://github.com/fastai/fastai_pytorch/blob/master/fastai/callback.py#L188\">[source]</a></div>\n\n\nHandle new epoch",
      "text/plain": "<IPython.core.display.Markdown object>"
     },
     "metadata": {},
     "output_type": "display_data"
    }
   ],
   "source": "show_doc(CallbackHandler.on_epoch_begin)"
  },
  {
   "cell_type": "markdown",
   "metadata": {},
   "source": "`CallbackHandler.on_epoch_begin`"
  },
  {
   "cell_type": "code",
   "execution_count": null,
   "metadata": {
    "hide_input": true
   },
   "outputs": [
    {
     "data": {
      "text/markdown": "#### <a id=on_epoch_end></a>`on_epoch_end`\n(<code>val_metrics</code>:<code>Collection</code>[<code>None</code>[<code>Tensor</code>, <code>Number</code>]]) -> <code>bool</code><div style=\"text-align: right\"><a href=\"https://github.com/fastai/fastai_pytorch/blob/master/fastai/callback.py#L233\">[source]</a></div>\n\n\nEpoch is done, process `val_metrics`",
      "text/plain": "<IPython.core.display.Markdown object>"
     },
     "metadata": {},
     "output_type": "display_data"
    }
   ],
   "source": "show_doc(CallbackHandler.on_epoch_end)"
  },
  {
   "cell_type": "markdown",
   "metadata": {},
   "source": "`CallbackHandler.on_epoch_end`"
  },
  {
   "cell_type": "code",
   "execution_count": null,
   "metadata": {
    "hide_input": true
   },
   "outputs": [
    {
     "data": {
      "text/markdown": "#### <a id=on_loss_begin></a>`on_loss_begin`(<code>out</code>:<code>Tensor</code>) -> <code>NoneType</code><div style=\"text-align: right\"><a href=\"https://github.com/fastai/fastai_pytorch/blob/master/fastai/callback.py#L201\">[source]</a></div>\n\n\nHandle start of loss calculation with model output `out`",
      "text/plain": "<IPython.core.display.Markdown object>"
     },
     "metadata": {},
     "output_type": "display_data"
    }
   ],
   "source": "show_doc(CallbackHandler.on_loss_begin)"
  },
  {
   "cell_type": "markdown",
   "metadata": {},
   "source": "`CallbackHandler.on_loss_begin`"
  },
  {
   "cell_type": "code",
   "execution_count": null,
   "metadata": {
    "hide_input": true
   },
   "outputs": [
    {
     "data": {
      "text/markdown": "#### <a id=on_step_end></a>`on_step_end`() -> <code>NoneType</code><div style=\"text-align: right\"><a href=\"https://github.com/fastai/fastai_pytorch/blob/master/fastai/callback.py#L221\">[source]</a></div>\n\n\nHandle end of optimization step",
      "text/plain": "<IPython.core.display.Markdown object>"
     },
     "metadata": {},
     "output_type": "display_data"
    }
   ],
   "source": "show_doc(CallbackHandler.on_step_end)"
  },
  {
   "cell_type": "markdown",
   "metadata": {},
   "source": "`CallbackHandler.on_step_end`"
  },
  {
   "cell_type": "code",
   "execution_count": null,
   "metadata": {
    "hide_input": true
   },
   "outputs": [
    {
     "data": {
      "text/markdown": "#### <a id=on_train_begin></a>`on_train_begin`\n(<code>epochs</code>:<code>int</code>, <code>pbar</code>:<code>None</code>[<code>MasterBar</code>, <code>ProgressBar</code>], <code>metrics</code>:<code>Collection</code>[<code>Callable</code>[<code>Tensor</code>, <code>Tensor</code>, <code>None</code>[<code>Tensor</code>, <code>Number</code>]]]) -> <code>NoneType</code><div style=\"text-align: right\"><a href=\"https://github.com/fastai/fastai_pytorch/blob/master/fastai/callback.py#L182\">[source]</a></div>\n\n\nAbout to start learning",
      "text/plain": "<IPython.core.display.Markdown object>"
     },
     "metadata": {},
     "output_type": "display_data"
    }
   ],
   "source": "show_doc(CallbackHandler.on_train_begin)"
  },
  {
   "cell_type": "markdown",
   "metadata": {},
   "source": "`CallbackHandler.on_train_begin`"
  },
  {
   "cell_type": "code",
   "execution_count": null,
   "metadata": {
    "hide_input": true
   },
   "outputs": [
    {
     "data": {
      "text/markdown": "#### <a id=on_train_end></a>`on_train_end`\n(<code>exception</code>:<code>None</code>[<code>bool</code>, <code>Exception</code>]) -> <code>NoneType</code><div style=\"text-align: right\"><a href=\"https://github.com/fastai/fastai_pytorch/blob/master/fastai/callback.py#L240\">[source]</a></div>\n\n\nHandle end of training, `exception` is an `Exception` or False if no exceptions during training",
      "text/plain": "<IPython.core.display.Markdown object>"
     },
     "metadata": {},
     "output_type": "display_data"
    }
   ],
   "source": "show_doc(CallbackHandler.on_train_end)"
  },
  {
   "cell_type": "markdown",
   "metadata": {},
   "source": "`CallbackHandler.on_train_end`"
  },
  {
   "cell_type": "code",
   "execution_count": null,
   "metadata": {
    "hide_input": true
   },
   "outputs": [
    {
     "data": {
      "text/markdown": "### <a id=OptimWrapper></a><em>class</em> `OptimWrapper`\n(<code>opt</code>:[<code>Optimizer</code>](https://pytorch.org/docs/stable/optim.html#torch.optim.Optimizer), <code>wd</code>:<code>None</code>[<code>float</code>, <code>Collection</code>[<code>float</code>]]=`0.0`, <code>true_wd</code>:<code>bool</code>=`False`, <code>bn_wd</code>:<code>bool</code>=`True`) -> <code>NoneType</code><div style=\"text-align: right\"><a href=\"https://github.com/fastai/fastai_pytorch/blob/master/fastai/callback.py#L7\">[source]</a></div>\n\n\nBasic wrapper around an optimizer to simplify HP changes",
      "text/plain": "<IPython.core.display.Markdown object>"
     },
     "metadata": {},
     "output_type": "display_data"
    }
   ],
   "source": "show_doc(OptimWrapper)"
  },
  {
   "cell_type": "markdown",
   "metadata": {},
   "source": "[<code>OptimWrapper</code>](http://docs.fast.ai/callback.html#OptimWrapper)"
  },
  {
   "cell_type": "code",
   "execution_count": null,
   "metadata": {
    "hide_input": true
   },
   "outputs": [
    {
     "data": {
      "text/markdown": "#### <a id=create></a>`create`\n(<code>opt_fn</code>:<code>None</code>[<code>type</code>, <code>Callable</code>[]], <code>lr</code>:<code>None</code>[<code>float</code>, <code>Tuple</code>[], <code>List</code>[<code>T</code>]], <code>layer_groups</code>:<code>Collection</code>[[<code>Module</code>](https://pytorch.org/docs/stable/nn.html#torch.nn.Module)], <code>kwargs</code>:<code>Any</code>) -> [<code>Optimizer</code>](https://pytorch.org/docs/stable/optim.html#torch.optim.Optimizer)<div style=\"text-align: right\"><a href=\"https://github.com/fastai/fastai_pytorch/blob/master/fastai/callback.py#L16\">[source]</a></div>\n\n\nCreate an optim.Optimizer from `opt_fn` with `lr`. Set lr on `layer_groups``",
      "text/plain": "<IPython.core.display.Markdown object>"
     },
     "metadata": {},
     "output_type": "display_data"
    }
   ],
   "source": "show_doc(OptimWrapper.create)"
  },
  {
   "cell_type": "markdown",
   "metadata": {},
   "source": "`OptimWrapper.create`"
  },
  {
   "cell_type": "code",
   "execution_count": null,
   "metadata": {
    "hide_input": true
   },
   "outputs": [
    {
     "data": {
      "text/markdown": "#### <a id=read_defaults></a>`read_defaults`() -> <code>NoneType</code><div style=\"text-align: right\"><a href=\"https://github.com/fastai/fastai_pytorch/blob/master/fastai/callback.py#L93\">[source]</a></div>\n\n\nRead the values inside the optimizer for the hyper-parameters",
      "text/plain": "<IPython.core.display.Markdown object>"
     },
     "metadata": {},
     "output_type": "display_data"
    }
   ],
   "source": "show_doc(OptimWrapper.read_defaults)"
  },
  {
   "cell_type": "markdown",
   "metadata": {},
   "source": "`OptimWrapper.read_defaults`"
  },
  {
   "cell_type": "code",
   "execution_count": null,
   "metadata": {
    "hide_input": true
   },
   "outputs": [
    {
     "data": {
      "text/markdown": "#### <a id=read_val></a>`read_val`\n(<code>key</code>:<code>str</code>) -> <code>None</code>[<code>List</code>[<code>float</code>], <code>Tuple</code>[<code>List</code>[<code>float</code>], <code>List</code>[<code>float</code>]]]<div style=\"text-align: right\"><a href=\"https://github.com/fastai/fastai_pytorch/blob/master/fastai/callback.py#L110\">[source]</a></div>\n\n\nRead a hyper-parameter key in the optimizer dictionary.",
      "text/plain": "<IPython.core.display.Markdown object>"
     },
     "metadata": {},
     "output_type": "display_data"
    }
   ],
   "source": "show_doc(OptimWrapper.read_val)"
  },
  {
   "cell_type": "markdown",
   "metadata": {},
   "source": "`OptimWrapper.read_val`"
  },
  {
   "cell_type": "code",
   "execution_count": null,
   "metadata": {
    "hide_input": true
   },
   "outputs": [
    {
     "data": {
      "text/markdown": "#### <a id=set_val></a>`set_val`\n(<code>key</code>:<code>str</code>, <code>val</code>:<code>Any</code>, <code>bn_groups</code>:<code>bool</code>=`True`) -> <code>Any</code><div style=\"text-align: right\"><a href=\"https://github.com/fastai/fastai_pytorch/blob/master/fastai/callback.py#L102\">[source]</a></div>\n\n\nSet the values inside the optimizer dictionary at the key",
      "text/plain": "<IPython.core.display.Markdown object>"
     },
     "metadata": {},
     "output_type": "display_data"
    }
   ],
   "source": "show_doc(OptimWrapper.set_val)"
  },
  {
   "cell_type": "markdown",
   "metadata": {},
   "source": "`OptimWrapper.set_val`"
  },
  {
   "cell_type": "code",
   "execution_count": null,
   "metadata": {
    "hide_input": true
   },
   "outputs": [
    {
     "data": {
      "text/markdown": "#### <a id=step></a>`step`() -> <code>NoneType</code><div style=\"text-align: right\"><a href=\"https://github.com/fastai/fastai_pytorch/blob/master/fastai/callback.py#L30\">[source]</a></div>\n\n\nSet weight decay and step optimizer",
      "text/plain": "<IPython.core.display.Markdown object>"
     },
     "metadata": {},
     "output_type": "display_data"
    }
   ],
   "source": "show_doc(OptimWrapper.step)"
  },
  {
   "cell_type": "markdown",
   "metadata": {},
   "source": "`OptimWrapper.step`"
  },
  {
   "cell_type": "code",
   "execution_count": null,
   "metadata": {
    "hide_input": true
   },
   "outputs": [
    {
     "data": {
      "text/markdown": "#### <a id=zero_grad></a>`zero_grad`() -> <code>NoneType</code><div style=\"text-align: right\"><a href=\"https://github.com/fastai/fastai_pytorch/blob/master/fastai/callback.py#L41\">[source]</a></div>\n\n\nClear optimizer gradients",
      "text/plain": "<IPython.core.display.Markdown object>"
     },
     "metadata": {},
     "output_type": "display_data"
    }
   ],
   "source": "show_doc(OptimWrapper.zero_grad)"
  },
  {
   "cell_type": "markdown",
   "metadata": {},
   "source": "`OptimWrapper.zero_grad`"
  },
  {
   "cell_type": "code",
   "execution_count": null,
   "metadata": {
    "hide_input": true
   },
   "outputs": [
    {
     "data": {
      "text/markdown": "### <a id=SmoothenValue></a><em>class</em> `SmoothenValue`(<code>beta</code>:<code>float</code>) -> <code>NoneType</code><div style=\"text-align: right\"><a href=\"https://github.com/fastai/fastai_pytorch/blob/master/fastai/callback.py#L150\">[source]</a></div>\n\n\nCreates a smooth moving average for a value (loss, etc)",
      "text/plain": "<IPython.core.display.Markdown object>"
     },
     "metadata": {},
     "output_type": "display_data"
    }
   ],
   "source": "show_doc(SmoothenValue)"
  },
  {
   "cell_type": "markdown",
   "metadata": {},
   "source": "[<code>SmoothenValue</code>](http://docs.fast.ai/callback.html#SmoothenValue)"
  },
  {
   "cell_type": "code",
   "execution_count": null,
   "metadata": {
    "hide_input": true
   },
   "outputs": [
    {
     "data": {
      "text/markdown": "#### <a id=add_value></a>`add_value`(<code>val</code>:<code>float</code>) -> <code>NoneType</code><div style=\"text-align: right\"><a href=\"https://github.com/fastai/fastai_pytorch/blob/master/fastai/callback.py#L156\">[source]</a></div>\n\n\nAdd current value to calculate updated smoothed value",
      "text/plain": "<IPython.core.display.Markdown object>"
     },
     "metadata": {},
     "output_type": "display_data"
    }
   ],
   "source": "show_doc(SmoothenValue.add_value)"
  },
  {
   "cell_type": "markdown",
   "metadata": {},
   "source": "`SmoothenValue.add_value`"
  },
  {
   "cell_type": "code",
   "execution_count": null,
   "metadata": {
    "hide_input": true
   },
   "outputs": [
    {
     "data": {
      "text/markdown": "### <a id=Stepper></a><em>class</em> `Stepper`\n(<code>vals</code>:<code>None</code>[<code>float</code>, <code>Tuple</code>[<code>float</code>, <code>float</code>]], <code>n_iter</code>:<code>int</code>, <code>func</code>:`Optional`[<code>Callable</code>[<code>Number</code>, <code>Number</code>, <code>float</code>, <code>Number</code>]]=`None`)<div style=\"text-align: right\"><a href=\"https://github.com/fastai/fastai_pytorch/blob/master/fastai/callback.py#L265\">[source]</a></div>\n\n\nUsed to \"step\" from start,end (`vals`) over `n_iter` iterations on a schedule defined by `func` (defaults to linear)",
      "text/plain": "<IPython.core.display.Markdown object>"
     },
     "metadata": {},
     "output_type": "display_data"
    }
   ],
   "source": "show_doc(Stepper)"
  },
  {
   "cell_type": "markdown",
   "metadata": {},
   "source": "[<code>Stepper</code>](http://docs.fast.ai/callback.html#Stepper)"
  },
  {
   "cell_type": "code",
   "execution_count": null,
   "metadata": {
    "hide_input": true
   },
   "outputs": [
    {
     "data": {
      "text/markdown": "#### <a id=step></a>`step`() -> <code>Number</code><div style=\"text-align: right\"><a href=\"https://github.com/fastai/fastai_pytorch/blob/master/fastai/callback.py#L274\">[source]</a></div>\n\n\nReturn next value along annealed schedule",
      "text/plain": "<IPython.core.display.Markdown object>"
     },
     "metadata": {},
     "output_type": "display_data"
    }
   ],
   "source": "show_doc(Stepper.step)"
  },
  {
   "cell_type": "markdown",
   "metadata": {},
   "source": "`Stepper.step`"
  },
  {
   "cell_type": "code",
   "execution_count": null,
   "metadata": {
    "hide_input": true
   },
   "outputs": [
    {
     "data": {
      "text/markdown": "#### <a id=annealing_cos></a>`annealing_cos`\n(<code>start</code>:<code>Number</code>, <code>end</code>:<code>Number</code>, <code>pct</code>:<code>float</code>) -> <code>Number</code><div style=\"text-align: right\"><a href=\"https://github.com/fastai/fastai_pytorch/blob/master/fastai/callback.py#L253\">[source]</a></div>\n\n\nCosine anneal from `start` to `end` as pct goes from 0.0 to 1.0",
      "text/plain": "<IPython.core.display.Markdown object>"
     },
     "metadata": {},
     "output_type": "display_data"
    }
   ],
   "source": "show_doc(annealing_cos)"
  },
  {
   "cell_type": "markdown",
   "metadata": {},
   "source": "[<code>annealing_cos</code>](http://docs.fast.ai/callback.html#annealing_cos)"
  },
  {
   "cell_type": "code",
   "execution_count": null,
   "metadata": {
    "hide_input": true
   },
   "outputs": [
    {
     "data": {
      "text/markdown": "#### <a id=annealing_exp></a>`annealing_exp`\n(<code>start</code>:<code>Number</code>, <code>end</code>:<code>Number</code>, <code>pct</code>:<code>float</code>) -> <code>Number</code><div style=\"text-align: right\"><a href=\"https://github.com/fastai/fastai_pytorch/blob/master/fastai/callback.py#L250\">[source]</a></div>\n\n\nExponentially anneal from `start` to `end` as pct goes from 0.0 to 1.0",
      "text/plain": "<IPython.core.display.Markdown object>"
     },
     "metadata": {},
     "output_type": "display_data"
    }
   ],
   "source": "show_doc(annealing_exp)"
  },
  {
   "cell_type": "markdown",
   "metadata": {},
   "source": "[<code>annealing_exp</code>](http://docs.fast.ai/callback.html#annealing_exp)"
  },
  {
   "cell_type": "code",
   "execution_count": null,
   "metadata": {
    "hide_input": true
   },
   "outputs": [
    {
     "data": {
      "text/markdown": "#### <a id=annealing_linear></a>`annealing_linear`\n(<code>start</code>:<code>Number</code>, <code>end</code>:<code>Number</code>, <code>pct</code>:<code>float</code>) -> <code>Number</code><div style=\"text-align: right\"><a href=\"https://github.com/fastai/fastai_pytorch/blob/master/fastai/callback.py#L247\">[source]</a></div>\n\n\nLinearly anneal from `start` to `end` as pct goes from 0.0 to 1.0",
      "text/plain": "<IPython.core.display.Markdown object>"
     },
     "metadata": {},
     "output_type": "display_data"
    }
   ],
   "source": "show_doc(annealing_linear)"
  },
  {
   "cell_type": "markdown",
   "metadata": {},
   "source": "[<code>annealing_linear</code>](http://docs.fast.ai/callback.html#annealing_linear)"
  },
  {
   "cell_type": "code",
   "execution_count": null,
   "metadata": {
    "hide_input": true
   },
   "outputs": [
    {
     "data": {
      "text/markdown": "#### <a id=annealing_no></a>`annealing_no`\n(<code>start</code>:<code>Number</code>, <code>end</code>:<code>Number</code>, <code>pct</code>:<code>float</code>) -> <code>Number</code><div style=\"text-align: right\"><a href=\"https://github.com/fastai/fastai_pytorch/blob/master/fastai/callback.py#L244\">[source]</a></div>\n\n\nNo annealing, always return `start`",
      "text/plain": "<IPython.core.display.Markdown object>"
     },
     "metadata": {},
     "output_type": "display_data"
    }
   ],
   "source": "show_doc(annealing_no)"
  },
  {
   "cell_type": "markdown",
   "metadata": {},
   "source": "[<code>annealing_no</code>](http://docs.fast.ai/callback.html#annealing_no)"
  },
  {
   "cell_type": "code",
   "execution_count": null,
   "metadata": {
    "hide_input": true
   },
   "outputs": [
    {
     "data": {
      "text/markdown": "#### <a id=annealing_poly></a>`annealing_poly`(<code>degree</code>:<code>Number</code>) -> <code>Number</code><div style=\"text-align: right\"><a href=\"https://github.com/fastai/fastai_pytorch/blob/master/fastai/callback.py#L261\">[source]</a></div>\n\n\nAnneal polynomically from `start` to `end` as pct goes from 0.0 to 1.0",
      "text/plain": "<IPython.core.display.Markdown object>"
     },
     "metadata": {},
     "output_type": "display_data"
    }
   ],
   "source": "show_doc(annealing_poly)"
  },
  {
   "cell_type": "markdown",
   "metadata": {},
   "source": "[<code>annealing_poly</code>](http://docs.fast.ai/callback.html#annealing_poly)"
  },
  {
   "cell_type": "code",
   "execution_count": null,
   "metadata": {
    "hide_input": true
   },
   "outputs": [
    {
     "data": {
      "text/markdown": "#### <a id=do_annealing_poly></a>`do_annealing_poly`\n(<code>start</code>:<code>Number</code>, <code>end</code>:<code>Number</code>, <code>pct</code>:<code>float</code>, <code>degree</code>:<code>Number</code>) -> <code>Number</code><div style=\"text-align: right\"><a href=\"https://github.com/fastai/fastai_pytorch/blob/master/fastai/callback.py#L258\">[source]</a></div>\n\n\nHelper function for `anneal_poly`",
      "text/plain": "<IPython.core.display.Markdown object>"
     },
     "metadata": {},
     "output_type": "display_data"
    }
   ],
   "source": "show_doc(do_annealing_poly)"
  },
  {
   "cell_type": "markdown",
   "metadata": {},
   "source": "[<code>do_annealing_poly</code>](http://docs.fast.ai/callback.html#do_annealing_poly)"
  }
 ],
 "metadata": {
  "kernelspec": {
   "display_name": "Python 3",
   "language": "python",
   "name": "python3"
  }
 },
 "nbformat": 4,
 "nbformat_minor": 2
}
