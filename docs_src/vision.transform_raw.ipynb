{
 "cells": [
  {
   "cell_type": "markdown",
   "metadata": {},
   "source": "# vision.transform"
  },
  {
   "cell_type": "markdown",
   "metadata": {},
   "source": "Type an introduction of the package here."
  },
  {
   "cell_type": "code",
   "execution_count": null,
   "metadata": {
    "hide_input": true
   },
   "outputs": [],
   "source": "from fastai.gen_doc.nbdoc import *\nfrom fastai.vision.transform import * "
  },
  {
   "cell_type": "markdown",
   "metadata": {},
   "source": "### Global Variable Definitions:"
  },
  {
   "cell_type": "markdown",
   "metadata": {},
   "source": "`_all__ = ['apply_perspective', 'brightness', 'compute_zs_mat', 'contrast', 'crop', 'crop_pad', 'dihedral', 'find_coeffs', 'flip_lr', ` <div style=\"text-align: right\"><a href=\"..\\..\\fastai_v1\\fastai\\vision\\transform.py#L3\">[source]</a></div>"
  },
  {
   "cell_type": "markdown",
   "metadata": {},
   "source": "`_orig_pts = [[-1,-1], [-1,1], [1,-1], [1,1]]` <div style=\"text-align: right\"><a href=\"..\\..\\fastai_v1\\fastai\\vision\\transform.py#L134\">[source]</a></div>"
  },
  {
   "cell_type": "code",
   "execution_count": null,
   "metadata": {
    "hide_input": true
   },
   "outputs": [],
   "source": "show_doc(_perspective_warp)"
  },
  {
   "cell_type": "markdown",
   "metadata": {},
   "source": "`_perspective_warp`"
  },
  {
   "cell_type": "code",
   "execution_count": null,
   "metadata": {
    "hide_input": true
   },
   "outputs": [],
   "source": "show_doc(apply_perspective)"
  },
  {
   "cell_type": "markdown",
   "metadata": {},
   "source": "`apply_perspective`"
  },
  {
   "cell_type": "code",
   "execution_count": null,
   "metadata": {
    "hide_input": true
   },
   "outputs": [],
   "source": "show_doc(compute_zs_mat)"
  },
  {
   "cell_type": "markdown",
   "metadata": {},
   "source": "`compute_zs_mat`"
  },
  {
   "cell_type": "code",
   "execution_count": null,
   "metadata": {
    "hide_input": true
   },
   "outputs": [],
   "source": "show_doc(find_coeffs)"
  },
  {
   "cell_type": "markdown",
   "metadata": {},
   "source": "`find_coeffs`"
  },
  {
   "cell_type": "code",
   "execution_count": null,
   "metadata": {
    "hide_input": true
   },
   "outputs": [],
   "source": "show_doc(get_transforms)"
  },
  {
   "cell_type": "markdown",
   "metadata": {},
   "source": "`get_transforms`"
  },
  {
   "cell_type": "code",
   "execution_count": null,
   "metadata": {
    "hide_input": true
   },
   "outputs": [],
   "source": "show_doc(get_zoom_mat)"
  },
  {
   "cell_type": "markdown",
   "metadata": {},
   "source": "`get_zoom_mat`"
  },
  {
   "cell_type": "code",
   "execution_count": null,
   "metadata": {
    "hide_input": true
   },
   "outputs": [],
   "source": "show_doc(rand_crop)"
  },
  {
   "cell_type": "markdown",
   "metadata": {},
   "source": "`rand_crop`"
  },
  {
   "cell_type": "code",
   "execution_count": null,
   "metadata": {
    "hide_input": true
   },
   "outputs": [],
   "source": "show_doc(rand_zoom)"
  },
  {
   "cell_type": "markdown",
   "metadata": {},
   "source": "`rand_zoom`"
  },
  {
   "cell_type": "code",
   "execution_count": null,
   "metadata": {
    "hide_input": true
   },
   "outputs": [],
   "source": "show_doc(zoom_crop)"
  },
  {
   "cell_type": "markdown",
   "metadata": {},
   "source": "`zoom_crop`"
  }
 ],
 "metadata": {
  "kernelspec": {
   "display_name": "Python 3",
   "language": "python",
   "name": "python3"
  }
 },
 "nbformat": 4,
 "nbformat_minor": 2
}
