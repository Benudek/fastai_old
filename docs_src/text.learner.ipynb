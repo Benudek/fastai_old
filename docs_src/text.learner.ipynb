{
 "cells": [
  {
   "cell_type": "markdown",
   "metadata": {},
   "source": "# text.learner"
  },
  {
   "cell_type": "markdown",
   "metadata": {},
   "source": "Type an introduction of the package here."
  },
  {
   "cell_type": "code",
   "execution_count": null,
   "metadata": {
    "hide_input": true
   },
   "outputs": [],
   "source": "from fastai.gen_doc.nbdoc import *\nfrom fastai.text.learner import * "
  },
  {
   "cell_type": "markdown",
   "metadata": {},
   "source": "### Global Variable Definitions:"
  },
  {
   "cell_type": "code",
   "execution_count": null,
   "metadata": {
    "hide_input": true
   },
   "outputs": [
    {
     "data": {
      "text/markdown": "### <a id=RNNLearner></a><em>class</em> `RNNLearner`\n(<code>data</code>:[<code>DataBunch</code>](fastai.data.html#DataBunch), <code>model</code>:[<code>Module</code>](https://pytorch.org/docs/stable/nn.html#torch.nn.Module), <code>bptt</code>:<code>int</code>=`70`, <code>split_func</code>:`Optional`[<code>Callable</code>[[<code>Module</code>](https://pytorch.org/docs/stable/nn.html#torch.nn.Module), <code>List</code>[[<code>Module</code>](https://pytorch.org/docs/stable/nn.html#torch.nn.Module)]]]=`None`, <code>clip</code>:<code>float</code>=`None`, <code>adjust</code>:<code>bool</code>=`False`, <code>alpha</code>:<code>float</code>=`2.0`, <code>beta</code>:<code>float</code>=`1.0`, <code>kwargs</code>) :: Inherits ([<code>Learner</code>](fastai.basic_train.html#Learner))<div style=\"text-align: right\"><a href=\"https://github.com/fastai/fastai_pytorch/blob/master/fastai/text/learner.py#L41\">[source]</a></div>\n\n\nBasic class for a Learner in RNN",
      "text/plain": "<IPython.core.display.Markdown object>"
     },
     "metadata": {},
     "output_type": "display_data"
    }
   ],
   "source": "show_doc(RNNLearner)"
  },
  {
   "cell_type": "markdown",
   "metadata": {},
   "source": "[<code>RNNLearner</code>](fastai.text.learner.html#RNNLearner)"
  },
  {
   "cell_type": "code",
   "execution_count": null,
   "metadata": {
    "hide_input": true
   },
   "outputs": [
    {
     "data": {
      "text/markdown": "#### <a id=classifier></a>`classifier`\n(<code>data</code>:[<code>DataBunch</code>](fastai.data.html#DataBunch), <code>bptt</code>:<code>int</code>=`70`, <code>max_len</code>:<code>int</code>=`1400`, <code>emb_sz</code>:<code>int</code>=`400`, <code>nh</code>:<code>int</code>=`1150`, <code>nl</code>:<code>int</code>=`3`, <code>layers</code>:<code>Collection</code>[<code>int</code>]=`None`, <code>drops</code>:<code>Collection</code>[<code>float</code>]=`None`, <code>pad_token</code>:<code>int</code>=`1`, <code>drop_mult</code>:<code>float</code>=`1.0`, <code>qrnn</code>:<code>bool</code>=`False`, <code>kwargs</code>) -> <code>str</code><div style=\"text-align: right\"><a href=\"https://github.com/fastai/fastai_pytorch/blob/master/fastai/text/learner.py#L80\">[source]</a></div>\n\n\nCreates a RNN classifier.",
      "text/plain": "<IPython.core.display.Markdown object>"
     },
     "metadata": {},
     "output_type": "display_data"
    }
   ],
   "source": "show_doc(RNNLearner.classifier)"
  },
  {
   "cell_type": "markdown",
   "metadata": {},
   "source": "`RNNLearner.classifier`"
  },
  {
   "cell_type": "code",
   "execution_count": null,
   "metadata": {
    "hide_input": true
   },
   "outputs": [
    {
     "data": {
      "text/markdown": "#### <a id=language_model></a>`language_model`\n(<code>data</code>:[<code>DataBunch</code>](fastai.data.html#DataBunch), <code>bptt</code>:<code>int</code>=`70`, <code>emb_sz</code>:<code>int</code>=`400`, <code>nh</code>:<code>int</code>=`1150`, <code>nl</code>:<code>int</code>=`3`, <code>pad_token</code>:<code>int</code>=`1`, <code>drop_mult</code>:<code>float</code>=`1.0`, <code>tie_weights</code>:<code>bool</code>=`True`, <code>bias</code>:<code>bool</code>=`True`, <code>qrnn</code>:<code>bool</code>=`False`, <code>pretrained_fnames</code>:`Optional`[<code>Tuple</code>[<code>str</code>, <code>str</code>]]=`None`, <code>kwargs</code>) -> <code>str</code><div style=\"text-align: right\"><a href=\"https://github.com/fastai/fastai_pytorch/blob/master/fastai/text/learner.py#L67\">[source]</a></div>\n\n\nCreates a [<code>Learner</code>](fastai.basic_train.html#Learner) with a language model.",
      "text/plain": "<IPython.core.display.Markdown object>"
     },
     "metadata": {},
     "output_type": "display_data"
    }
   ],
   "source": "show_doc(RNNLearner.language_model)"
  },
  {
   "cell_type": "markdown",
   "metadata": {},
   "source": "`RNNLearner.language_model`"
  },
  {
   "cell_type": "code",
   "execution_count": null,
   "metadata": {
    "hide_input": true
   },
   "outputs": [
    {
     "data": {
      "text/markdown": "#### <a id=load_encoder></a>`load_encoder`(<code>name</code>:<code>str</code>)<div style=\"text-align: right\"><a href=\"https://github.com/fastai/fastai_pytorch/blob/master/fastai/text/learner.py#L55\">[source]</a></div>\n\n\nLoads the encoder from the model directory",
      "text/plain": "<IPython.core.display.Markdown object>"
     },
     "metadata": {},
     "output_type": "display_data"
    }
   ],
   "source": "show_doc(RNNLearner.load_encoder)"
  },
  {
   "cell_type": "markdown",
   "metadata": {},
   "source": "`RNNLearner.load_encoder`"
  },
  {
   "cell_type": "code",
   "execution_count": null,
   "metadata": {
    "hide_input": true
   },
   "outputs": [
    {
     "data": {
      "text/markdown": "#### <a id=load_pretrained></a>`load_pretrained`\n(<code>wgts_fname</code>:<code>str</code>, <code>itos_fname</code>:<code>str</code>)<div style=\"text-align: right\"><a href=\"https://github.com/fastai/fastai_pytorch/blob/master/fastai/text/learner.py#L59\">[source]</a></div>\n\n\nLoads a pretrained model and adapts it to the data vocabulary.",
      "text/plain": "<IPython.core.display.Markdown object>"
     },
     "metadata": {},
     "output_type": "display_data"
    }
   ],
   "source": "show_doc(RNNLearner.load_pretrained)"
  },
  {
   "cell_type": "markdown",
   "metadata": {},
   "source": "`RNNLearner.load_pretrained`"
  },
  {
   "cell_type": "code",
   "execution_count": null,
   "metadata": {
    "hide_input": true
   },
   "outputs": [
    {
     "data": {
      "text/markdown": "#### <a id=save_encoder></a>`save_encoder`(<code>name</code>:<code>str</code>)<div style=\"text-align: right\"><a href=\"https://github.com/fastai/fastai_pytorch/blob/master/fastai/text/learner.py#L51\">[source]</a></div>\n\n\nSaves the encoder to the model directory",
      "text/plain": "<IPython.core.display.Markdown object>"
     },
     "metadata": {},
     "output_type": "display_data"
    }
   ],
   "source": "show_doc(RNNLearner.save_encoder)"
  },
  {
   "cell_type": "markdown",
   "metadata": {},
   "source": "`RNNLearner.save_encoder`"
  },
  {
   "cell_type": "code",
   "execution_count": null,
   "metadata": {
    "hide_input": true
   },
   "outputs": [
    {
     "data": {
      "text/markdown": "#### <a id=convert_weights></a>`convert_weights`\n(<code>wgts</code>:<code>Dict</code>[<code>str</code>, <code>Tensor</code>], <code>stoi_wgts</code>:<code>Dict</code>[<code>str</code>, <code>int</code>], <code>itos_new</code>:<code>Collection</code>[<code>str</code>]) -> <code>Dict</code>[<code>str</code>, <code>Tensor</code>]<div style=\"text-align: right\"><a href=\"https://github.com/fastai/fastai_pytorch/blob/master/fastai/text/learner.py#L10\">[source]</a></div>\n\n\nConverts the model weights to go with a new vocabulary.",
      "text/plain": "<IPython.core.display.Markdown object>"
     },
     "metadata": {},
     "output_type": "display_data"
    }
   ],
   "source": "show_doc(convert_weights)"
  },
  {
   "cell_type": "markdown",
   "metadata": {},
   "source": "[<code>convert_weights</code>](fastai.text.learner.html#convert_weights)"
  },
  {
   "cell_type": "code",
   "execution_count": null,
   "metadata": {
    "hide_input": true
   },
   "outputs": [
    {
     "data": {
      "text/markdown": "#### <a id=lm_split></a>`lm_split`\n(<code>model</code>:[<code>Module</code>](https://pytorch.org/docs/stable/nn.html#torch.nn.Module)) -> <code>List</code>[[<code>Module</code>](https://pytorch.org/docs/stable/nn.html#torch.nn.Module)]<div style=\"text-align: right\"><a href=\"https://github.com/fastai/fastai_pytorch/blob/master/fastai/text/learner.py#L26\">[source]</a></div>\n\n\nSplits a RNN model in groups for differential learning rates.",
      "text/plain": "<IPython.core.display.Markdown object>"
     },
     "metadata": {},
     "output_type": "display_data"
    }
   ],
   "source": "show_doc(lm_split)"
  },
  {
   "cell_type": "markdown",
   "metadata": {},
   "source": "[<code>lm_split</code>](fastai.text.learner.html#lm_split)"
  },
  {
   "cell_type": "code",
   "execution_count": null,
   "metadata": {
    "hide_input": true
   },
   "outputs": [
    {
     "data": {
      "text/markdown": "#### <a id=rnn_classifier_split></a>`rnn_classifier_split`\n(<code>model</code>:[<code>Module</code>](https://pytorch.org/docs/stable/nn.html#torch.nn.Module)) -> <code>List</code>[[<code>Module</code>](https://pytorch.org/docs/stable/nn.html#torch.nn.Module)]<div style=\"text-align: right\"><a href=\"https://github.com/fastai/fastai_pytorch/blob/master/fastai/text/learner.py#L33\">[source]</a></div>\n\n\nSplits a RNN model in groups.",
      "text/plain": "<IPython.core.display.Markdown object>"
     },
     "metadata": {},
     "output_type": "display_data"
    }
   ],
   "source": "show_doc(rnn_classifier_split)"
  },
  {
   "cell_type": "markdown",
   "metadata": {},
   "source": "[<code>rnn_classifier_split</code>](fastai.text.learner.html#rnn_classifier_split)"
  }
 ],
 "metadata": {
  "kernelspec": {
   "display_name": "Python 3",
   "language": "python",
   "name": "python3"
  }
 },
 "nbformat": 4,
 "nbformat_minor": 2
}
