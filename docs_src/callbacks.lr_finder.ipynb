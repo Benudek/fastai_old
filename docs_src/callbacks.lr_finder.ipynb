{
 "cells": [
  {
   "cell_type": "markdown",
   "metadata": {},
   "source": "# callbacks.lr_finder"
  },
  {
   "cell_type": "markdown",
   "metadata": {},
   "source": "Type an introduction of the package here."
  },
  {
   "cell_type": "code",
   "execution_count": null,
   "metadata": {
    "hide_input": true
   },
   "outputs": [],
   "source": "from fastai.gen_doc.nbdoc import *\nfrom fastai.callbacks.lr_finder import * "
  },
  {
   "cell_type": "markdown",
   "metadata": {},
   "source": "### Global Variable Definitions:"
  },
  {
   "cell_type": "code",
   "execution_count": null,
   "metadata": {
    "hide_input": true
   },
   "outputs": [
    {
     "data": {
      "text/markdown": "### <a id=LRFinder></a><em>class</em> `LRFinder`\n(<code>learn</code>:[<code>Learner</code>](fastai.basic_train.html#Learner), <code>start_lr</code>:<code>float</code>=`1e-05`, <code>end_lr</code>:<code>float</code>=`10`, <code>num_it</code>:<code>int</code>=`200`) -> <code>NoneType</code> :: Inherits ([<code>LearnerCallback</code>](fastai.basic_train.html#LearnerCallback))<div style=\"text-align: right\"><a href=\"https://github.com/fastai/fastai_pytorch/blob/master/fastai/callbacks/lr_finder.py#L8\">[source]</a></div>\n\n\nExplore lr vs loss relationship for a learner",
      "text/plain": "<IPython.core.display.Markdown object>"
     },
     "metadata": {},
     "output_type": "display_data"
    }
   ],
   "source": "show_doc(LRFinder)"
  },
  {
   "cell_type": "markdown",
   "metadata": {},
   "source": "[`LRFinder`](/callbacks.lr_finder.html#LRFinder)"
  },
  {
   "cell_type": "code",
   "execution_count": null,
   "metadata": {
    "hide_input": true
   },
   "outputs": [
    {
     "data": {
      "text/markdown": "#### <a id=on_batch_end></a>`on_batch_end`\n(<code>iteration</code>:<code>int</code>, <code>smooth_loss</code>:<code>None</code>[<code>Tensor</code>, <code>Number</code>], <code>kwargs</code>:<code>Any</code>) -> <code>NoneType</code><div style=\"text-align: right\"><a href=\"https://github.com/fastai/fastai_pytorch/blob/master/fastai/callbacks/lr_finder.py#L27\">[source]</a></div>\n\n\nDetermine if loss has runaway and we should stop",
      "text/plain": "<IPython.core.display.Markdown object>"
     },
     "metadata": {},
     "output_type": "display_data"
    }
   ],
   "source": "show_doc(LRFinder.on_batch_end)"
  },
  {
   "cell_type": "markdown",
   "metadata": {},
   "source": "`LRFinder.on_batch_end`"
  },
  {
   "cell_type": "code",
   "execution_count": null,
   "metadata": {
    "hide_input": true
   },
   "outputs": [
    {
     "data": {
      "text/markdown": "#### <a id=on_epoch_end></a>`on_epoch_end`(<code>kwargs</code>:<code>Any</code>) -> <code>NoneType</code><div style=\"text-align: right\"><a href=\"https://github.com/fastai/fastai_pytorch/blob/master/fastai/callbacks/lr_finder.py#L36\">[source]</a></div>\n\n\nTell Learner if we need to stop",
      "text/plain": "<IPython.core.display.Markdown object>"
     },
     "metadata": {},
     "output_type": "display_data"
    }
   ],
   "source": "show_doc(LRFinder.on_epoch_end)"
  },
  {
   "cell_type": "markdown",
   "metadata": {},
   "source": "`LRFinder.on_epoch_end`"
  },
  {
   "cell_type": "code",
   "execution_count": null,
   "metadata": {
    "hide_input": true
   },
   "outputs": [
    {
     "data": {
      "text/markdown": "#### <a id=on_train_begin></a>`on_train_begin`(<code>kwargs</code>:<code>Any</code>) -> <code>NoneType</code><div style=\"text-align: right\"><a href=\"https://github.com/fastai/fastai_pytorch/blob/master/fastai/callbacks/lr_finder.py#L20\">[source]</a></div>\n\n\ninit optimizer and learn params",
      "text/plain": "<IPython.core.display.Markdown object>"
     },
     "metadata": {},
     "output_type": "display_data"
    }
   ],
   "source": "show_doc(LRFinder.on_train_begin)"
  },
  {
   "cell_type": "markdown",
   "metadata": {},
   "source": "`LRFinder.on_train_begin`"
  },
  {
   "cell_type": "code",
   "execution_count": null,
   "metadata": {
    "hide_input": true
   },
   "outputs": [
    {
     "data": {
      "text/markdown": "#### <a id=on_train_end></a>`on_train_end`(<code>kwargs</code>:<code>Any</code>) -> <code>NoneType</code><div style=\"text-align: right\"><a href=\"https://github.com/fastai/fastai_pytorch/blob/master/fastai/callbacks/lr_finder.py#L40\">[source]</a></div>\n\n\nCleanup learn model weights disturbed during LRFind exploration",
      "text/plain": "<IPython.core.display.Markdown object>"
     },
     "metadata": {},
     "output_type": "display_data"
    }
   ],
   "source": "show_doc(LRFinder.on_train_end)"
  },
  {
   "cell_type": "markdown",
   "metadata": {},
   "source": "`LRFinder.on_train_end`"
  }
 ],
 "metadata": {
  "jekyll": {
   "summary": "Tools to help find the optimal learning rate for training",
   "title": "callbacks.lr_finder"
  },
  "kernelspec": {
   "display_name": "Python 3",
   "language": "python",
   "name": "python3"
  }
 },
 "nbformat": 4,
 "nbformat_minor": 2
}
