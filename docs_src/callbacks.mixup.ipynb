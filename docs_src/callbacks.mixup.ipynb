{
 "cells": [
  {
   "cell_type": "markdown",
   "metadata": {},
   "source": "# callbacks.mixup"
  },
  {
   "cell_type": "markdown",
   "metadata": {},
   "source": "Type an introduction of the package here."
  },
  {
   "cell_type": "code",
   "execution_count": null,
   "metadata": {
    "hide_input": true
   },
   "outputs": [],
   "source": "from fastai.gen_doc.nbdoc import *\nfrom fastai.callbacks.mixup import * "
  },
  {
   "cell_type": "code",
   "execution_count": null,
   "metadata": {
    "hide_input": true
   },
   "outputs": [
    {
     "data": {
      "text/markdown": "### <a id=MixUpCallback></a><em>class</em> `MixUpCallback`\n(<code>learner</code>:[<code>Learner</code>](fastai.basic_train.html#Learner), <code>alpha</code>:<code>float</code>=`0.4`, <code>stack_x</code>:<code>bool</code>=`False`, <code>stack_y</code>:<code>bool</code>=`True`) -> <code>NoneType</code> :: Inherits ([<code>Callback</code>](fastai.callback.html#Callback))<div style=\"text-align: right\"><a href=\"https://github.com/fastai/fastai_pytorch/blob/master/fastai/callbacks/mixup.py#L6\">[source]</a></div>\n\n\nCallback that creates the mixed-up input and target",
      "text/plain": "<IPython.core.display.Markdown object>"
     },
     "metadata": {},
     "output_type": "display_data"
    }
   ],
   "source": "show_doc(MixUpCallback)"
  },
  {
   "cell_type": "markdown",
   "metadata": {},
   "source": "[<code>MixUpCallback</code>](http://docs.fast.ai/callbacks.mixup.html#MixUpCallback)"
  },
  {
   "cell_type": "code",
   "execution_count": null,
   "metadata": {
    "hide_input": true
   },
   "outputs": [
    {
     "data": {
      "text/markdown": "#### <a id=on_batch_begin></a>`on_batch_begin`(<code>last_input</code>, <code>last_target</code>, <code>kwargs</code>)<div style=\"text-align: right\"><a href=\"https://github.com/fastai/fastai_pytorch/blob/master/fastai/callbacks/mixup.py#L13\">[source]</a></div>\n\n\nSet HP before the step is done. Returns xb, yb (which can allow us to modify the input at that step if needed)",
      "text/plain": "<IPython.core.display.Markdown object>"
     },
     "metadata": {},
     "output_type": "display_data"
    }
   ],
   "source": "show_doc(MixUpCallback.on_batch_begin)"
  },
  {
   "cell_type": "markdown",
   "metadata": {},
   "source": "`MixUpCallback.on_batch_begin`"
  },
  {
   "cell_type": "code",
   "execution_count": null,
   "metadata": {
    "hide_input": true
   },
   "outputs": [
    {
     "data": {
      "text/markdown": "### <a id=MixUpLoss></a><em>class</em> `MixUpLoss`(<code>crit</code>) :: Inherits ([<code>Module</code>](https://pytorch.org/docs/stable/nn.html#torch.nn.Module))<div style=\"text-align: right\"><a href=\"https://github.com/fastai/fastai_pytorch/blob/master/fastai/callbacks/mixup.py#L29\">[source]</a></div>\n\n\nAdapts the loss function to go with mixup.",
      "text/plain": "<IPython.core.display.Markdown object>"
     },
     "metadata": {},
     "output_type": "display_data"
    }
   ],
   "source": "show_doc(MixUpLoss)"
  },
  {
   "cell_type": "markdown",
   "metadata": {},
   "source": "[<code>MixUpLoss</code>](http://docs.fast.ai/callbacks.mixup.html#MixUpLoss)"
  },
  {
   "cell_type": "code",
   "execution_count": null,
   "metadata": {
    "hide_input": true
   },
   "outputs": [
    {
     "data": {
      "text/markdown": "#### <a id=forward></a>`forward`(<code>output</code>, <code>target</code>)<div style=\"text-align: right\"><a href=\"https://github.com/fastai/fastai_pytorch/blob/master/fastai/callbacks/mixup.py#L36\">[source]</a></div>\n\n\nShould be overridden by all subclasses.\n\n.. note::\n    Although the recipe for forward pass needs to be defined within\n    this function, one should call the :class:`Module` instance afterwards\n    instead of this since the former takes care of running the\n    registered hooks while the latter silently ignores them.",
      "text/plain": "<IPython.core.display.Markdown object>"
     },
     "metadata": {},
     "output_type": "display_data"
    }
   ],
   "source": "show_doc(MixUpLoss.forward)"
  },
  {
   "cell_type": "markdown",
   "metadata": {},
   "source": "`MixUpLoss.forward`"
  }
 ],
 "metadata": {
  "jekyll": {
   "summary": "Implements [mixup](https://arxiv.org/abs/1710.09412) training method",
   "title": "callbacks.mixup"
  },
  "kernelspec": {
   "display_name": "Python 3",
   "language": "python",
   "name": "python3"
  }
 },
 "nbformat": 4,
 "nbformat_minor": 2
}
