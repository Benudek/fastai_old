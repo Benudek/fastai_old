{
 "cells": [
  {
   "cell_type": "markdown",
   "metadata": {
    "hide_input": true
   },
   "source": "# gen_doc.convert2html"
  },
  {
   "cell_type": "markdown",
   "metadata": {
    "hide_input": true
   },
   "source": "This is the module to convert a jupyter notebook to an html page. It will normally render everything the way it was in the notebooks, including suppressing the input of the code cells with input cells masked, and converting the links between notebooks in links between the html pages."
  },
  {
   "cell_type": "code",
   "execution_count": null,
   "metadata": {
    "hide_input": true
   },
   "outputs": [],
   "source": "from fastai.gen_doc.nbdoc import * \nfrom fastai.gen_doc.convert2html import * "
  },
  {
   "cell_type": "markdown",
   "metadata": {},
   "source": "## Functions"
  },
  {
   "cell_type": "code",
   "execution_count": null,
   "metadata": {
    "hide_input": true
   },
   "outputs": [
    {
     "data": {
      "text/markdown": "#### <a id=convert_nb></a>`convert_nb`\n(<code>fname</code>, <code>dest_path</code>=`'.'`)<div style=\"text-align: right\"><a href=\"https://github.com/fastai/fastai_pytorch/blob/master/fastai/gen_doc/convert2html.py#L33\">[source]</a></div>\n\n\nConverts a notebook `fname` to html file in `dest_path`",
      "text/plain": "<IPython.core.display.Markdown object>"
     },
     "metadata": {},
     "output_type": "display_data"
    }
   ],
   "source": "show_doc(convert_nb)"
  },
  {
   "cell_type": "code",
   "execution_count": null,
   "metadata": {
    "hide_input": true
   },
   "outputs": [
    {
     "data": {
      "text/markdown": "#### <a id=convert_all></a>`convert_all`\n(<code>folder</code>, <code>dest_path</code>=`'.'`)<div style=\"text-align: right\"><a href=\"https://github.com/fastai/fastai_pytorch/blob/master/fastai/gen_doc/convert2html.py#L42\">[source]</a></div>\n\n\nConverts all notebooks `folder` to html pages in `dest_path`.",
      "text/plain": "<IPython.core.display.Markdown object>"
     },
     "metadata": {},
     "output_type": "display_data"
    }
   ],
   "source": "show_doc(convert_all)"
  },
  {
   "cell_type": "markdown",
   "metadata": {},
   "source": "Here's an example to convert all the docs in this folder:\n\n```python\nconvert_all('.', '../docs')\n```"
  }
 ],
 "metadata": {
  "jekyll": {
   "title": "gen_doc.convert2html"
  },
  "kernelspec": {
   "display_name": "Python 3",
   "language": "python",
   "name": "python3"
  }
 },
 "nbformat": 4,
 "nbformat_minor": 2
}
