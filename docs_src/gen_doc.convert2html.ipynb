{
 "cells": [
  {
   "cell_type": "markdown",
   "metadata": {
    "hide_input": true
   },
   "source": "# gen_doc.convert2html"
  },
  {
   "cell_type": "markdown",
   "metadata": {
    "hide_input": true
   },
   "source": "This is the module to convert a jupyter notebook to an html page. It will normally render everything the way it was in the notebooks, by suppressing the input of the code cells with input cells masked, and converting the links between notebooks in links between the html pages. "
  },
  {
   "cell_type": "code",
   "execution_count": null,
   "metadata": {
    "hide_input": false
   },
   "outputs": [],
   "source": "from fastai.gen_doc.nbdoc import * \nfrom fastai.gen_doc.convert2html import * "
  },
  {
   "cell_type": "code",
   "execution_count": null,
   "metadata": {
    "hide_input": true
   },
   "outputs": [
    {
     "data": {
      "text/markdown": "#### <a id=convert_nb></a>`convert_nb`(<code>fname</code>, <code>dest_path</code>=`'.'`)<div style=\"text-align: right\"><a href=\"https://github.com/fastai/fastai_pytorch/blob/master/fastai/gen_doc/convert2html.py#L31\">[source]</a></div>\n\n\nConverts a given notebook in an html page.\n\n- *fname*: name of the notebook",
      "text/plain": "<IPython.core.display.Markdown object>"
     },
     "metadata": {},
     "output_type": "display_data"
    }
   ],
   "source": "show_doc(convert_nb, arg_comments={'fname':'name of the notebook'})"
  },
  {
   "cell_type": "markdown",
   "metadata": {},
   "source": "### Convert all to html"
  },
  {
   "cell_type": "code",
   "execution_count": null,
   "metadata": {
    "hide_input": true
   },
   "outputs": [
    {
     "data": {
      "text/markdown": "#### <a id=convert_all></a>`convert_all`(<code>folder</code>, <code>dest_path</code>=`'.'`)<div style=\"text-align: right\"><a href=\"https://github.com/fastai/fastai_pytorch/blob/master/fastai/gen_doc/convert2html.py#L40\">[source]</a></div>\n\n\nConverts all the notebooks in a given folder in a html pages.\n\n- *folder*: name of the folder",
      "text/plain": "<IPython.core.display.Markdown object>"
     },
     "metadata": {},
     "output_type": "display_data"
    }
   ],
   "source": "show_doc(convert_all, arg_comments={'folder': 'name of the folder'})"
  },
  {
   "cell_type": "code",
   "execution_count": null,
   "metadata": {},
   "outputs": [
    {
     "name": "stdout",
     "output_type": "stream",
     "text": "<generator object Path.glob at 0x1a1cddced0>\n"
    }
   ],
   "source": "# Usage:\nconvert_all('.', '../docs')"
  }
 ],
 "metadata": {
  "kernelspec": {
   "display_name": "Python 3",
   "language": "python",
   "name": "python3"
  }
 },
 "nbformat": 4,
 "nbformat_minor": 2
}
