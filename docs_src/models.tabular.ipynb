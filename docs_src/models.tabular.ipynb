{
 "cells": [
  {
   "cell_type": "markdown",
   "metadata": {},
   "source": "# models.tabular"
  },
  {
   "cell_type": "markdown",
   "metadata": {},
   "source": "Type an introduction of the package here."
  },
  {
   "cell_type": "code",
   "execution_count": null,
   "metadata": {
    "hide_input": true
   },
   "outputs": [],
   "source": "from fastai.gen_doc.nbdoc import *\nfrom fastai.models.tabular import * "
  },
  {
   "cell_type": "markdown",
   "metadata": {},
   "source": "### Global Variable Definitions:"
  },
  {
   "cell_type": "code",
   "execution_count": null,
   "metadata": {
    "hide_input": true
   },
   "outputs": [
    {
     "data": {
      "text/markdown": "### <a id=TabularModel></a><em>class</em> `TabularModel`\n(<code>emb_szs</code>:<code>Collection</code>[<code>Tuple</code>[<code>int</code>, <code>int</code>]], <code>n_cont</code>:<code>int</code>, <code>out_sz</code>:<code>int</code>, <code>layers</code>:<code>Collection</code>[<code>int</code>], <code>drops</code>:<code>Collection</code>[<code>float</code>], <code>emb_drop</code>:<code>float</code>=`0.0`, <code>y_range</code>:`Optional`[<code>Tuple</code>[<code>float</code>, <code>float</code>]]=`None`, <code>use_bn</code>:<code>bool</code>=`True`, <code>is_reg</code>:<code>bool</code>=`False`, <code>is_multi</code>:<code>bool</code>=`False`) :: Inherits ([<code>Module</code>](https://pytorch.org/docs/stable/nn.html#torch.nn.Module))<div style=\"text-align: right\"><a href=\"https://github.com/fastai/fastai_pytorch/blob/master/fastai/models/tabular.py#L6\">[source]</a></div>\n\n\nBasic model for tabular data",
      "text/plain": "<IPython.core.display.Markdown object>"
     },
     "metadata": {},
     "output_type": "display_data"
    }
   ],
   "source": "show_doc(TabularModel)"
  },
  {
   "cell_type": "markdown",
   "metadata": {},
   "source": "[<code>TabularModel</code>](http://docs.fast.ai/models.tabular.html#TabularModel)"
  },
  {
   "cell_type": "code",
   "execution_count": null,
   "metadata": {
    "hide_input": true
   },
   "outputs": [
    {
     "data": {
      "text/markdown": "#### <a id=forward></a>`forward`\n(<code>x_cat</code>:<code>Tensor</code>, <code>x_cont</code>:<code>Tensor</code>) -> <code>Tensor</code><div style=\"text-align: right\"><a href=\"https://github.com/fastai/fastai_pytorch/blob/master/fastai/models/tabular.py#L26\">[source]</a></div>\n\n\nShould be overridden by all subclasses.\n\n.. note::\n    Although the recipe for forward pass needs to be defined within\n    this function, one should call the :class:`Module` instance afterwards\n    instead of this since the former takes care of running the\n    registered hooks while the latter silently ignores them.",
      "text/plain": "<IPython.core.display.Markdown object>"
     },
     "metadata": {},
     "output_type": "display_data"
    }
   ],
   "source": "show_doc(TabularModel.forward)"
  },
  {
   "cell_type": "markdown",
   "metadata": {},
   "source": "`TabularModel.forward`"
  }
 ],
 "metadata": {
  "kernelspec": {
   "display_name": "Python 3",
   "language": "python",
   "name": "python3"
  }
 },
 "nbformat": 4,
 "nbformat_minor": 2
}
