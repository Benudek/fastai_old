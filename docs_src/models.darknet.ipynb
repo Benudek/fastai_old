{
 "cells": [
  {
   "cell_type": "markdown",
   "metadata": {},
   "source": "# models.darknet"
  },
  {
   "cell_type": "markdown",
   "metadata": {},
   "source": "Type an introduction of the package here."
  },
  {
   "cell_type": "code",
   "execution_count": null,
   "metadata": {
    "hide_input": true
   },
   "outputs": [],
   "source": "from fastai.gen_doc.nbdoc import *\nfrom fastai.models.darknet import * "
  },
  {
   "cell_type": "markdown",
   "metadata": {},
   "source": "### Global Variable Definitions:"
  },
  {
   "cell_type": "code",
   "execution_count": null,
   "metadata": {
    "hide_input": true
   },
   "outputs": [
    {
     "data": {
      "text/markdown": "### <a id=Darknet></a><em>class</em> `Darknet`\n(<code>num_blocks</code>:<code>int</code>, <code>num_classes</code>:<code>int</code>, <code>nf</code>=`32`) :: Inherits ([<code>Module</code>](https://pytorch.org/docs/stable/nn.html#torch.nn.Module))<div style=\"text-align: right\"><a href=\"https://github.com/fastai/fastai_pytorch/blob/master/fastai/models/darknet.py#L16\">[source]</a></div>\n\n\nhttps://github.com/pjreddie/darknet",
      "text/plain": "<IPython.core.display.Markdown object>"
     },
     "metadata": {},
     "output_type": "display_data"
    }
   ],
   "source": "show_doc(Darknet)"
  },
  {
   "cell_type": "markdown",
   "metadata": {},
   "source": "[<code>Darknet</code>](fastai.models.darknet.html#Darknet)"
  },
  {
   "cell_type": "code",
   "execution_count": null,
   "metadata": {
    "hide_input": true
   },
   "outputs": [
    {
     "data": {
      "text/markdown": "#### <a id=forward></a>`forward`(<code>x</code>)<div style=\"text-align: right\"><a href=\"https://github.com/fastai/fastai_pytorch/blob/master/fastai/models/darknet.py#L33\">[source]</a></div>\n\n\nShould be overridden by all subclasses.\n\n.. note::\n    Although the recipe for forward pass needs to be defined within\n    this function, one should call the :class:`Module` instance afterwards\n    instead of this since the former takes care of running the\n    registered hooks while the latter silently ignores them.",
      "text/plain": "<IPython.core.display.Markdown object>"
     },
     "metadata": {},
     "output_type": "display_data"
    }
   ],
   "source": "show_doc(Darknet.forward)"
  },
  {
   "cell_type": "markdown",
   "metadata": {},
   "source": "`Darknet.forward`"
  },
  {
   "cell_type": "code",
   "execution_count": null,
   "metadata": {
    "hide_input": true
   },
   "outputs": [
    {
     "data": {
      "text/markdown": "#### <a id=make_group_layer></a>`make_group_layer`\n(<code>ch_in</code>:<code>int</code>, <code>num_blocks</code>:<code>int</code>, <code>stride</code>:<code>int</code>=`1`)<div style=\"text-align: right\"><a href=\"https://github.com/fastai/fastai_pytorch/blob/master/fastai/models/darknet.py#L18\">[source]</a></div>\n\n\nstarts with conv layer - `ch_in` channels in - then has `num_blocks` [<code>ResLayer</code>](fastai.models.darknet.html#ResLayer)",
      "text/plain": "<IPython.core.display.Markdown object>"
     },
     "metadata": {},
     "output_type": "display_data"
    }
   ],
   "source": "show_doc(Darknet.make_group_layer)"
  },
  {
   "cell_type": "markdown",
   "metadata": {},
   "source": "`Darknet.make_group_layer`"
  },
  {
   "cell_type": "code",
   "execution_count": null,
   "metadata": {
    "hide_input": true
   },
   "outputs": [
    {
     "data": {
      "text/markdown": "### <a id=ResLayer></a><em>class</em> `ResLayer`(<code>ni</code>:<code>int</code>) :: Inherits ([<code>Module</code>](https://pytorch.org/docs/stable/nn.html#torch.nn.Module))<div style=\"text-align: right\"><a href=\"https://github.com/fastai/fastai_pytorch/blob/master/fastai/models/darknet.py#L6\">[source]</a></div>\n\n\nResnet style [<code>ResLayer</code>](fastai.models.darknet.html#ResLayer)",
      "text/plain": "<IPython.core.display.Markdown object>"
     },
     "metadata": {},
     "output_type": "display_data"
    }
   ],
   "source": "show_doc(ResLayer)"
  },
  {
   "cell_type": "markdown",
   "metadata": {},
   "source": "[<code>ResLayer</code>](fastai.models.darknet.html#ResLayer)"
  },
  {
   "cell_type": "code",
   "execution_count": null,
   "metadata": {
    "hide_input": true
   },
   "outputs": [
    {
     "data": {
      "text/markdown": "#### <a id=forward></a>`forward`(<code>x</code>)<div style=\"text-align: right\"><a href=\"https://github.com/fastai/fastai_pytorch/blob/master/fastai/models/darknet.py#L14\">[source]</a></div>\n\n\nShould be overridden by all subclasses.\n\n.. note::\n    Although the recipe for forward pass needs to be defined within\n    this function, one should call the :class:`Module` instance afterwards\n    instead of this since the former takes care of running the\n    registered hooks while the latter silently ignores them.",
      "text/plain": "<IPython.core.display.Markdown object>"
     },
     "metadata": {},
     "output_type": "display_data"
    }
   ],
   "source": "show_doc(ResLayer.forward)"
  },
  {
   "cell_type": "markdown",
   "metadata": {},
   "source": "`ResLayer.forward`"
  }
 ],
 "metadata": {
  "kernelspec": {
   "display_name": "Python 3",
   "language": "python",
   "name": "python3"
  }
 },
 "nbformat": 4,
 "nbformat_minor": 2
}
