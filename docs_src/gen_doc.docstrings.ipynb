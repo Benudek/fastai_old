{
 "cells": [
  {
   "cell_type": "markdown",
   "metadata": {},
   "source": "# gen_doc.docstrings"
  },
  {
   "cell_type": "markdown",
   "metadata": {},
   "source": "Type an introduction of the package here."
  },
  {
   "cell_type": "code",
   "execution_count": null,
   "metadata": {
    "hide_input": true
   },
   "outputs": [],
   "source": "from fastai.gen_doc.nbdoc import *\nfrom fastai.gen_doc.docstrings import * "
  },
  {
   "cell_type": "markdown",
   "metadata": {},
   "source": "### Global Variable Definitions:"
  },
  {
   "cell_type": "code",
   "execution_count": null,
   "metadata": {
    "hide_input": true
   },
   "outputs": [
    {
     "data": {
      "text/markdown": "#### <a id=parse_docstring></a>`parse_docstring`(<code>docstring</code>)<div style=\"text-align: right\"><a href=\"https://github.com/fastai/fastai_pytorch/blob/master/fastai/gen_doc/docstrings.py#L67\">[source]</a></div>\n\n\nParse the docstring into its components.\n\n*return*: a dictionary of form\n{\n\"short_description\": ...,\n\"long_description\": ...,\n\"params\": [{\"name\": ..., \"doc\": ...}, ...],\n\"vals\": [{\"name\": ..., \"doc\": ...}, ...],\n\"return\": ...\n}",
      "text/plain": "<IPython.core.display.Markdown object>"
     },
     "metadata": {},
     "output_type": "display_data"
    }
   ],
   "source": "show_doc(parse_docstring)"
  },
  {
   "cell_type": "markdown",
   "metadata": {},
   "source": "[<code>parse_docstring</code>](http://docs.fast.ai/gen_doc.docstrings.html#parse_docstring)"
  }
 ],
 "metadata": {
  "kernelspec": {
   "display_name": "Python 3",
   "language": "python",
   "name": "python3"
  }
 },
 "nbformat": 4,
 "nbformat_minor": 2
}
