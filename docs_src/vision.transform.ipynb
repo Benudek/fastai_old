{
 "cells": [
  {
   "cell_type": "markdown",
   "metadata": {},
   "source": [
    "# vision.transform"
   ]
  },
  {
   "cell_type": "markdown",
   "metadata": {},
   "source": [
    "Type an introduction of the package here."
   ]
  },
  {
   "cell_type": "code",
   "execution_count": null,
   "metadata": {
    "hide_input": true
   },
   "outputs": [],
   "source": [
    "from fastai.gen_doc.nbdoc import *\n",
    "from fastai.vision.transform import * "
   ]
  },
  {
   "cell_type": "markdown",
   "metadata": {},
   "source": [
    "### Global Variable Definitions:"
   ]
  },
  {
   "cell_type": "code",
   "execution_count": null,
   "metadata": {
    "hide_input": true
   },
   "outputs": [
    {
     "data": {
      "text/markdown": [
       "#### <a id=apply_perspective></a>`apply_perspective`\n",
       "(`coords`:`Tensor`, `coeffs`:`Collection`[`Tuple`[`float`, `float`]]) -> `Tensor`<div style=\"text-align: right\"><a href=\"../fastai/vision/transform.py#L124\">[source]</a></div>\n",
       "\n",
       "\n",
       "Transform `coords` with `coeffs`"
      ],
      "text/plain": [
       "<IPython.core.display.Markdown object>"
      ]
     },
     "metadata": {},
     "output_type": "display_data"
    }
   ],
   "source": [
    "show_doc(apply_perspective)"
   ]
  },
  {
   "cell_type": "markdown",
   "metadata": {},
   "source": [
    "`apply_perspective`"
   ]
  },
  {
   "cell_type": "code",
   "execution_count": null,
   "metadata": {
    "hide_input": true
   },
   "outputs": [
    {
     "data": {
      "text/markdown": [
       "#### <a id=compute_zs_mat></a>`compute_zs_mat`\n",
       "(`sz`:`Tuple`[`int`, `int`, `int`], `scale`:`float`, `squish`:`float`, `invert`:`bool`, `row_pct`:`float`, `col_pct`:`float`) -> `Tensor`<div style=\"text-align: right\"><a href=\"../fastai/vision/transform.py#L198\">[source]</a></div>\n",
       "\n",
       "\n",
       "Utility routine to compute zoom/squish matrix"
      ],
      "text/plain": [
       "<IPython.core.display.Markdown object>"
      ]
     },
     "metadata": {},
     "output_type": "display_data"
    }
   ],
   "source": [
    "show_doc(compute_zs_mat)"
   ]
  },
  {
   "cell_type": "markdown",
   "metadata": {},
   "source": [
    "`compute_zs_mat`"
   ]
  },
  {
   "cell_type": "code",
   "execution_count": null,
   "metadata": {
    "hide_input": true
   },
   "outputs": [
    {
     "data": {
      "text/markdown": [
       "#### <a id=find_coeffs></a>`find_coeffs`\n",
       "(`orig_pts`:`Collection`[`Tuple`[`float`, `float`]], `targ_pts`:`Collection`[`Tuple`[`float`, `float`]]) -> `Tensor`<div style=\"text-align: right\"><a href=\"../fastai/vision/transform.py#L111\">[source]</a></div>\n",
       "\n",
       "\n",
       "Find 8 coeff mentioned [here](https://web.archive.org/web/20150222120106/xenia.media.mit.edu/~cwren/interpolator/)"
      ],
      "text/plain": [
       "<IPython.core.display.Markdown object>"
      ]
     },
     "metadata": {},
     "output_type": "display_data"
    }
   ],
   "source": [
    "show_doc(find_coeffs)"
   ]
  },
  {
   "cell_type": "markdown",
   "metadata": {},
   "source": [
    "`find_coeffs`"
   ]
  },
  {
   "cell_type": "code",
   "execution_count": null,
   "metadata": {
    "hide_input": true
   },
   "outputs": [
    {
     "data": {
      "text/markdown": [
       "#### <a id=get_transforms></a>`get_transforms`\n",
       "(`do_flip`:`bool`=`True`, `flip_vert`:`bool`=`False`, `max_rotate`:`float`=`10.0`, `max_zoom`:`float`=`1.1`, `max_lighting`:`float`=`0.2`, `max_warp`:`float`=`0.2`, `p_affine`:`float`=`0.75`, `p_lighting`:`float`=`0.75`, `xtra_tfms`:`float`=`None`) -> `Collection`[`Transform`]<div style=\"text-align: right\"><a href=\"../fastai/vision/transform.py#L182\">[source]</a></div>\n",
       "\n",
       "\n",
       "Utility func to easily create list of `flip`, `rotate`, `zoom`, `warp`, `lighting` transforms"
      ],
      "text/plain": [
       "<IPython.core.display.Markdown object>"
      ]
     },
     "metadata": {},
     "output_type": "display_data"
    }
   ],
   "source": [
    "show_doc(get_transforms)"
   ]
  },
  {
   "cell_type": "markdown",
   "metadata": {},
   "source": [
    "`get_transforms`"
   ]
  },
  {
   "cell_type": "code",
   "execution_count": null,
   "metadata": {
    "hide_input": true
   },
   "outputs": [
    {
     "data": {
      "text/markdown": [
       "#### <a id=get_zoom_mat></a>`get_zoom_mat`(`sw`:`float`, `sh`:`float`, `c`:`float`, `r`:`float`) -> `Tensor`<div style=\"text-align: right\"><a href=\"../fastai/vision/transform.py#L26\">[source]</a></div>\n",
       "\n",
       "\n",
       "`sw`,`sh` scale width,height - `c`,`r` focus col,row"
      ],
      "text/plain": [
       "<IPython.core.display.Markdown object>"
      ]
     },
     "metadata": {},
     "output_type": "display_data"
    }
   ],
   "source": [
    "show_doc(get_zoom_mat)"
   ]
  },
  {
   "cell_type": "markdown",
   "metadata": {},
   "source": [
    "`get_zoom_mat`"
   ]
  },
  {
   "cell_type": "code",
   "execution_count": null,
   "metadata": {
    "hide_input": true
   },
   "outputs": [
    {
     "data": {
      "text/markdown": [
       "#### <a id=rand_crop></a>`rand_crop`(`args`, `kwargs`)<div style=\"text-align: right\"><a href=\"../fastai/vision/transform.py#L102\">[source]</a></div>\n",
       "\n",
       "\n",
       "Random crop and pad"
      ],
      "text/plain": [
       "<IPython.core.display.Markdown object>"
      ]
     },
     "metadata": {},
     "output_type": "display_data"
    }
   ],
   "source": [
    "show_doc(rand_crop)"
   ]
  },
  {
   "cell_type": "markdown",
   "metadata": {},
   "source": [
    "`rand_crop`"
   ]
  },
  {
   "cell_type": "code",
   "execution_count": null,
   "metadata": {
    "hide_input": true
   },
   "outputs": [
    {
     "data": {
      "text/markdown": [
       "#### <a id=rand_zoom></a>`rand_zoom`(`args`, `kwargs`)<div style=\"text-align: right\"><a href=\"../fastai/vision/transform.py#L99\">[source]</a></div>\n",
       "\n",
       "\n",
       "Random zoom tfm"
      ],
      "text/plain": [
       "<IPython.core.display.Markdown object>"
      ]
     },
     "metadata": {},
     "output_type": "display_data"
    }
   ],
   "source": [
    "show_doc(rand_zoom)"
   ]
  },
  {
   "cell_type": "markdown",
   "metadata": {},
   "source": [
    "`rand_zoom`"
   ]
  },
  {
   "cell_type": "code",
   "execution_count": null,
   "metadata": {
    "hide_input": true
   },
   "outputs": [
    {
     "data": {
      "text/markdown": [
       "#### <a id=zoom_crop></a>`zoom_crop`(`scale`, `do_rand`=`False`, `p`=`1.0`)<div style=\"text-align: right\"><a href=\"../fastai/vision/transform.py#L105\">[source]</a></div>\n",
       "\n",
       "\n",
       "Randomly zoom and/or crop"
      ],
      "text/plain": [
       "<IPython.core.display.Markdown object>"
      ]
     },
     "metadata": {},
     "output_type": "display_data"
    }
   ],
   "source": [
    "show_doc(zoom_crop)"
   ]
  },
  {
   "cell_type": "markdown",
   "metadata": {},
   "source": [
    "`zoom_crop`"
   ]
  }
 ],
 "metadata": {
  "kernelspec": {
   "display_name": "Python 3",
   "language": "python",
   "name": "python3"
  }
 },
 "nbformat": 4,
 "nbformat_minor": 2
}
