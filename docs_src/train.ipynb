{
 "cells": [
  {
   "cell_type": "markdown",
   "metadata": {},
   "source": "# train"
  },
  {
   "cell_type": "markdown",
   "metadata": {},
   "source": "Type an introduction of the package here."
  },
  {
   "cell_type": "code",
   "execution_count": null,
   "metadata": {
    "hide_input": true
   },
   "outputs": [],
   "source": "from fastai.gen_doc.nbdoc import *\nfrom fastai.train import * "
  },
  {
   "cell_type": "markdown",
   "metadata": {},
   "source": "### Global Variable Definitions:"
  },
  {
   "cell_type": "code",
   "execution_count": null,
   "metadata": {
    "hide_input": true
   },
   "outputs": [
    {
     "data": {
      "text/markdown": "### <a id=BnFreeze></a><em>class</em> `BnFreeze`\n(<code>learn</code>:[<code>Learner</code>](fastai.basic_train.html#Learner)) -> <code>NoneType</code> :: Inherits ([<code>LearnerCallback</code>](fastai.basic_train.html#LearnerCallback))<div style=\"text-align: right\"><a href=\"https://github.com/fastai/fastai_pytorch/blob/master/fastai/train.py#L56\">[source]</a></div>\n\n\nSet all bntypes layers in `learn` to eval() on_epoch_begin",
      "text/plain": "<IPython.core.display.Markdown object>"
     },
     "metadata": {},
     "output_type": "display_data"
    }
   ],
   "source": "show_doc(BnFreeze)"
  },
  {
   "cell_type": "markdown",
   "metadata": {},
   "source": "[<code>BnFreeze</code>](http://docs.fast.ai/train.html#BnFreeze)"
  },
  {
   "cell_type": "code",
   "execution_count": null,
   "metadata": {
    "hide_input": true
   },
   "outputs": [
    {
     "data": {
      "text/markdown": "#### <a id=on_epoch_begin></a>`on_epoch_begin`(<code>kwargs</code>:<code>Any</code>) -> <code>NoneType</code><div style=\"text-align: right\"><a href=\"https://github.com/fastai/fastai_pytorch/blob/master/fastai/train.py#L58\">[source]</a></div>\n\n\nPut bn layers in eval mode on epoch_begin",
      "text/plain": "<IPython.core.display.Markdown object>"
     },
     "metadata": {},
     "output_type": "display_data"
    }
   ],
   "source": "show_doc(BnFreeze.on_epoch_begin)"
  },
  {
   "cell_type": "markdown",
   "metadata": {},
   "source": "`BnFreeze.on_epoch_begin`"
  },
  {
   "cell_type": "code",
   "execution_count": null,
   "metadata": {
    "hide_input": true
   },
   "outputs": [
    {
     "data": {
      "text/markdown": "### <a id=GradientClipping></a><em>class</em> `GradientClipping`\n(<code>learn</code>:[<code>Learner</code>](fastai.basic_train.html#Learner), <code>clip</code>:<code>float</code>) -> <code>NoneType</code> :: Inherits ([<code>LearnerCallback</code>](fastai.basic_train.html#LearnerCallback))<div style=\"text-align: right\"><a href=\"https://github.com/fastai/fastai_pytorch/blob/master/fastai/train.py#L63\">[source]</a></div>\n\n\nTo do gradient clipping during training.",
      "text/plain": "<IPython.core.display.Markdown object>"
     },
     "metadata": {},
     "output_type": "display_data"
    }
   ],
   "source": "show_doc(GradientClipping)"
  },
  {
   "cell_type": "markdown",
   "metadata": {},
   "source": "[<code>GradientClipping</code>](http://docs.fast.ai/train.html#GradientClipping)"
  },
  {
   "cell_type": "code",
   "execution_count": null,
   "metadata": {
    "hide_input": true
   },
   "outputs": [
    {
     "data": {
      "text/markdown": "#### <a id=on_backward_end></a>`on_backward_end`(<code>kwargs</code>)<div style=\"text-align: right\"><a href=\"https://github.com/fastai/fastai_pytorch/blob/master/fastai/train.py#L67\">[source]</a></div>\n\n\nCalled after backprop but before optimizer step. Useful for true weight decay in AdamW",
      "text/plain": "<IPython.core.display.Markdown object>"
     },
     "metadata": {},
     "output_type": "display_data"
    }
   ],
   "source": "show_doc(GradientClipping.on_backward_end)"
  },
  {
   "cell_type": "markdown",
   "metadata": {},
   "source": "`GradientClipping.on_backward_end`"
  },
  {
   "cell_type": "code",
   "execution_count": null,
   "metadata": {
    "hide_input": true
   },
   "outputs": [
    {
     "data": {
      "text/markdown": "### <a id=ShowGraph></a><em>class</em> `ShowGraph`\n(<code>learn</code>:[<code>Learner</code>](fastai.basic_train.html#Learner)) -> <code>NoneType</code> :: Inherits ([<code>LearnerCallback</code>](fastai.basic_train.html#LearnerCallback))<div style=\"text-align: right\"><a href=\"https://github.com/fastai/fastai_pytorch/blob/master/fastai/train.py#L43\">[source]</a></div>\n\n\nUpdates a graph of learner stats and metrics after each epoch",
      "text/plain": "<IPython.core.display.Markdown object>"
     },
     "metadata": {},
     "output_type": "display_data"
    }
   ],
   "source": "show_doc(ShowGraph)"
  },
  {
   "cell_type": "markdown",
   "metadata": {},
   "source": "[<code>ShowGraph</code>](http://docs.fast.ai/train.html#ShowGraph)"
  },
  {
   "cell_type": "code",
   "execution_count": null,
   "metadata": {
    "hide_input": true
   },
   "outputs": [
    {
     "data": {
      "text/markdown": "#### <a id=on_epoch_end></a>`on_epoch_end`\n(<code>n_epochs</code>:<code>int</code>, <code>last_metrics</code>:<code>Collection</code>[<code>None</code>[<code>Tensor</code>, <code>Number</code>]], <code>kwargs</code>) -> <code>bool</code><div style=\"text-align: right\"><a href=\"https://github.com/fastai/fastai_pytorch/blob/master/fastai/train.py#L45\">[source]</a></div>\n\n\nIf we have metrics plot them in our pbar graph",
      "text/plain": "<IPython.core.display.Markdown object>"
     },
     "metadata": {},
     "output_type": "display_data"
    }
   ],
   "source": "show_doc(ShowGraph.on_epoch_end)"
  },
  {
   "cell_type": "markdown",
   "metadata": {},
   "source": "`ShowGraph.on_epoch_end`"
  },
  {
   "cell_type": "code",
   "execution_count": null,
   "metadata": {
    "hide_input": true
   },
   "outputs": [
    {
     "data": {
      "text/markdown": "#### <a id=fit_one_cycle></a>`fit_one_cycle`\n(<code>learn</code>:[<code>Learner</code>](fastai.basic_train.html#Learner), <code>cyc_len</code>:<code>int</code>, <code>max_lr</code>:<code>None</code>[<code>float</code>, <code>Collection</code>[<code>float</code>], <code>slice</code>]=`slice(None, 0.003, None)`, <code>moms</code>:<code>Tuple</code>[<code>float</code>, <code>float</code>]=`(0.95, 0.85)`, <code>div_factor</code>:<code>float</code>=`25.0`, <code>pct_start</code>:<code>float</code>=`0.3`, <code>wd</code>:<code>float</code>=`None`, <code>kwargs</code>) -> <code>NoneType</code><div style=\"text-align: right\"><a href=\"https://github.com/fastai/fastai_pytorch/blob/master/fastai/train.py#L10\">[source]</a></div>\n\n\nFits a model following the 1cycle policy",
      "text/plain": "<IPython.core.display.Markdown object>"
     },
     "metadata": {},
     "output_type": "display_data"
    }
   ],
   "source": "show_doc(fit_one_cycle)"
  },
  {
   "cell_type": "markdown",
   "metadata": {},
   "source": "[<code>fit_one_cycle</code>](http://docs.fast.ai/train.html#fit_one_cycle)"
  },
  {
   "cell_type": "code",
   "execution_count": null,
   "metadata": {
    "hide_input": true
   },
   "outputs": [
    {
     "data": {
      "text/markdown": "#### <a id=lr_find></a>`lr_find`\n(<code>learn</code>:[<code>Learner</code>](fastai.basic_train.html#Learner), <code>start_lr</code>:<code>float</code>=`1e-05`, <code>end_lr</code>:<code>float</code>=`10`, <code>num_it</code>:<code>int</code>=`100`, <code>kwargs</code>:<code>Any</code>)<div style=\"text-align: right\"><a href=\"https://github.com/fastai/fastai_pytorch/blob/master/fastai/train.py#L19\">[source]</a></div>\n\n\nExplore lr from `start_lr` to `end_lr` over `num_it` iterations of `learn`",
      "text/plain": "<IPython.core.display.Markdown object>"
     },
     "metadata": {},
     "output_type": "display_data"
    }
   ],
   "source": "show_doc(lr_find)"
  },
  {
   "cell_type": "markdown",
   "metadata": {},
   "source": "[<code>lr_find</code>](http://docs.fast.ai/train.html#lr_find)"
  },
  {
   "cell_type": "code",
   "execution_count": null,
   "metadata": {
    "hide_input": true
   },
   "outputs": [
    {
     "data": {
      "text/markdown": "#### <a id=one_cycle_scheduler></a>`one_cycle_scheduler`\n(<code>lr_max</code>:<code>float</code>, <code>kwargs</code>:<code>Any</code>) -> [<code>OneCycleScheduler</code>](fastai.callbacks.one_cycle.html#OneCycleScheduler)<div style=\"text-align: right\"><a href=\"https://github.com/fastai/fastai_pytorch/blob/master/fastai/train.py#L7\">[source]</a></div>",
      "text/plain": "<IPython.core.display.Markdown object>"
     },
     "metadata": {},
     "output_type": "display_data"
    }
   ],
   "source": "show_doc(one_cycle_scheduler)"
  },
  {
   "cell_type": "markdown",
   "metadata": {},
   "source": "[<code>one_cycle_scheduler</code>](http://docs.fast.ai/train.html#one_cycle_scheduler)"
  },
  {
   "cell_type": "code",
   "execution_count": null,
   "metadata": {
    "hide_input": true
   },
   "outputs": [
    {
     "data": {
      "text/markdown": "#### <a id=to_fp16></a>`to_fp16`\n(<code>learn</code>:[<code>Learner</code>](fastai.basic_train.html#Learner), <code>loss_scale</code>:<code>float</code>=`512.0`, <code>flat_master</code>:<code>bool</code>=`False`) -> [<code>Learner</code>](fastai.basic_train.html#Learner)<div style=\"text-align: right\"><a href=\"https://github.com/fastai/fastai_pytorch/blob/master/fastai/train.py#L25\">[source]</a></div>\n\n\nTransforms the learner in FP16 precision",
      "text/plain": "<IPython.core.display.Markdown object>"
     },
     "metadata": {},
     "output_type": "display_data"
    }
   ],
   "source": "show_doc(to_fp16)"
  },
  {
   "cell_type": "markdown",
   "metadata": {},
   "source": "[<code>to_fp16</code>](http://docs.fast.ai/train.html#to_fp16)"
  }
 ],
 "metadata": {
  "jekyll": {
   "summary": "Provides advanced training extensions to `fastai.basic_train`. Includes half-precision, learning rate finder, mixup, and one-cycle",
   "title": "train"
  },
  "kernelspec": {
   "display_name": "Python 3",
   "language": "python",
   "name": "python3"
  }
 },
 "nbformat": 4,
 "nbformat_minor": 2
}
