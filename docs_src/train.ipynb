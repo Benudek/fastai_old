{
 "cells": [
  {
   "cell_type": "markdown",
   "metadata": {},
   "source": [
    "# Additional training functions"
   ]
  },
  {
   "cell_type": "markdown",
   "metadata": {},
   "source": [
    "`train` provides a number of extension methods that are added to `Learner` (see below for a list and details), along with three simple callbacks:\n",
    "\n",
    "- `ShowGraph`\n",
    "- `GradientClipping`\n",
    "- `BnFreeze`"
   ]
  },
  {
   "cell_type": "code",
   "execution_count": null,
   "metadata": {
    "hide_input": true
   },
   "outputs": [],
   "source": [
    "from fastai.gen_doc.nbdoc import *\n",
    "from fastai.train import * "
   ]
  },
  {
   "cell_type": "markdown",
   "metadata": {},
   "source": [
    "## `Learner` extension methods"
   ]
  },
  {
   "cell_type": "markdown",
   "metadata": {},
   "source": [
    "These methods are automatically added to all `Learner` objects created after importing this module. They provide convenient access to various callbacks, without requiring them to be manually created."
   ]
  },
  {
   "cell_type": "code",
   "execution_count": null,
   "metadata": {
    "hide_input": false
   },
   "outputs": [
    {
     "data": {
      "text/markdown": [
       "#### <a id=fit_one_cycle></a>`fit_one_cycle`\n",
       "`fit_one_cycle`(<code>learn</code>:[<code>Learner</code>](/basic_train.html#Learner), <code>cyc_len</code>:<code>int</code>, <code>max_lr</code>:<code>Union</code>[<code>float</code>, <code>Collection</code>[<code>float</code>], <code>slice</code>]=`slice(None, 0.003, None)`, <code>moms</code>:<code>Tuple</code>[<code>float</code>, <code>float</code>]=`(0.95, 0.85)`, <code>div_factor</code>:<code>float</code>=`25.0`, <code>pct_start</code>:<code>float</code>=`0.3`, <code>wd</code>:<code>float</code>=`None`, <code>kwargs</code>)\n",
       "\n",
       "\n",
       "Fits a model following the 1cycle policy <a href=\"https://github.com/fastai/fastai_pytorch/blob/master/fastai/train.py#L11\">[source]</a>"
      ],
      "text/plain": [
       "<IPython.core.display.Markdown object>"
      ]
     },
     "metadata": {},
     "output_type": "display_data"
    }
   ],
   "source": [
    "show_doc(fit_one_cycle)"
   ]
  },
  {
   "cell_type": "code",
   "execution_count": null,
   "metadata": {},
   "outputs": [],
   "source": [
    "from fastai.callbacks import *"
   ]
  },
  {
   "cell_type": "code",
   "execution_count": null,
   "metadata": {},
   "outputs": [],
   "source": []
  },
  {
   "cell_type": "code",
   "execution_count": null,
   "metadata": {
    "hide_input": false
   },
   "outputs": [
    {
     "data": {
      "text/markdown": [
       "#### <a id=lr_find></a>`lr_find`\n",
       "`lr_find`(<code>learn</code>:[<code>Learner</code>](/basic_train.html#Learner), <code>start_lr</code>:<code>float</code>=`1e-05`, <code>end_lr</code>:<code>float</code>=`10`, <code>num_it</code>:<code>int</code>=`100`, <code>kwargs</code>:<code>Any</code>)\n",
       "\n",
       "\n",
       "Explore lr from `start_lr` to `end_lr` over `num_it` iterations of `learn` <a href=\"https://github.com/fastai/fastai_pytorch/blob/master/fastai/train.py#L20\">[source]</a>"
      ],
      "text/plain": [
       "<IPython.core.display.Markdown object>"
      ]
     },
     "metadata": {},
     "output_type": "display_data"
    }
   ],
   "source": [
    "show_doc(lr_find)"
   ]
  },
  {
   "cell_type": "markdown",
   "metadata": {},
   "source": [
    "See `OneCycleScheduler` for details."
   ]
  },
  {
   "cell_type": "code",
   "execution_count": null,
   "metadata": {
    "hide_input": false
   },
   "outputs": [
    {
     "data": {
      "text/markdown": [
       "#### <a id=one_cycle_scheduler></a>`one_cycle_scheduler`\n",
       "`one_cycle_scheduler`(<code>lr_max</code>:<code>float</code>, <code>kwargs</code>:<code>Any</code>) -> [<code>OneCycleScheduler</code>](/callbacks.one_cycle.html#OneCycleScheduler)\n",
       "<a href=\"https://github.com/fastai/fastai_pytorch/blob/master/fastai/train.py#L8\">[source]</a>"
      ],
      "text/plain": [
       "<IPython.core.display.Markdown object>"
      ]
     },
     "metadata": {},
     "output_type": "display_data"
    }
   ],
   "source": [
    "show_doc(one_cycle_scheduler)"
   ]
  },
  {
   "cell_type": "markdown",
   "metadata": {},
   "source": [
    "See `OneCycleScheduler` for details."
   ]
  },
  {
   "cell_type": "code",
   "execution_count": null,
   "metadata": {
    "hide_input": false
   },
   "outputs": [
    {
     "data": {
      "text/markdown": [
       "#### <a id=to_fp16></a>`to_fp16`\n",
       "`to_fp16`(<code>learn</code>:[<code>Learner</code>](/basic_train.html#Learner), <code>loss_scale</code>:<code>float</code>=`512.0`, <code>flat_master</code>:<code>bool</code>=`False`) -> [<code>Learner</code>](/basic_train.html#Learner)\n",
       "\n",
       "\n",
       "Transforms the learner in FP16 precision <a href=\"https://github.com/fastai/fastai_pytorch/blob/master/fastai/train.py#L26\">[source]</a>"
      ],
      "text/plain": [
       "<IPython.core.display.Markdown object>"
      ]
     },
     "metadata": {},
     "output_type": "display_data"
    }
   ],
   "source": [
    "show_doc(to_fp16)"
   ]
  },
  {
   "cell_type": "markdown",
   "metadata": {},
   "source": [
    "See `OneCycleScheduler` for details."
   ]
  },
  {
   "cell_type": "code",
   "execution_count": null,
   "metadata": {
    "hide_input": false
   },
   "outputs": [
    {
     "data": {
      "text/markdown": [
       "## <a id=ShowGraph></a>class `ShowGraph`\n",
       "`ShowGraph`(<code>learn</code>:[<code>Learner</code>](/basic_train.html#Learner)) :: [<code>LearnerCallback</code>](/basic_train.html#LearnerCallback)\n",
       "\n",
       "\n",
       "Updates a graph of learner stats and metrics after each epoch <a href=\"https://github.com/fastai/fastai_pytorch/blob/master/fastai/train.py#L44\">[source]</a>"
      ],
      "text/plain": [
       "<IPython.core.display.Markdown object>"
      ]
     },
     "metadata": {},
     "output_type": "display_data"
    }
   ],
   "source": [
    "show_doc(ShowGraph)"
   ]
  },
  {
   "cell_type": "markdown",
   "metadata": {},
   "source": [
    "[<code>ShowGraph</code>](/train.html#ShowGraph)"
   ]
  },
  {
   "cell_type": "markdown",
   "metadata": {},
   "source": [
    "### Internal callback implementation"
   ]
  },
  {
   "cell_type": "code",
   "execution_count": null,
   "metadata": {
    "hide_input": false
   },
   "outputs": [
    {
     "data": {
      "text/markdown": [
       "#### <a id=on_epoch_end></a>`on_epoch_end`\n",
       "`on_epoch_end`(<code>n_epochs</code>:<code>int</code>, <code>last_metrics</code>:<code>Collection</code>[<code>Union</code>[<code>Tensor</code>, <code>Number</code>]], <code>kwargs</code>) -> <code>bool</code>\n",
       "\n",
       "\n",
       "If we have metrics plot them in our pbar graph <a href=\"https://github.com/fastai/fastai_pytorch/blob/master/fastai/train.py#L46\">[source]</a>"
      ],
      "text/plain": [
       "<IPython.core.display.Markdown object>"
      ]
     },
     "metadata": {},
     "output_type": "display_data"
    }
   ],
   "source": [
    "show_doc(ShowGraph.on_epoch_end)"
   ]
  },
  {
   "cell_type": "code",
   "execution_count": null,
   "metadata": {
    "hide_input": false
   },
   "outputs": [
    {
     "data": {
      "text/markdown": [
       "## <a id=GradientClipping></a>class `GradientClipping`\n",
       "`GradientClipping`(<code>learn</code>:[<code>Learner</code>](/basic_train.html#Learner), <code>clip</code>:<code>float</code>) :: [<code>LearnerCallback</code>](/basic_train.html#LearnerCallback)\n",
       "\n",
       "\n",
       "To do gradient clipping during training. <a href=\"https://github.com/fastai/fastai_pytorch/blob/master/fastai/train.py#L64\">[source]</a>"
      ],
      "text/plain": [
       "<IPython.core.display.Markdown object>"
      ]
     },
     "metadata": {},
     "output_type": "display_data"
    }
   ],
   "source": [
    "show_doc(GradientClipping)"
   ]
  },
  {
   "cell_type": "markdown",
   "metadata": {},
   "source": [
    "[<code>GradientClipping</code>](/train.html#GradientClipping)"
   ]
  },
  {
   "cell_type": "markdown",
   "metadata": {},
   "source": [
    "### Internal callback implementation"
   ]
  },
  {
   "cell_type": "code",
   "execution_count": null,
   "metadata": {
    "hide_input": true
   },
   "outputs": [
    {
     "data": {
      "text/markdown": [
       "#### <a id=on_backward_end></a>`on_backward_end`\n",
       "`on_backward_end`(<code>kwargs</code>)\n",
       "\n",
       "\n",
       "Called after backprop but before optimizer step. Useful for true weight decay in AdamW <a href=\"https://github.com/fastai/fastai_pytorch/blob/master/fastai/train.py#L68\">[source]</a>"
      ],
      "text/plain": [
       "<IPython.core.display.Markdown object>"
      ]
     },
     "metadata": {},
     "output_type": "display_data"
    }
   ],
   "source": [
    "show_doc(GradientClipping.on_backward_end)"
   ]
  },
  {
   "cell_type": "code",
   "execution_count": null,
   "metadata": {
    "hide_input": true
   },
   "outputs": [
    {
     "data": {
      "text/markdown": [
       "## <a id=BnFreeze></a>class `BnFreeze`\n",
       "`BnFreeze`(<code>learn</code>:[<code>Learner</code>](/basic_train.html#Learner)) :: [<code>LearnerCallback</code>](/basic_train.html#LearnerCallback)\n",
       "\n",
       "\n",
       "Set all bntypes layers in `learn` to eval() on_epoch_begin <a href=\"https://github.com/fastai/fastai_pytorch/blob/master/fastai/train.py#L57\">[source]</a>"
      ],
      "text/plain": [
       "<IPython.core.display.Markdown object>"
      ]
     },
     "metadata": {},
     "output_type": "display_data"
    }
   ],
   "source": [
    "show_doc(BnFreeze)"
   ]
  },
  {
   "cell_type": "markdown",
   "metadata": {},
   "source": [
    "[<code>BnFreeze</code>](/train.html#BnFreeze)"
   ]
  },
  {
   "cell_type": "markdown",
   "metadata": {},
   "source": [
    "### Internal callback implementation"
   ]
  },
  {
   "cell_type": "code",
   "execution_count": null,
   "metadata": {
    "hide_input": true
   },
   "outputs": [
    {
     "data": {
      "text/markdown": [
       "#### <a id=on_epoch_begin></a>`on_epoch_begin`\n",
       "`on_epoch_begin`(<code>kwargs</code>:<code>Any</code>)\n",
       "\n",
       "\n",
       "Put bn layers in eval mode on epoch_begin <a href=\"https://github.com/fastai/fastai_pytorch/blob/master/fastai/train.py#L59\">[source]</a>"
      ],
      "text/plain": [
       "<IPython.core.display.Markdown object>"
      ]
     },
     "metadata": {},
     "output_type": "display_data"
    }
   ],
   "source": [
    "show_doc(BnFreeze.on_epoch_begin)"
   ]
  }
 ],
 "metadata": {
  "jekyll": {
   "summary": "Provides advanced training extensions to `fastai.basic_train`. Includes half-precision, learning rate finder, mixup, and one-cycle",
   "title": "train"
  },
  "kernelspec": {
   "display_name": "Python 3",
   "language": "python",
   "name": "python3"
  }
 },
 "nbformat": 4,
 "nbformat_minor": 2
}
