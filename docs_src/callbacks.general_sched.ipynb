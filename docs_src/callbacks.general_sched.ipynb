{
 "cells": [
  {
   "cell_type": "markdown",
   "metadata": {},
   "source": "# callbacks.general_sched"
  },
  {
   "cell_type": "markdown",
   "metadata": {},
   "source": "Type an introduction of the package here."
  },
  {
   "cell_type": "code",
   "execution_count": null,
   "metadata": {
    "hide_input": true
   },
   "outputs": [],
   "source": "from fastai.gen_doc.nbdoc import *\nfrom fastai.callbacks.general_sched import * "
  },
  {
   "cell_type": "markdown",
   "metadata": {},
   "source": "### Global Variable Definitions:"
  },
  {
   "cell_type": "code",
   "execution_count": null,
   "metadata": {
    "hide_input": true
   },
   "outputs": [
    {
     "data": {
      "text/markdown": "### <a id=GeneralScheduler></a><em>class</em> `GeneralScheduler`\n(<code>learn</code>:[<code>Learner</code>](fastai.basic_train.html#Learner), <code>phases</code>:<code>Collection</code>[[<code>TrainingPhase</code>](fastai.callbacks.general_sched.html#TrainingPhase)]) -> <code>NoneType</code> :: Inherits ([<code>Callback</code>](fastai.callback.html#Callback))<div style=\"text-align: right\"><a href=\"https://github.com/fastai/fastai_pytorch/blob/master/fastai/callbacks/general_sched.py#L21\">[source]</a></div>\n\n\nSchedule multiple [<code>TrainingPhase</code>](fastai.callbacks.general_sched.html#TrainingPhase) for a `learner`",
      "text/plain": "<IPython.core.display.Markdown object>"
     },
     "metadata": {},
     "output_type": "display_data"
    }
   ],
   "source": "show_doc(GeneralScheduler)"
  },
  {
   "cell_type": "markdown",
   "metadata": {},
   "source": "[<code>GeneralScheduler</code>](fastai.callbacks.general_sched.html#GeneralScheduler)"
  },
  {
   "cell_type": "code",
   "execution_count": null,
   "metadata": {
    "hide_input": true
   },
   "outputs": [
    {
     "data": {
      "text/markdown": "#### <a id=on_batch_end></a>`on_batch_end`(<code>kwargs</code>:<code>Any</code>) -> <code>NoneType</code><div style=\"text-align: right\"><a href=\"https://github.com/fastai/fastai_pytorch/blob/master/fastai/callbacks/general_sched.py#L34\">[source]</a></div>\n\n\nTake a step in lr,mom sched, start next sched when current is complete",
      "text/plain": "<IPython.core.display.Markdown object>"
     },
     "metadata": {},
     "output_type": "display_data"
    }
   ],
   "source": "show_doc(GeneralScheduler.on_batch_end)"
  },
  {
   "cell_type": "markdown",
   "metadata": {},
   "source": "`GeneralScheduler.on_batch_end`"
  },
  {
   "cell_type": "code",
   "execution_count": null,
   "metadata": {
    "hide_input": true
   },
   "outputs": [
    {
     "data": {
      "text/markdown": "#### <a id=on_train_begin></a>`on_train_begin`\n(<code>n_epochs</code>:<code>int</code>, <code>kwargs</code>:<code>Any</code>) -> <code>NoneType</code><div style=\"text-align: right\"><a href=\"https://github.com/fastai/fastai_pytorch/blob/master/fastai/callbacks/general_sched.py#L26\">[source]</a></div>\n\n\nInitialize our lr and mom schedules for training",
      "text/plain": "<IPython.core.display.Markdown object>"
     },
     "metadata": {},
     "output_type": "display_data"
    }
   ],
   "source": "show_doc(GeneralScheduler.on_train_begin)"
  },
  {
   "cell_type": "markdown",
   "metadata": {},
   "source": "`GeneralScheduler.on_train_begin`"
  },
  {
   "cell_type": "code",
   "execution_count": null,
   "metadata": {
    "hide_input": true
   },
   "outputs": [
    {
     "data": {
      "text/markdown": "### <a id=TrainingPhase></a><em>class</em> `TrainingPhase`\n(<code>length</code>:<code>int</code>, <code>lrs</code>:<code>None</code>[<code>float</code>, <code>Collection</code>[<code>float</code>]], <code>moms</code>:<code>None</code>[<code>float</code>, <code>Collection</code>[<code>float</code>]], <code>lr_anneal</code>:<code>Callable</code>[<code>Number</code>, <code>Number</code>, <code>float</code>, <code>Number</code>]=`None`, <code>mom_anneal</code>:<code>Callable</code>[<code>Number</code>, <code>Number</code>, <code>float</code>, <code>Number</code>]=`None`) -> <code>NoneType</code><div style=\"text-align: right\"><a href=\"https://github.com/fastai/fastai_pytorch/blob/master/fastai/callbacks/general_sched.py#L8\">[source]</a></div>\n\n\nSchedule lr,mom according to `lr_anneal` and `mom_anneal` across a `length` schedule",
      "text/plain": "<IPython.core.display.Markdown object>"
     },
     "metadata": {},
     "output_type": "display_data"
    }
   ],
   "source": "show_doc(TrainingPhase)"
  },
  {
   "cell_type": "markdown",
   "metadata": {},
   "source": "[<code>TrainingPhase</code>](fastai.callbacks.general_sched.html#TrainingPhase)"
  }
 ],
 "metadata": {
  "kernelspec": {
   "display_name": "Python 3",
   "language": "python",
   "name": "python3"
  }
 },
 "nbformat": 4,
 "nbformat_minor": 2
}
