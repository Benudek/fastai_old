{
 "cells": [
  {
   "cell_type": "markdown",
   "metadata": {},
   "source": "# vision.data"
  },
  {
   "cell_type": "markdown",
   "metadata": {},
   "source": "Type an introduction of the package here."
  },
  {
   "cell_type": "code",
   "execution_count": null,
   "metadata": {
    "hide_input": true
   },
   "outputs": [],
   "source": "from fastai.gen_doc.nbdoc import *\nfrom fastai.vision.data import * "
  },
  {
   "cell_type": "markdown",
   "metadata": {},
   "source": "### Global Variable Definitions:"
  },
  {
   "cell_type": "code",
   "execution_count": null,
   "metadata": {
    "hide_input": true
   },
   "outputs": [],
   "source": "show_doc(CoordTargetDataset)"
  },
  {
   "cell_type": "markdown",
   "metadata": {},
   "source": "[<code>CoordTargetDataset</code>](http://docs.fast.ai/vision.data.html#CoordTargetDataset)"
  },
  {
   "cell_type": "code",
   "execution_count": null,
   "metadata": {
    "hide_input": true
   },
   "outputs": [],
   "source": "show_doc(DatasetTfm)"
  },
  {
   "cell_type": "markdown",
   "metadata": {},
   "source": "[<code>DatasetTfm</code>](http://docs.fast.ai/vision.data.html#DatasetTfm)"
  },
  {
   "cell_type": "code",
   "execution_count": null,
   "metadata": {
    "hide_input": true
   },
   "outputs": [],
   "source": "show_doc(FilesDataset)"
  },
  {
   "cell_type": "markdown",
   "metadata": {},
   "source": "`FilesDataset`"
  },
  {
   "cell_type": "code",
   "execution_count": null,
   "metadata": {
    "hide_input": true
   },
   "outputs": [],
   "source": "show_doc(FilesDataset._folder_files)"
  },
  {
   "cell_type": "markdown",
   "metadata": {},
   "source": "`FilesDataset._folder_files`"
  },
  {
   "cell_type": "code",
   "execution_count": null,
   "metadata": {
    "hide_input": true
   },
   "outputs": [],
   "source": "show_doc(FilesDataset.from_folder)"
  },
  {
   "cell_type": "markdown",
   "metadata": {},
   "source": "`FilesDataset.from_folder`"
  },
  {
   "cell_type": "code",
   "execution_count": null,
   "metadata": {
    "hide_input": true
   },
   "outputs": [],
   "source": "show_doc(FilesDataset.from_single_folder)"
  },
  {
   "cell_type": "markdown",
   "metadata": {},
   "source": "`FilesDataset.from_single_folder`"
  },
  {
   "cell_type": "code",
   "execution_count": null,
   "metadata": {
    "hide_input": true
   },
   "outputs": [],
   "source": "show_doc(image_data_from_csv)"
  },
  {
   "cell_type": "markdown",
   "metadata": {},
   "source": ""
  },
  {
   "cell_type": "code",
   "execution_count": null,
   "metadata": {
    "hide_input": true
   },
   "outputs": [],
   "source": "show_doc(ImageDataset)"
  },
  {
   "cell_type": "markdown",
   "metadata": {},
   "source": ""
  },
  {
   "cell_type": "code",
   "execution_count": null,
   "metadata": {
    "hide_input": true
   },
   "outputs": [],
   "source": "show_doc(ImageDataset._folder_files)"
  },
  {
   "cell_type": "markdown",
   "metadata": {},
   "source": ""
  },
  {
   "cell_type": "code",
   "execution_count": null,
   "metadata": {
    "hide_input": true
   },
   "outputs": [],
   "source": "show_doc(ImageDataset.from_folder)"
  },
  {
   "cell_type": "markdown",
   "metadata": {},
   "source": ""
  },
  {
   "cell_type": "code",
   "execution_count": null,
   "metadata": {
    "hide_input": true
   },
   "outputs": [],
   "source": "show_doc(ImageDataset.from_single_folder)"
  },
  {
   "cell_type": "markdown",
   "metadata": {},
   "source": ""
  },
  {
   "cell_type": "code",
   "execution_count": null,
   "metadata": {
    "hide_input": true
   },
   "outputs": [],
   "source": "show_doc(ImageMultiDataset)"
  },
  {
   "cell_type": "markdown",
   "metadata": {},
   "source": ""
  },
  {
   "cell_type": "code",
   "execution_count": null,
   "metadata": {
    "hide_input": true
   },
   "outputs": [],
   "source": "show_doc(ImageMultiDataset.encode)"
  },
  {
   "cell_type": "markdown",
   "metadata": {},
   "source": ""
  },
  {
   "cell_type": "code",
   "execution_count": null,
   "metadata": {
    "hide_input": true
   },
   "outputs": [],
   "source": "show_doc(ImageMultiDataset.from_folder)"
  },
  {
   "cell_type": "markdown",
   "metadata": {},
   "source": ""
  },
  {
   "cell_type": "code",
   "execution_count": null,
   "metadata": {
    "hide_input": true
   },
   "outputs": [],
   "source": "show_doc(ImageMultiDataset.from_single_folder)"
  },
  {
   "cell_type": "markdown",
   "metadata": {},
   "source": ""
  },
  {
   "cell_type": "code",
   "execution_count": null,
   "metadata": {
    "hide_input": true
   },
   "outputs": [],
   "source": "show_doc(ImageMultiDataset.get_labels)"
  },
  {
   "cell_type": "markdown",
   "metadata": {},
   "source": ""
  },
  {
   "cell_type": "code",
   "execution_count": null,
   "metadata": {
    "hide_input": true
   },
   "outputs": [],
   "source": "show_doc(SegmentationDataset)"
  },
  {
   "cell_type": "markdown",
   "metadata": {},
   "source": "[<code>SegmentationDataset</code>](http://docs.fast.ai/vision.data.html#SegmentationDataset)"
  },
  {
   "cell_type": "code",
   "execution_count": null,
   "metadata": {
    "hide_input": true
   },
   "outputs": [],
   "source": "show_doc(bb2hw)"
  },
  {
   "cell_type": "markdown",
   "metadata": {},
   "source": "[<code>bb2hw</code>](http://docs.fast.ai/vision.image.html#bb2hw)"
  },
  {
   "cell_type": "code",
   "execution_count": null,
   "metadata": {
    "hide_input": true
   },
   "outputs": [],
   "source": "show_doc(denormalize)"
  },
  {
   "cell_type": "markdown",
   "metadata": {},
   "source": "[<code>denormalize</code>](http://docs.fast.ai/vision.data.html#denormalize)"
  },
  {
   "cell_type": "code",
   "execution_count": null,
   "metadata": {
    "hide_input": true
   },
   "outputs": [],
   "source": "show_doc(draw_outline)"
  },
  {
   "cell_type": "markdown",
   "metadata": {},
   "source": "[<code>draw_outline</code>](fastai.vision.image.html#draw_outline)"
  },
  {
   "cell_type": "code",
   "execution_count": null,
   "metadata": {
    "hide_input": true
   },
   "outputs": [],
   "source": "show_doc(draw_rect)"
  },
  {
   "cell_type": "markdown",
   "metadata": {},
   "source": "[<code>draw_rect</code>](fastai.vision.image.html#draw_rect)"
  },
  {
   "cell_type": "code",
   "execution_count": null,
   "metadata": {
    "hide_input": true
   },
   "outputs": [],
   "source": "show_doc(get_image_files)"
  },
  {
   "cell_type": "markdown",
   "metadata": {},
   "source": "[<code>get_image_files</code>](http://docs.fast.ai/vision.data.html#get_image_files)"
  },
  {
   "cell_type": "code",
   "execution_count": null,
   "metadata": {
    "hide_input": true
   },
   "outputs": [],
   "source": "show_doc(image2np)"
  },
  {
   "cell_type": "markdown",
   "metadata": {},
   "source": "[<code>image2np</code>](http://docs.fast.ai/vision.image.html#image2np)"
  },
  {
   "cell_type": "code",
   "execution_count": null,
   "metadata": {
    "hide_input": true
   },
   "outputs": [],
   "source": "show_doc(image_data_from_folder)"
  },
  {
   "cell_type": "markdown",
   "metadata": {},
   "source": "[<code>image_data_from_folder</code>](http://docs.fast.ai/vision.data.html#image_data_from_folder)"
  },
  {
   "cell_type": "code",
   "execution_count": null,
   "metadata": {
    "hide_input": true
   },
   "outputs": [],
   "source": "show_doc(normalize)"
  },
  {
   "cell_type": "markdown",
   "metadata": {},
   "source": "[<code>normalize</code>](http://docs.fast.ai/vision.data.html#normalize)"
  },
  {
   "cell_type": "code",
   "execution_count": null,
   "metadata": {
    "hide_input": true
   },
   "outputs": [],
   "source": "show_doc(normalize_batch)"
  },
  {
   "cell_type": "markdown",
   "metadata": {},
   "source": "[<code>normalize_batch</code>](http://docs.fast.ai/vision.data.html#normalize_batch)"
  },
  {
   "cell_type": "code",
   "execution_count": null,
   "metadata": {
    "hide_input": true
   },
   "outputs": [],
   "source": "show_doc(normalize_funcs)"
  },
  {
   "cell_type": "markdown",
   "metadata": {},
   "source": "[<code>normalize_funcs</code>](http://docs.fast.ai/vision.data.html#normalize_funcs)"
  },
  {
   "cell_type": "code",
   "execution_count": null,
   "metadata": {
    "hide_input": true
   },
   "outputs": [],
   "source": "show_doc(open_image)"
  },
  {
   "cell_type": "markdown",
   "metadata": {},
   "source": "[<code>open_image</code>](http://docs.fast.ai/vision.image.html#open_image)"
  },
  {
   "cell_type": "code",
   "execution_count": null,
   "metadata": {
    "hide_input": true
   },
   "outputs": [],
   "source": "show_doc(open_mask)"
  },
  {
   "cell_type": "markdown",
   "metadata": {},
   "source": "[<code>open_mask</code>](http://docs.fast.ai/vision.image.html#open_mask)"
  },
  {
   "cell_type": "code",
   "execution_count": null,
   "metadata": {
    "hide_input": true
   },
   "outputs": [],
   "source": "show_doc(pil2tensor)"
  },
  {
   "cell_type": "markdown",
   "metadata": {},
   "source": "[<code>pil2tensor</code>](http://docs.fast.ai/vision.image.html#pil2tensor)"
  },
  {
   "cell_type": "code",
   "execution_count": null,
   "metadata": {
    "hide_input": true
   },
   "outputs": [],
   "source": "show_doc(show_image)"
  },
  {
   "cell_type": "markdown",
   "metadata": {},
   "source": "[<code>show_image</code>](http://docs.fast.ai/vision.image.html#show_image)"
  },
  {
   "cell_type": "code",
   "execution_count": null,
   "metadata": {
    "hide_input": true
   },
   "outputs": [],
   "source": "show_doc(show_image_batch)"
  },
  {
   "cell_type": "markdown",
   "metadata": {},
   "source": "[<code>show_image_batch</code>](http://docs.fast.ai/vision.data.html#show_image_batch)"
  },
  {
   "cell_type": "code",
   "execution_count": null,
   "metadata": {
    "hide_input": true
   },
   "outputs": [],
   "source": "show_doc(show_images)"
  },
  {
   "cell_type": "markdown",
   "metadata": {},
   "source": "[<code>show_images</code>](http://docs.fast.ai/vision.data.html#show_images)"
  },
  {
   "cell_type": "code",
   "execution_count": null,
   "metadata": {
    "hide_input": true
   },
   "outputs": [],
   "source": "show_doc(show_xy_images)"
  },
  {
   "cell_type": "markdown",
   "metadata": {},
   "source": "[<code>show_xy_images</code>](http://docs.fast.ai/vision.data.html#show_xy_images)"
  },
  {
   "cell_type": "code",
   "execution_count": null,
   "metadata": {
    "hide_input": true
   },
   "outputs": [],
   "source": "show_doc(transform_datasets)"
  },
  {
   "cell_type": "markdown",
   "metadata": {},
   "source": "[<code>transform_datasets</code>](http://docs.fast.ai/vision.data.html#transform_datasets)"
  }
 ],
 "metadata": {
  "kernelspec": {
   "display_name": "Python 3",
   "language": "python",
   "name": "python3"
  }
 },
 "nbformat": 4,
 "nbformat_minor": 2
}
