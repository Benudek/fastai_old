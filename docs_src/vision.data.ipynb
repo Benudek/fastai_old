{
 "cells": [
  {
   "cell_type": "markdown",
   "metadata": {},
   "source": "# vision.data"
  },
  {
   "cell_type": "markdown",
   "metadata": {},
   "source": "Type an introduction of the package here."
  },
  {
   "cell_type": "code",
   "execution_count": null,
   "metadata": {
    "hide_input": true
   },
   "outputs": [],
   "source": "from fastai.gen_doc.nbdoc import *\nfrom fastai.vision.data import * "
  },
  {
   "cell_type": "markdown",
   "metadata": {},
   "source": "### Global Variable Definitions:"
  },
  {
   "cell_type": "code",
   "execution_count": null,
   "metadata": {
    "hide_input": true
   },
   "outputs": [],
   "source": "show_doc(CoordTargetDataset)"
  },
  {
   "cell_type": "markdown",
   "metadata": {},
   "source": "`CoordTargetDataset`"
  },
  {
   "cell_type": "code",
   "execution_count": null,
   "metadata": {
    "hide_input": true
   },
   "outputs": [],
   "source": "show_doc(DatasetTfm)"
  },
  {
   "cell_type": "markdown",
   "metadata": {},
   "source": "`DatasetTfm`"
  },
  {
   "cell_type": "code",
   "execution_count": null,
   "metadata": {
    "hide_input": true
   },
   "outputs": [],
   "source": "show_doc(FilesDataset)"
  },
  {
   "cell_type": "markdown",
   "metadata": {},
   "source": "`FilesDataset`"
  },
  {
   "cell_type": "code",
   "execution_count": null,
   "metadata": {
    "hide_input": true
   },
   "outputs": [],
   "source": "show_doc(FilesDataset._folder_files)"
  },
  {
   "cell_type": "markdown",
   "metadata": {},
   "source": "`FilesDataset._folder_files`"
  },
  {
   "cell_type": "code",
   "execution_count": null,
   "metadata": {
    "hide_input": true
   },
   "outputs": [],
   "source": "show_doc(FilesDataset.from_folder)"
  },
  {
   "cell_type": "markdown",
   "metadata": {},
   "source": "`FilesDataset.from_folder`"
  },
  {
   "cell_type": "code",
   "execution_count": null,
   "metadata": {
    "hide_input": true
   },
   "outputs": [],
   "source": "show_doc(FilesDataset.from_single_folder)"
  },
  {
   "cell_type": "markdown",
   "metadata": {},
   "source": "`FilesDataset.from_single_folder`"
  },
  {
   "cell_type": "code",
   "execution_count": null,
   "metadata": {
    "hide_input": true
   },
   "outputs": [],
   "source": "show_doc(SegmentationDataset)"
  },
  {
   "cell_type": "markdown",
   "metadata": {},
   "source": "`SegmentationDataset`"
  },
  {
   "cell_type": "code",
   "execution_count": null,
   "metadata": {
    "hide_input": true
   },
   "outputs": [],
   "source": "show_doc(bb2hw)"
  },
  {
   "cell_type": "markdown",
   "metadata": {},
   "source": "`bb2hw`"
  },
  {
   "cell_type": "code",
   "execution_count": null,
   "metadata": {
    "hide_input": true
   },
   "outputs": [],
   "source": "show_doc(denormalize)"
  },
  {
   "cell_type": "markdown",
   "metadata": {},
   "source": "`denormalize`"
  },
  {
   "cell_type": "code",
   "execution_count": null,
   "metadata": {
    "hide_input": true
   },
   "outputs": [],
   "source": "show_doc(draw_outline)"
  },
  {
   "cell_type": "markdown",
   "metadata": {},
   "source": "`draw_outline`"
  },
  {
   "cell_type": "code",
   "execution_count": null,
   "metadata": {
    "hide_input": true
   },
   "outputs": [],
   "source": "show_doc(draw_rect)"
  },
  {
   "cell_type": "markdown",
   "metadata": {},
   "source": "`draw_rect`"
  },
  {
   "cell_type": "code",
   "execution_count": null,
   "metadata": {
    "hide_input": true
   },
   "outputs": [],
   "source": "show_doc(get_image_files)"
  },
  {
   "cell_type": "markdown",
   "metadata": {},
   "source": "`get_image_files`"
  },
  {
   "cell_type": "code",
   "execution_count": null,
   "metadata": {
    "hide_input": true
   },
   "outputs": [],
   "source": "show_doc(image2np)"
  },
  {
   "cell_type": "markdown",
   "metadata": {},
   "source": "`image2np`"
  },
  {
   "cell_type": "code",
   "execution_count": null,
   "metadata": {
    "hide_input": true
   },
   "outputs": [],
   "source": "show_doc(image_data_from_folder)"
  },
  {
   "cell_type": "markdown",
   "metadata": {},
   "source": "`image_data_from_folder`"
  },
  {
   "cell_type": "code",
   "execution_count": null,
   "metadata": {
    "hide_input": true
   },
   "outputs": [],
   "source": "show_doc(normalize)"
  },
  {
   "cell_type": "markdown",
   "metadata": {},
   "source": "`normalize`"
  },
  {
   "cell_type": "code",
   "execution_count": null,
   "metadata": {
    "hide_input": true
   },
   "outputs": [],
   "source": "show_doc(normalize_batch)"
  },
  {
   "cell_type": "markdown",
   "metadata": {},
   "source": "`normalize_batch`"
  },
  {
   "cell_type": "code",
   "execution_count": null,
   "metadata": {
    "hide_input": true
   },
   "outputs": [],
   "source": "show_doc(normalize_funcs)"
  },
  {
   "cell_type": "markdown",
   "metadata": {},
   "source": "`normalize_funcs`"
  },
  {
   "cell_type": "code",
   "execution_count": null,
   "metadata": {
    "hide_input": true
   },
   "outputs": [],
   "source": "show_doc(open_image)"
  },
  {
   "cell_type": "markdown",
   "metadata": {},
   "source": "`open_image`"
  },
  {
   "cell_type": "code",
   "execution_count": null,
   "metadata": {
    "hide_input": true
   },
   "outputs": [],
   "source": "show_doc(open_mask)"
  },
  {
   "cell_type": "markdown",
   "metadata": {},
   "source": "`open_mask`"
  },
  {
   "cell_type": "code",
   "execution_count": null,
   "metadata": {
    "hide_input": true
   },
   "outputs": [],
   "source": "show_doc(pil2tensor)"
  },
  {
   "cell_type": "markdown",
   "metadata": {},
   "source": "`pil2tensor`"
  },
  {
   "cell_type": "code",
   "execution_count": null,
   "metadata": {
    "hide_input": true
   },
   "outputs": [],
   "source": "show_doc(show_image)"
  },
  {
   "cell_type": "markdown",
   "metadata": {},
   "source": "`show_image`"
  },
  {
   "cell_type": "code",
   "execution_count": null,
   "metadata": {
    "hide_input": true
   },
   "outputs": [],
   "source": "show_doc(show_image_batch)"
  },
  {
   "cell_type": "markdown",
   "metadata": {},
   "source": "`show_image_batch`"
  },
  {
   "cell_type": "code",
   "execution_count": null,
   "metadata": {
    "hide_input": true
   },
   "outputs": [],
   "source": "show_doc(show_images)"
  },
  {
   "cell_type": "markdown",
   "metadata": {},
   "source": "`show_images`"
  },
  {
   "cell_type": "code",
   "execution_count": null,
   "metadata": {
    "hide_input": true
   },
   "outputs": [],
   "source": "show_doc(show_xy_images)"
  },
  {
   "cell_type": "markdown",
   "metadata": {},
   "source": "`show_xy_images`"
  },
  {
   "cell_type": "code",
   "execution_count": null,
   "metadata": {
    "hide_input": true
   },
   "outputs": [],
   "source": "show_doc(transform_datasets)"
  },
  {
   "cell_type": "markdown",
   "metadata": {},
   "source": "`transform_datasets`"
  }
 ],
 "metadata": {
  "kernelspec": {
   "display_name": "Python 3",
   "language": "python",
   "name": "python3"
  }
 },
 "nbformat": 4,
 "nbformat_minor": 2
}
