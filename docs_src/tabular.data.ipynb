{
 "cells": [
  {
   "cell_type": "markdown",
   "metadata": {},
   "source": "# tabular.data"
  },
  {
   "cell_type": "markdown",
   "metadata": {},
   "source": "Type an introduction of the package here."
  },
  {
   "cell_type": "code",
   "execution_count": null,
   "metadata": {
    "hide_input": true
   },
   "outputs": [],
   "source": "from fastai.gen_doc.nbdoc import *\nfrom fastai.tabular.data import * "
  },
  {
   "cell_type": "markdown",
   "metadata": {},
   "source": "### Global Variable Definitions:"
  },
  {
   "cell_type": "code",
   "execution_count": null,
   "metadata": {
    "hide_input": true
   },
   "outputs": [
    {
     "data": {
      "text/markdown": "### <a id=TabularDataset></a><em>class</em> `TabularDataset`\n(<code>df</code>:<code>DataFrame</code>, <code>dep_var</code>:<code>str</code>, <code>cat_names</code>:`Optional`[<code>Collection</code>[<code>str</code>]]=`None`, <code>cont_names</code>:`Optional`[<code>Collection</code>[<code>str</code>]]=`None`, <code>stats</code>:`Optional`[<code>Tuple</code>[<code>ndarray</code>, <code>ndarray</code>]]=`None`, <code>log_output</code>:<code>bool</code>=`False`) :: Inherits ([<code>DatasetBase</code>](fastai.data.html#DatasetBase))<div style=\"text-align: right\"><a href=\"https://github.com/fastai/fastai_pytorch/blob/master/fastai/tabular/data.py#L10\">[source]</a></div>\n\n\nClass for tabular data",
      "text/plain": "<IPython.core.display.Markdown object>"
     },
     "metadata": {},
     "output_type": "display_data"
    }
   ],
   "source": "show_doc(TabularDataset)"
  },
  {
   "cell_type": "markdown",
   "metadata": {},
   "source": "[<code>TabularDataset</code>](fastai.tabular.data.html#TabularDataset)"
  },
  {
   "cell_type": "code",
   "execution_count": null,
   "metadata": {
    "hide_input": true
   },
   "outputs": [
    {
     "data": {
      "text/markdown": "#### <a id=from_dataframe></a>`from_dataframe`\n(<code>df</code>:<code>DataFrame</code>, <code>dep_var</code>:<code>str</code>, <code>tfms</code>:`Optional`[<code>Collection</code>[[<code>TabularTransform</code>](fastai.tabular.transform.html#TabularTransform)]]=`None`, <code>cat_names</code>:`Optional`[<code>Collection</code>[<code>str</code>]]=`None`, <code>cont_names</code>:`Optional`[<code>Collection</code>[<code>str</code>]]=`None`, <code>stats</code>:`Optional`[<code>Tuple</code>[<code>ndarray</code>, <code>ndarray</code>]]=`None`, <code>log_output</code>:<code>bool</code>=`False`) -> <code>str</code><div style=\"text-align: right\"><a href=\"https://github.com/fastai/fastai_pytorch/blob/master/fastai/tabular/data.py#L39\">[source]</a></div>\n\n\nCreates a tabular dataframe from df after applying optional transforms",
      "text/plain": "<IPython.core.display.Markdown object>"
     },
     "metadata": {},
     "output_type": "display_data"
    }
   ],
   "source": "show_doc(TabularDataset.from_dataframe)"
  },
  {
   "cell_type": "markdown",
   "metadata": {},
   "source": "`TabularDataset.from_dataframe`"
  },
  {
   "cell_type": "code",
   "execution_count": null,
   "metadata": {
    "hide_input": true
   },
   "outputs": [
    {
     "data": {
      "text/markdown": "#### <a id=tabular_data_from_df></a>`tabular_data_from_df`\n(<code>path</code>, <code>train_df</code>:<code>DataFrame</code>, <code>valid_df</code>:<code>DataFrame</code>, <code>dep_var</code>:<code>str</code>, <code>test_df</code>:`Optional`[<code>DataFrame</code>]=`None`, <code>tfms</code>:`Optional`[<code>Collection</code>[[<code>TabularTransform</code>](fastai.tabular.transform.html#TabularTransform)]]=`None`, <code>cat_names</code>:`Optional`[<code>Collection</code>[<code>str</code>]]=`None`, <code>cont_names</code>:`Optional`[<code>Collection</code>[<code>str</code>]]=`None`, <code>stats</code>:`Optional`[<code>Tuple</code>[<code>ndarray</code>, <code>ndarray</code>]]=`None`, <code>log_output</code>:<code>bool</code>=`False`, <code>kwargs</code>) -> [<code>DataBunch</code>](fastai.data.html#DataBunch)<div style=\"text-align: right\"><a href=\"https://github.com/fastai/fastai_pytorch/blob/master/fastai/tabular/data.py#L57\">[source]</a></div>\n\n\nCreates a [<code>DataBunch</code>](fastai.data.html#DataBunch) from train/valid/test dataframes.",
      "text/plain": "<IPython.core.display.Markdown object>"
     },
     "metadata": {},
     "output_type": "display_data"
    }
   ],
   "source": "show_doc(tabular_data_from_df)"
  },
  {
   "cell_type": "markdown",
   "metadata": {},
   "source": "[<code>tabular_data_from_df</code>](fastai.tabular.data.html#tabular_data_from_df)"
  }
 ],
 "metadata": {
  "kernelspec": {
   "display_name": "Python 3",
   "language": "python",
   "name": "python3"
  }
 },
 "nbformat": 4,
 "nbformat_minor": 2
}
